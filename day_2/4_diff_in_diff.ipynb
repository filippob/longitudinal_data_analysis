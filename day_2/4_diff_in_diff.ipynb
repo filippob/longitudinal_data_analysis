{
  "nbformat": 4,
  "nbformat_minor": 0,
  "metadata": {
    "colab": {
      "provenance": []
    },
    "kernelspec": {
      "name": "python3",
      "display_name": "Python 3"
    },
    "language_info": {
      "name": "python"
    }
  },
  "cells": [
    {
      "cell_type": "markdown",
      "source": [
        "# Difference-in-differences\n",
        "\n",
        "## A little background\n",
        "\n",
        "Differences in the outcome variable (Y), i.e. a before-after comparison\n",
        "(e.g. treatment vs control):\n",
        "\n",
        "-   observations from regions that underwent intervention vs.\n",
        "    observations from regions where the intervention did not take place\n",
        "    -   treatment = intervention\n",
        "    -   time = before/after\n",
        "-   observations from a region before and after the intervention\n",
        "    -   treatment = intervention\n",
        "    -   synthetic control needed\n",
        "\n",
        "**The main assumption is that without the change in the environment\n",
        "(intervention/policy etc.) the outcome variable would have remained\n",
        "constant!**\n",
        "\n",
        "The **diff-in-diff** approach includes a before-after comparison for a\n",
        "**treatment** and **control** group. This is a combination of:\n",
        "\n",
        "-   a *cross-sectional comparison* (treated vs non-treated control\n",
        "    group)\n",
        "-   a **before-after** (*longitudinal*) **comparison** (treatment group\n",
        "    with itself, before and after the treatment)\n",
        "\n",
        "The before-after difference in the treatment group gets a correction, by\n",
        "accounting for the before-after difference in the control group,\n",
        "eliminating the trend problem.\n",
        "\n",
        "To obtain an unbiased estimate of the treatment effect one needs to make\n",
        "a parallel trend assumption. That means without the change in the\n",
        "environment, the change in the outcome variable would have been the same\n",
        "for the two groups (**counterfactual** outcome).\n",
        "\n",
        "The validity of the diff-in-diff approach is closely related to the\n",
        "similarity of the treatment and control groups. Hence, some plausibility\n",
        "checks should be conducted:\n",
        "\n",
        "-   compute placebo-diff-in-diff for periods without a change in the\n",
        "    environment\n",
        "-   for (longer) time series: check and demonstrate the parallel time\n",
        "    trends\n",
        "-   use an alternative control group (if available, or synthetic): the\n",
        "    estimate should be the same\n",
        "-   replace **y** by an alternative outcome which is known to be\n",
        "    independent of the treatment (the diff-in-diff estimator should be\n",
        "    0)  \n",
        "\n",
        "## Diff-in-diff by hand\n",
        "\n",
        "First, we walk through the calculations without using an explicit model."
      ],
      "metadata": {
        "id": "3iRTJ8X1Hbyj"
      }
    },
    {
      "cell_type": "markdown",
      "source": [
        "### Injury dataset\n",
        "\n",
        "This dataset comes from the R package **wooldridge**\n",
        "([here](https://cran.r-project.org/web/packages/wooldridge/index.html)).\n",
        "\n",
        "-   **1980**: new policy (Kentucky) on raised weekly earnings that were\n",
        "    covered by worker's compensation (more after-injury benefits for\n",
        "    high-earners).\n",
        "-   **Research question**: has this new policy caused higher earning\n",
        "    workers to spend more time injured? (generous benefits may cause\n",
        "    higher earning workers to be more reckless on the job, or to claim\n",
        "    that off-the-job injuries were incurred while at work, or to prefer\n",
        "    injury benefits rather than keep on working - for mild injuries at\n",
        "    least)"
      ],
      "metadata": {
        "id": "VvFIIf1VHtUl"
      }
    },
    {
      "cell_type": "code",
      "source": [
        "import numpy as np ## arrays\n",
        "import pandas as pd ## dataframes\n",
        "import seaborn as sns ## plots\n",
        "import statsmodels.api as sm ## statistical models\n",
        "import matplotlib.pyplot as plt ## plots"
      ],
      "metadata": {
        "id": "ZevY_olKIQll"
      },
      "execution_count": null,
      "outputs": []
    },
    {
      "cell_type": "code",
      "execution_count": null,
      "metadata": {
        "id": "dyTwxecOHaff"
      },
      "outputs": [],
      "source": [
        "url = \"https://raw.githubusercontent.com/filippob/longitudinal_data_analysis/refs/heads/main/data/injury/injury.csv\"\n",
        "injury = pd.read_csv(url)\n",
        "\n",
        "injury"
      ]
    },
    {
      "cell_type": "markdown",
      "source": [
        "### Preprocessing\n",
        "\n",
        "Rename columns:"
      ],
      "metadata": {
        "id": "MUQumSd1IiYv"
      }
    },
    {
      "cell_type": "code",
      "source": [
        "injury = injury.rename(columns={'durat': \"duration\", 'log_duration': \"ldurat\",\n",
        "                                'afchnge': \"after_1980\", 'highearn': \"earnings\"})\n",
        "\n",
        "injury"
      ],
      "metadata": {
        "id": "pLOHQLAyIYrI"
      },
      "execution_count": null,
      "outputs": []
    },
    {
      "cell_type": "markdown",
      "source": [
        "-   `duration`: duration of injury benefits, measured in weeks\n",
        "\n",
        "-   `log_duration`: `log(duration)` [natural logarithm]\n",
        "\n",
        "-   `after_1980`: observation happened before (0) or after (1) the\n",
        "    policy change in 1980. This is our time (or before/after variable)\n",
        "\n",
        "    <!-- - `policy`: states that implemented (Kentucky, `1`) or not (other states, `0`) the policy on unemployment benefits //-->\n",
        "\n",
        "-   `highearn`: observation is a low (0) or high (1) earner. This is our\n",
        "    group (or treatment/control) variable: there was no change for low\n",
        "    earners (same benefits), while higher earners now have benefits that\n",
        "    they did not have earlier"
      ],
      "metadata": {
        "id": "qboFJb3RKnme"
      }
    },
    {
      "cell_type": "code",
      "source": [
        "# Create 'earnings' as a categorical variable\n",
        "injury['earnings'] = np.where(injury['earnings'] == 0, 'low-income', 'high-income')\n",
        "\n",
        "# Create 'after_1980' as a categorical variable\n",
        "injury['after_1980'] = np.where(injury['after_1980'] == 0, 'before', 'after')\n",
        "\n",
        "injury"
      ],
      "metadata": {
        "id": "BPxXin5TJr7H"
      },
      "execution_count": null,
      "outputs": []
    },
    {
      "cell_type": "markdown",
      "source": [
        "### EDA"
      ],
      "metadata": {
        "id": "HnbyNpX9K8pf"
      }
    },
    {
      "cell_type": "code",
      "source": [
        "# Set up the FacetGrid\n",
        "g = sns.FacetGrid(injury, col=\"earnings\", height=4, aspect=1.2)\n",
        "\n",
        "# Map a histogram with bin width = 8 and white edges\n",
        "g.map_dataframe(sns.histplot, x=\"duration\", binwidth=8, edgecolor=\"white\", binrange=(0, injury[\"duration\"].max()))\n",
        "\n",
        "# Add titles and layout\n",
        "g.set_axis_labels(\"Duration\", \"Count\")\n",
        "g.set_titles(col_template=\"{col_name}\")\n",
        "plt.tight_layout()\n",
        "plt.show()"
      ],
      "metadata": {
        "id": "zr3GDmxCK2CQ"
      },
      "execution_count": null,
      "outputs": []
    },
    {
      "cell_type": "markdown",
      "source": [
        "The distribution is really skewed, with most persons in both groups\n",
        "getting the lowest range of benefits weeks. Using the logarithm of\n",
        "duration would change this, making the distribution of the $y$ more\n",
        "\"gaussian\", hence more amenable to be analysed with linear regression\n",
        "models."
      ],
      "metadata": {
        "id": "eT0l9z5SLXGf"
      }
    },
    {
      "cell_type": "code",
      "source": [
        "injury['log_duration'] = np.log(injury['duration'])\n",
        "\n",
        "# Set up faceted histogram\n",
        "g = sns.FacetGrid(injury, col=\"earnings\", height=4, aspect=1.2)\n",
        "g.map_dataframe(\n",
        "    sns.histplot,\n",
        "    x=\"log_duration\",\n",
        "    binwidth=0.5,\n",
        "    edgecolor=\"white\",\n",
        "    binrange=(0, injury['log_duration'].max())\n",
        ")\n",
        "\n",
        "# Label axes and layout\n",
        "g.set_axis_labels(\"Log(Duration)\", \"Count\")\n",
        "g.set_titles(col_template=\"{col_name}\")\n",
        "plt.tight_layout()\n",
        "plt.show()"
      ],
      "metadata": {
        "id": "NdUD-kZ5LRc4"
      },
      "execution_count": null,
      "outputs": []
    },
    {
      "cell_type": "markdown",
      "source": [
        "Let's plot average log-durations in the two groups, before and after the\n",
        "implementation of the policy: we see that higher-income workers had\n",
        "already a higher n. of injury-benefits weeks before the new policy\n",
        "(maybe workers that do riskier jobs are paid better). With the new\n",
        "policy, this seems emphasized."
      ],
      "metadata": {
        "id": "dlHMr9ulMnJD"
      }
    },
    {
      "cell_type": "code",
      "source": [
        "# Create plot\n",
        "g = sns.FacetGrid(injury, col=\"after_1980\", height=4, aspect=1.2)\n",
        "\n",
        "# Plot individual points\n",
        "g.map_dataframe(\n",
        "    sns.stripplot,\n",
        "    x=\"earnings\", y=\"log_duration\",\n",
        "    size=2, alpha=0.2, jitter=True\n",
        ")\n",
        "\n",
        "# Overlay group means\n",
        "def add_group_means(data, **kwargs):\n",
        "    means = data.groupby(\"earnings\")[\"log_duration\"].mean()\n",
        "    for i, (x_cat, mean_val) in enumerate(means.items()):\n",
        "        plt.scatter(i, mean_val, color='red', s=50, zorder=3)\n",
        "\n",
        "g.map_dataframe(add_group_means)\n",
        "\n",
        "# Label axes\n",
        "g.set_axis_labels(\"policy\", \"log(Duration)\")\n",
        "g.set_titles(col_template=\"{col_name}\")\n",
        "\n",
        "plt.tight_layout()\n",
        "plt.show()"
      ],
      "metadata": {
        "id": "KMiCQkk-L18B"
      },
      "execution_count": null,
      "outputs": []
    },
    {
      "cell_type": "code",
      "source": [],
      "metadata": {
        "id": "bL6Fq6C1Mx3M"
      },
      "execution_count": null,
      "outputs": []
    }
  ]
}
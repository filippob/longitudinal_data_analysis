{
  "nbformat": 4,
  "nbformat_minor": 0,
  "metadata": {
    "colab": {
      "provenance": []
    },
    "kernelspec": {
      "name": "python3",
      "display_name": "Python 3"
    },
    "language_info": {
      "name": "python"
    }
  },
  "cells": [
    {
      "cell_type": "markdown",
      "source": [
        "# Difference-in-differences\n",
        "\n",
        "## A little background\n",
        "\n",
        "Differences in the outcome variable (Y), i.e. a before-after comparison\n",
        "(e.g. treatment vs control):\n",
        "\n",
        "-   observations from regions that underwent intervention vs.\n",
        "    observations from regions where the intervention did not take place\n",
        "    -   treatment = intervention\n",
        "    -   time = before/after\n",
        "-   observations from a region before and after the intervention\n",
        "    -   treatment = intervention\n",
        "    -   synthetic control needed\n",
        "\n",
        "**The main assumption is that without the change in the environment\n",
        "(intervention/policy etc.) the outcome variable would have remained\n",
        "constant!**\n",
        "\n",
        "The **diff-in-diff** approach includes a before-after comparison for a\n",
        "**treatment** and **control** group. This is a combination of:\n",
        "\n",
        "-   a *cross-sectional comparison* (treated vs non-treated control\n",
        "    group)\n",
        "-   a **before-after** (*longitudinal*) **comparison** (treatment group\n",
        "    with itself, before and after the treatment)\n",
        "\n",
        "The before-after difference in the treatment group gets a correction, by\n",
        "accounting for the before-after difference in the control group,\n",
        "eliminating the trend problem.\n",
        "\n",
        "To obtain an unbiased estimate of the treatment effect one needs to make\n",
        "a parallel trend assumption. That means without the change in the\n",
        "environment, the change in the outcome variable would have been the same\n",
        "for the two groups (**counterfactual** outcome).\n",
        "\n",
        "The validity of the diff-in-diff approach is closely related to the\n",
        "similarity of the treatment and control groups. Hence, some plausibility\n",
        "checks should be conducted:\n",
        "\n",
        "-   compute placebo-diff-in-diff for periods without a change in the\n",
        "    environment\n",
        "-   for (longer) time series: check and demonstrate the parallel time\n",
        "    trends\n",
        "-   use an alternative control group (if available, or synthetic): the\n",
        "    estimate should be the same\n",
        "-   replace **y** by an alternative outcome which is known to be\n",
        "    independent of the treatment (the diff-in-diff estimator should be\n",
        "    0)  \n",
        "\n",
        "## Diff-in-diff by hand\n",
        "\n",
        "First, we walk through the calculations without using an explicit model."
      ],
      "metadata": {
        "id": "3iRTJ8X1Hbyj"
      }
    },
    {
      "cell_type": "markdown",
      "source": [
        "### Injury dataset\n",
        "\n",
        "This dataset comes from the R package **wooldridge**\n",
        "([here](https://cran.r-project.org/web/packages/wooldridge/index.html)).\n",
        "\n",
        "-   **1980**: new policy (Kentucky) on raised weekly earnings that were\n",
        "    covered by worker's compensation (more after-injury benefits for\n",
        "    high-earners).\n",
        "-   **Research question**: has this new policy caused higher earning\n",
        "    workers to spend more time injured? (generous benefits may cause\n",
        "    higher earning workers to be more reckless on the job, or to claim\n",
        "    that off-the-job injuries were incurred while at work, or to prefer\n",
        "    injury benefits rather than keep on working - for mild injuries at\n",
        "    least)"
      ],
      "metadata": {
        "id": "VvFIIf1VHtUl"
      }
    },
    {
      "cell_type": "code",
      "source": [
        "import numpy as np ## arrays\n",
        "import pandas as pd ## dataframes\n",
        "import seaborn as sns ## plots\n",
        "import statsmodels.api as sm ## statistical models\n",
        "import matplotlib.pyplot as plt ## plots"
      ],
      "metadata": {
        "id": "ZevY_olKIQll"
      },
      "execution_count": null,
      "outputs": []
    },
    {
      "cell_type": "code",
      "execution_count": null,
      "metadata": {
        "id": "dyTwxecOHaff"
      },
      "outputs": [],
      "source": [
        "url = \"https://raw.githubusercontent.com/filippob/longitudinal_data_analysis/refs/heads/main/data/injury/injury.csv\"\n",
        "injury = pd.read_csv(url)\n",
        "\n",
        "injury"
      ]
    },
    {
      "cell_type": "markdown",
      "source": [
        "### Preprocessing\n",
        "\n",
        "Rename columns:"
      ],
      "metadata": {
        "id": "MUQumSd1IiYv"
      }
    },
    {
      "cell_type": "code",
      "source": [
        "injury = injury.rename(columns={'durat': \"duration\", 'log_duration': \"ldurat\",\n",
        "                                'afchnge': \"after_1980\", 'highearn': \"earnings\"})\n",
        "\n",
        "injury"
      ],
      "metadata": {
        "id": "pLOHQLAyIYrI"
      },
      "execution_count": null,
      "outputs": []
    },
    {
      "cell_type": "markdown",
      "source": [
        "-   `duration`: duration of injury benefits, measured in weeks\n",
        "\n",
        "-   `log_duration`: `log(duration)` [natural logarithm]\n",
        "\n",
        "-   `after_1980`: observation happened before (0) or after (1) the\n",
        "    policy change in 1980. This is our time (or before/after variable)\n",
        "\n",
        "    <!-- - `policy`: states that implemented (Kentucky, `1`) or not (other states, `0`) the policy on unemployment benefits //-->\n",
        "\n",
        "-   `highearn`: observation is a low (0) or high (1) earner. This is our\n",
        "    group (or treatment/control) variable: there was no change for low\n",
        "    earners (same benefits), while higher earners now have benefits that\n",
        "    they did not have earlier"
      ],
      "metadata": {
        "id": "qboFJb3RKnme"
      }
    },
    {
      "cell_type": "code",
      "source": [
        "# Create 'earnings' as a categorical variable\n",
        "injury['earnings'] = np.where(injury['earnings'] == 0, 'low-income', 'high-income')\n",
        "\n",
        "# Create 'after_1980' as a categorical variable\n",
        "injury['after_1980'] = np.where(injury['after_1980'] == 0, 'before', 'after')\n",
        "\n",
        "injury"
      ],
      "metadata": {
        "id": "BPxXin5TJr7H"
      },
      "execution_count": null,
      "outputs": []
    },
    {
      "cell_type": "code",
      "source": [
        "injury[\"after_1980\"] = pd.Categorical(injury[\"after_1980\"], [\"before\", \"after\"])"
      ],
      "metadata": {
        "id": "xBVJ15Xmf6Kz"
      },
      "execution_count": null,
      "outputs": []
    },
    {
      "cell_type": "markdown",
      "source": [
        "### EDA"
      ],
      "metadata": {
        "id": "HnbyNpX9K8pf"
      }
    },
    {
      "cell_type": "code",
      "source": [
        "# Set up the FacetGrid\n",
        "g = sns.FacetGrid(injury, col=\"earnings\", height=4, aspect=1.2)\n",
        "\n",
        "# Map a histogram with bin width = 8 and white edges\n",
        "g.map_dataframe(sns.histplot, x=\"duration\", binwidth=8, edgecolor=\"white\", binrange=(0, injury[\"duration\"].max()))\n",
        "\n",
        "# Add titles and layout\n",
        "g.set_axis_labels(\"Duration\", \"Count\")\n",
        "g.set_titles(col_template=\"{col_name}\")\n",
        "plt.tight_layout()\n",
        "plt.show()"
      ],
      "metadata": {
        "id": "zr3GDmxCK2CQ"
      },
      "execution_count": null,
      "outputs": []
    },
    {
      "cell_type": "markdown",
      "source": [
        "The distribution is really skewed, with most persons in both groups\n",
        "getting the lowest range of benefits weeks. Using the logarithm of\n",
        "duration would change this, making the distribution of the $y$ more\n",
        "\"gaussian\", hence more amenable to be analysed with linear regression\n",
        "models."
      ],
      "metadata": {
        "id": "eT0l9z5SLXGf"
      }
    },
    {
      "cell_type": "code",
      "source": [
        "injury['log_duration'] = np.log(injury['duration'])\n",
        "\n",
        "# Set up faceted histogram\n",
        "g = sns.FacetGrid(injury, col=\"earnings\", height=4, aspect=1.2)\n",
        "g.map_dataframe(\n",
        "    sns.histplot,\n",
        "    x=\"log_duration\",\n",
        "    binwidth=0.5,\n",
        "    edgecolor=\"white\",\n",
        "    binrange=(0, injury['log_duration'].max())\n",
        ")\n",
        "\n",
        "# Label axes and layout\n",
        "g.set_axis_labels(\"Log(Duration)\", \"Count\")\n",
        "g.set_titles(col_template=\"{col_name}\")\n",
        "plt.tight_layout()\n",
        "plt.show()"
      ],
      "metadata": {
        "id": "NdUD-kZ5LRc4"
      },
      "execution_count": null,
      "outputs": []
    },
    {
      "cell_type": "markdown",
      "source": [
        "Let's plot average log-durations in the two groups, before and after the\n",
        "implementation of the policy: we see that higher-income workers had\n",
        "already a higher n. of injury-benefits weeks before the new policy\n",
        "(maybe workers that do riskier jobs are paid better). With the new\n",
        "policy, this seems emphasized."
      ],
      "metadata": {
        "id": "dlHMr9ulMnJD"
      }
    },
    {
      "cell_type": "code",
      "source": [
        "# Create plot\n",
        "g = sns.FacetGrid(injury, col=\"after_1980\", height=4, aspect=1.2)\n",
        "\n",
        "# Plot individual points\n",
        "g.map_dataframe(\n",
        "    sns.stripplot,\n",
        "    x=\"earnings\", y=\"log_duration\",\n",
        "    size=2, alpha=0.5, jitter=False\n",
        ")\n",
        "\n",
        "# Overlay group means\n",
        "def add_group_means(data, **kwargs):\n",
        "    means = data.groupby(\"earnings\")[\"log_duration\"].mean()\n",
        "    for i, (x_cat, mean_val) in enumerate(means.items()):\n",
        "        plt.scatter(i, mean_val, color='red', s=50, zorder=3)\n",
        "\n",
        "g.map_dataframe(add_group_means)\n",
        "\n",
        "# Label axes\n",
        "g.set_axis_labels(\"policy\", \"log(Duration)\")\n",
        "g.set_titles(col_template=\"{col_name}\")\n",
        "\n",
        "plt.tight_layout()\n",
        "plt.show()"
      ],
      "metadata": {
        "id": "KMiCQkk-L18B"
      },
      "execution_count": null,
      "outputs": []
    },
    {
      "cell_type": "code",
      "source": [
        "# Compute group means and 95% confidence intervals\n",
        "plot_data = (\n",
        "    injury\n",
        "    .groupby(['earnings', 'after_1980'])\n",
        "    .agg(\n",
        "        mean_duration=('log_duration', 'mean'),\n",
        "        se_duration=('log_duration', lambda x: x.std(ddof=1) / np.sqrt(len(x)))\n",
        "    )\n",
        "    .reset_index()\n",
        ")\n",
        "\n",
        "# Add 95% confidence intervals\n",
        "plot_data['upper'] = plot_data['mean_duration'] + 1.96 * plot_data['se_duration']\n",
        "plot_data['lower'] = plot_data['mean_duration'] - 1.96 * plot_data['se_duration']"
      ],
      "metadata": {
        "id": "bL6Fq6C1Mx3M"
      },
      "execution_count": null,
      "outputs": []
    },
    {
      "cell_type": "code",
      "source": [
        "plot_data"
      ],
      "metadata": {
        "id": "D-mkOEyRSS7U"
      },
      "execution_count": null,
      "outputs": []
    },
    {
      "cell_type": "code",
      "source": [
        "## to suppress warnings with plots\n",
        "\n",
        "import warnings\n",
        "warnings.filterwarnings('ignore')"
      ],
      "metadata": {
        "id": "Osd6l3hUSPbc"
      },
      "execution_count": null,
      "outputs": []
    },
    {
      "cell_type": "code",
      "source": [
        "\n",
        "# Plot point estimates without error bars first\n",
        "g = sns.FacetGrid(plot_data, col=\"after_1980\", height=4, aspect=1.2)\n",
        "g.map_dataframe(\n",
        "    sns.pointplot,\n",
        "    x=\"earnings\", y=\"mean_duration\",\n",
        "    join=False, color=\"darkgreen\", errorbar=None,\n",
        "    order=[\"low-income\", \"high-income\"]\n",
        ")\n",
        "\n",
        "# Function to add error bars correctly\n",
        "def add_error_bars(data, **kwargs):\n",
        "    ax = plt.gca()\n",
        "    earnings_order = [\"low-income\", \"high-income\"]\n",
        "    for i, row in data.iterrows():\n",
        "        x_pos = earnings_order.index(row['earnings'])  # categorical x-position\n",
        "        ax.errorbar(\n",
        "            x=x_pos,\n",
        "            y=row['mean_duration'],\n",
        "            yerr=[[row['mean_duration'] - row['lower']], [row['upper'] - row['mean_duration']]],\n",
        "            fmt='none', ecolor='darkgreen', capsize=4, linewidth=1\n",
        "        )\n",
        "\n",
        "# Apply error bar overlay\n",
        "g.map_dataframe(add_error_bars)\n",
        "\n",
        "# Label and layout\n",
        "g.set_axis_labels(\"policy\", \"mean duration (log scale)\")\n",
        "g.set_titles(col_template=\"{col_name}\")\n",
        "plt.tight_layout()\n",
        "plt.show()"
      ],
      "metadata": {
        "id": "KaegFlgOTmuo"
      },
      "execution_count": null,
      "outputs": []
    },
    {
      "cell_type": "markdown",
      "source": [
        "We can now see the change, in terms of number of weeks of injury\n",
        "benefits (log scale) before and after the new policy, in the two groups:"
      ],
      "metadata": {
        "id": "yBcrV0rvTtMh"
      }
    },
    {
      "cell_type": "code",
      "source": [
        "# Ensure proper categorical order\n",
        "plot_data['after_1980'] = pd.Categorical(plot_data['after_1980'], categories=[\"before\", \"after\"], ordered=True)\n",
        "\n",
        "# Create plot with grouped lines and CI bars\n",
        "plt.figure(figsize=(6, 4))\n",
        "for earning_group in [\"low-income\", \"high-income\"]:\n",
        "    group_data = plot_data[plot_data[\"earnings\"] == earning_group]\n",
        "    sns.lineplot(\n",
        "        data=group_data,\n",
        "        x=\"after_1980\",\n",
        "        y=\"mean_duration\",\n",
        "        label=earning_group,\n",
        "        marker=\"o\",\n",
        "        color=\"C0\" if earning_group == \"low-income\" else \"C1\"\n",
        "    )\n",
        "\n",
        "    # Add error bars manually\n",
        "    plt.errorbar(\n",
        "        x=group_data[\"after_1980\"],\n",
        "        y=group_data[\"mean_duration\"],\n",
        "        yerr=[\n",
        "            group_data[\"mean_duration\"] - group_data[\"lower\"],\n",
        "            group_data[\"upper\"] - group_data[\"mean_duration\"]\n",
        "        ],\n",
        "        fmt='none',\n",
        "        ecolor=\"C0\" if earning_group == \"low-income\" else \"C1\",\n",
        "        capsize=4,\n",
        "        linewidth=1\n",
        "    )\n",
        "\n",
        "# Final plot formatting\n",
        "plt.xlabel(\"policy\")\n",
        "plt.ylabel(\"mean duration (log scale)\")\n",
        "plt.legend(title=\"Earnings\")\n",
        "plt.tight_layout()\n",
        "plt.show()"
      ],
      "metadata": {
        "id": "AbN9Wp0hUiBc"
      },
      "execution_count": null,
      "outputs": []
    },
    {
      "cell_type": "markdown",
      "source": [
        "## Diff-in-diff by hand\n",
        "\n",
        "After having explored the data, we can now actually calculate the\n",
        "estimate of the **difference in differences** for the two groups:\n",
        "difference between after-before differences in high vs low income\n",
        "workers."
      ],
      "metadata": {
        "id": "Wcei0mb-WdNa"
      }
    },
    {
      "cell_type": "code",
      "source": [
        "diffs = (\n",
        "    injury.groupby(['after_1980', 'earnings'], as_index=False).agg({'log_duration' : 'mean', 'duration' : 'mean'}).round(2)\n",
        ")\n",
        "\n",
        "diffs"
      ],
      "metadata": {
        "id": "qd8aADDxV2zm"
      },
      "execution_count": null,
      "outputs": []
    },
    {
      "cell_type": "markdown",
      "source": [
        "#### After - before differences"
      ],
      "metadata": {
        "id": "st-96m93labl"
      }
    },
    {
      "cell_type": "code",
      "source": [
        "dd = diffs.drop(columns='duration').pivot(index = \"earnings\", columns = 'after_1980', values = 'log_duration')\n",
        "dd['diff'] = dd['after'] - dd['before']\n",
        "dd"
      ],
      "metadata": {
        "id": "KnqadEW5jYYU"
      },
      "execution_count": null,
      "outputs": []
    },
    {
      "cell_type": "markdown",
      "source": [
        "#### High income - low income differences"
      ],
      "metadata": {
        "id": "9gw-mCBJlCJB"
      }
    },
    {
      "cell_type": "code",
      "source": [
        "df = pd.DataFrame(-np.diff(dd, axis=0))\n",
        "df.columns = ['before','after','diff']\n",
        "df.rename(index={0:'diff'},inplace=True)\n",
        "df"
      ],
      "metadata": {
        "id": "qutwZC6ojHBl"
      },
      "execution_count": null,
      "outputs": []
    },
    {
      "cell_type": "markdown",
      "source": [
        "#### Difference in differences"
      ],
      "metadata": {
        "id": "Vws7K6AQyi5w"
      }
    },
    {
      "cell_type": "code",
      "source": [
        "dd = pd.concat([dd,df])\n",
        "dd"
      ],
      "metadata": {
        "id": "BtShZnBfwmRB"
      },
      "execution_count": null,
      "outputs": []
    },
    {
      "cell_type": "markdown",
      "source": [
        "The **diff-in-diff estimate** is 0.20, which means that the program\n",
        "causes an increase in unemployment duration of 0.20 log(weeks). For\n",
        "*log-linear models* ($log(y) = \\mu + \\beta x + e$), this translates to\n",
        "$e^{0.20}=1.2$ weeks.\n",
        "\n",
        "This is shown graphically in the plot below: the dashed gray line is the\n",
        "**counterfactual**."
      ],
      "metadata": {
        "id": "Vwd0_hyayrm4"
      }
    },
    {
      "cell_type": "code",
      "source": [
        "from plotnine import (\n",
        "    ggplot, aes, geom_point, geom_line, annotate, labs, theme_minimal\n",
        ")\n",
        "\n",
        "dd['earnings'] = dd.index\n",
        "dd\n"
      ],
      "metadata": {
        "id": "wzmDqlrhyJpw"
      },
      "execution_count": null,
      "outputs": []
    },
    {
      "cell_type": "code",
      "source": [
        "g = (\n",
        "    ggplot(diffs, aes(x='after_1980', y='log_duration', color='earnings')) +\n",
        "    geom_point() +\n",
        "    geom_line(aes(group='earnings')) +\n",
        "\n",
        "    # Dashed segment: from before to after\n",
        "    annotate(\"segment\",\n",
        "             x='before', xend='after',\n",
        "             y=dd.iloc[0, 0], yend=dd.iloc[0, 1] - dd.iloc[2, 2],\n",
        "             linetype='dashed', color='gray') +\n",
        "\n",
        "    # Dotted vertical segment at 'after'\n",
        "    annotate(\"segment\",\n",
        "             x='after', xend='after',\n",
        "             y=dd.iloc[0, 1], yend=dd.iloc[0, 1] - dd.iloc[2, 2],\n",
        "             linetype='dotted', color='blue') +\n",
        "\n",
        "    # Label annotation for \"Program effect\"\n",
        "    annotate(\"label\",\n",
        "             x='after',\n",
        "             y=dd.iloc[0, 1] - (dd.iloc[1, 2] / 2),\n",
        "             label='Program effect', size=8) +  # Size is larger in plotnine\n",
        "    theme_minimal()\n",
        ")"
      ],
      "metadata": {
        "id": "TVegjFUpzC16"
      },
      "execution_count": null,
      "outputs": []
    },
    {
      "cell_type": "code",
      "source": [
        "g.draw()"
      ],
      "metadata": {
        "id": "WYYIfGjO6CtC"
      },
      "execution_count": null,
      "outputs": []
    },
    {
      "cell_type": "markdown",
      "source": [
        "## Diff-in-diff: a regression model\n",
        "\n",
        "Rather than calculating diff-in-diff by hand, we can use a regression\n",
        "model which, besides simplifying the calculations, will also allow for a\n",
        "more flxible, powerful and robust analysis (e.g. account for\n",
        "covariables).\n",
        "\n",
        "$$\n",
        "\\text{log}(duration) = \\mu + \\beta_1 \\text{income} + \\beta_2 \\text{time} + \\beta_3 (\\text{income x time}) + e\n",
        "$$"
      ],
      "metadata": {
        "id": "Mef5hbYy_7-V"
      }
    },
    {
      "cell_type": "code",
      "source": [
        "injury[\"earnings\"] = pd.Categorical(injury[\"earnings\"], [\"low-income\", \"high-income\"])"
      ],
      "metadata": {
        "id": "VjvzrfhNLOqC"
      },
      "execution_count": null,
      "outputs": []
    },
    {
      "cell_type": "code",
      "source": [
        "from statsmodels.formula.api import ols\n",
        "\n",
        "res = ols('log_duration ~ earnings + after_1980 + earnings*after_1980', data=injury).fit()\n",
        "print(res.summary())"
      ],
      "metadata": {
        "id": "4B6iXbX2_8je"
      },
      "execution_count": null,
      "outputs": []
    },
    {
      "cell_type": "markdown",
      "source": [
        "We see that we got (approximately)bthe same value for the coefficient of the interaction term, as we did by hand (ressuring ;-)).\n",
        "\n",
        "## Exercise\n",
        "\n",
        "We see that the R-squared is pretty low: this model is not very well specified:\n",
        "\n",
        "**Q: what if we add covariables to the model?**\n",
        "\n",
        "You can try with obvious ones:\n",
        "\n",
        "-   sex (`male`)\n",
        "-   `age`\n",
        "-   `married`"
      ],
      "metadata": {
        "id": "ZNm1syqtm71X"
      }
    },
    {
      "cell_type": "code",
      "source": [
        "injury.head()"
      ],
      "metadata": {
        "id": "0EeqFGd_nCRP"
      },
      "execution_count": null,
      "outputs": []
    },
    {
      "cell_type": "code",
      "source": [
        "## TASK1: do a bit of EDA: get a feel of the other variables, and decide which to use"
      ],
      "metadata": {
        "id": "jTr7W8-PncZ7"
      },
      "execution_count": null,
      "outputs": []
    },
    {
      "cell_type": "code",
      "source": [
        "## TASK2: fit a model with additional covariables: is the R-squared better?"
      ],
      "metadata": {
        "id": "VPctxGO4nDiQ"
      },
      "execution_count": null,
      "outputs": []
    },
    {
      "cell_type": "code",
      "source": [
        "## TASK3: re-test the interaction term: has it changed?"
      ],
      "metadata": {
        "id": "vWmUEJfrnoeH"
      },
      "execution_count": null,
      "outputs": []
    }
  ]
}
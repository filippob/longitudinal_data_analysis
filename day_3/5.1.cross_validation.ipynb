{
  "nbformat": 4,
  "nbformat_minor": 0,
  "metadata": {
    "colab": {
      "provenance": []
    },
    "kernelspec": {
      "name": "python3",
      "display_name": "Python 3"
    },
    "language_info": {
      "name": "python"
    }
  },
  "cells": [
    {
      "cell_type": "markdown",
      "source": [
        "# Cross validation\n",
        "\n",
        "We introduce here resampling and cross-validation for predictive models in R. A random cross-validation approach is used."
      ],
      "metadata": {
        "id": "tGqFxw_euVHj"
      }
    },
    {
      "cell_type": "code",
      "execution_count": 168,
      "metadata": {
        "id": "uAUIcXomuOCP"
      },
      "outputs": [],
      "source": [
        "import numpy as np\n",
        "import pandas as pd\n",
        "import matplotlib.pyplot as plt"
      ]
    },
    {
      "cell_type": "markdown",
      "source": [
        "## Read the data\n",
        "\n",
        "Data from [Spatiotemporally explicit model averaging for forecasting of Alaskan groundfish catch](https://onlinelibrary.wiley.com/doi/10.1002/ece3.4488) (data repo [here](https://zenodo.org/record/4987796#.ZHcLL9JBxhE))\n",
        "\n",
        "It's data on fish catch (multiple fish species) over time in different regions of Alaska."
      ],
      "metadata": {
        "id": "4GlljdBSufaS"
      }
    },
    {
      "cell_type": "code",
      "source": [
        "url= \"https://zenodo.org/records/4987796/files/stema_data.csv\"\n",
        "fish = pd.read_csv(url)\n",
        "fish.head()"
      ],
      "metadata": {
        "colab": {
          "base_uri": "https://localhost:8080/",
          "height": 206
        },
        "id": "1RNNXlgeugnz",
        "outputId": "737a8116-4257-4838-aa09-8d9aa9aabad3"
      },
      "execution_count": 169,
      "outputs": [
        {
          "output_type": "execute_result",
          "data": {
            "text/plain": [
              "   Unnamed: 0  Station  Year                    Area      Species  Latitude  \\\n",
              "0        2092       62  1990  Western Gulf of Alaska  Pacific cod    52.663   \n",
              "1        2093       62  1991  Western Gulf of Alaska  Pacific cod    52.663   \n",
              "2        2094       62  1992  Western Gulf of Alaska  Pacific cod    52.663   \n",
              "3        2095       62  1993  Western Gulf of Alaska  Pacific cod    52.663   \n",
              "4        2096       62  1994  Western Gulf of Alaska  Pacific cod    52.663   \n",
              "\n",
              "   Longitude   CPUE   SST_cvW  SST_cvW5  SST_cvW4  SST_cvW3  SST_cvW2  \\\n",
              "0   -168.988  1.212  0.222324  0.252917  0.209706  0.187889  0.195080   \n",
              "1   -168.988  0.645  0.236036  0.209706  0.187889  0.195080  0.296625   \n",
              "2   -168.988  2.661  0.252917  0.187889  0.195080  0.296625  0.222324   \n",
              "3   -168.988  1.947  0.209706  0.195080  0.296625  0.222324  0.236036   \n",
              "4   -168.988  1.767  0.187889  0.296625  0.222324  0.236036  0.252917   \n",
              "\n",
              "   SST_cvW1  \n",
              "0  0.296625  \n",
              "1  0.222324  \n",
              "2  0.236036  \n",
              "3  0.252917  \n",
              "4  0.209706  "
            ],
            "text/html": [
              "\n",
              "  <div id=\"df-ca0fd6a0-52c2-471b-9736-51e3f99f4100\" class=\"colab-df-container\">\n",
              "    <div>\n",
              "<style scoped>\n",
              "    .dataframe tbody tr th:only-of-type {\n",
              "        vertical-align: middle;\n",
              "    }\n",
              "\n",
              "    .dataframe tbody tr th {\n",
              "        vertical-align: top;\n",
              "    }\n",
              "\n",
              "    .dataframe thead th {\n",
              "        text-align: right;\n",
              "    }\n",
              "</style>\n",
              "<table border=\"1\" class=\"dataframe\">\n",
              "  <thead>\n",
              "    <tr style=\"text-align: right;\">\n",
              "      <th></th>\n",
              "      <th>Unnamed: 0</th>\n",
              "      <th>Station</th>\n",
              "      <th>Year</th>\n",
              "      <th>Area</th>\n",
              "      <th>Species</th>\n",
              "      <th>Latitude</th>\n",
              "      <th>Longitude</th>\n",
              "      <th>CPUE</th>\n",
              "      <th>SST_cvW</th>\n",
              "      <th>SST_cvW5</th>\n",
              "      <th>SST_cvW4</th>\n",
              "      <th>SST_cvW3</th>\n",
              "      <th>SST_cvW2</th>\n",
              "      <th>SST_cvW1</th>\n",
              "    </tr>\n",
              "  </thead>\n",
              "  <tbody>\n",
              "    <tr>\n",
              "      <th>0</th>\n",
              "      <td>2092</td>\n",
              "      <td>62</td>\n",
              "      <td>1990</td>\n",
              "      <td>Western Gulf of Alaska</td>\n",
              "      <td>Pacific cod</td>\n",
              "      <td>52.663</td>\n",
              "      <td>-168.988</td>\n",
              "      <td>1.212</td>\n",
              "      <td>0.222324</td>\n",
              "      <td>0.252917</td>\n",
              "      <td>0.209706</td>\n",
              "      <td>0.187889</td>\n",
              "      <td>0.195080</td>\n",
              "      <td>0.296625</td>\n",
              "    </tr>\n",
              "    <tr>\n",
              "      <th>1</th>\n",
              "      <td>2093</td>\n",
              "      <td>62</td>\n",
              "      <td>1991</td>\n",
              "      <td>Western Gulf of Alaska</td>\n",
              "      <td>Pacific cod</td>\n",
              "      <td>52.663</td>\n",
              "      <td>-168.988</td>\n",
              "      <td>0.645</td>\n",
              "      <td>0.236036</td>\n",
              "      <td>0.209706</td>\n",
              "      <td>0.187889</td>\n",
              "      <td>0.195080</td>\n",
              "      <td>0.296625</td>\n",
              "      <td>0.222324</td>\n",
              "    </tr>\n",
              "    <tr>\n",
              "      <th>2</th>\n",
              "      <td>2094</td>\n",
              "      <td>62</td>\n",
              "      <td>1992</td>\n",
              "      <td>Western Gulf of Alaska</td>\n",
              "      <td>Pacific cod</td>\n",
              "      <td>52.663</td>\n",
              "      <td>-168.988</td>\n",
              "      <td>2.661</td>\n",
              "      <td>0.252917</td>\n",
              "      <td>0.187889</td>\n",
              "      <td>0.195080</td>\n",
              "      <td>0.296625</td>\n",
              "      <td>0.222324</td>\n",
              "      <td>0.236036</td>\n",
              "    </tr>\n",
              "    <tr>\n",
              "      <th>3</th>\n",
              "      <td>2095</td>\n",
              "      <td>62</td>\n",
              "      <td>1993</td>\n",
              "      <td>Western Gulf of Alaska</td>\n",
              "      <td>Pacific cod</td>\n",
              "      <td>52.663</td>\n",
              "      <td>-168.988</td>\n",
              "      <td>1.947</td>\n",
              "      <td>0.209706</td>\n",
              "      <td>0.195080</td>\n",
              "      <td>0.296625</td>\n",
              "      <td>0.222324</td>\n",
              "      <td>0.236036</td>\n",
              "      <td>0.252917</td>\n",
              "    </tr>\n",
              "    <tr>\n",
              "      <th>4</th>\n",
              "      <td>2096</td>\n",
              "      <td>62</td>\n",
              "      <td>1994</td>\n",
              "      <td>Western Gulf of Alaska</td>\n",
              "      <td>Pacific cod</td>\n",
              "      <td>52.663</td>\n",
              "      <td>-168.988</td>\n",
              "      <td>1.767</td>\n",
              "      <td>0.187889</td>\n",
              "      <td>0.296625</td>\n",
              "      <td>0.222324</td>\n",
              "      <td>0.236036</td>\n",
              "      <td>0.252917</td>\n",
              "      <td>0.209706</td>\n",
              "    </tr>\n",
              "  </tbody>\n",
              "</table>\n",
              "</div>\n",
              "    <div class=\"colab-df-buttons\">\n",
              "\n",
              "  <div class=\"colab-df-container\">\n",
              "    <button class=\"colab-df-convert\" onclick=\"convertToInteractive('df-ca0fd6a0-52c2-471b-9736-51e3f99f4100')\"\n",
              "            title=\"Convert this dataframe to an interactive table.\"\n",
              "            style=\"display:none;\">\n",
              "\n",
              "  <svg xmlns=\"http://www.w3.org/2000/svg\" height=\"24px\" viewBox=\"0 -960 960 960\">\n",
              "    <path d=\"M120-120v-720h720v720H120Zm60-500h600v-160H180v160Zm220 220h160v-160H400v160Zm0 220h160v-160H400v160ZM180-400h160v-160H180v160Zm440 0h160v-160H620v160ZM180-180h160v-160H180v160Zm440 0h160v-160H620v160Z\"/>\n",
              "  </svg>\n",
              "    </button>\n",
              "\n",
              "  <style>\n",
              "    .colab-df-container {\n",
              "      display:flex;\n",
              "      gap: 12px;\n",
              "    }\n",
              "\n",
              "    .colab-df-convert {\n",
              "      background-color: #E8F0FE;\n",
              "      border: none;\n",
              "      border-radius: 50%;\n",
              "      cursor: pointer;\n",
              "      display: none;\n",
              "      fill: #1967D2;\n",
              "      height: 32px;\n",
              "      padding: 0 0 0 0;\n",
              "      width: 32px;\n",
              "    }\n",
              "\n",
              "    .colab-df-convert:hover {\n",
              "      background-color: #E2EBFA;\n",
              "      box-shadow: 0px 1px 2px rgba(60, 64, 67, 0.3), 0px 1px 3px 1px rgba(60, 64, 67, 0.15);\n",
              "      fill: #174EA6;\n",
              "    }\n",
              "\n",
              "    .colab-df-buttons div {\n",
              "      margin-bottom: 4px;\n",
              "    }\n",
              "\n",
              "    [theme=dark] .colab-df-convert {\n",
              "      background-color: #3B4455;\n",
              "      fill: #D2E3FC;\n",
              "    }\n",
              "\n",
              "    [theme=dark] .colab-df-convert:hover {\n",
              "      background-color: #434B5C;\n",
              "      box-shadow: 0px 1px 3px 1px rgba(0, 0, 0, 0.15);\n",
              "      filter: drop-shadow(0px 1px 2px rgba(0, 0, 0, 0.3));\n",
              "      fill: #FFFFFF;\n",
              "    }\n",
              "  </style>\n",
              "\n",
              "    <script>\n",
              "      const buttonEl =\n",
              "        document.querySelector('#df-ca0fd6a0-52c2-471b-9736-51e3f99f4100 button.colab-df-convert');\n",
              "      buttonEl.style.display =\n",
              "        google.colab.kernel.accessAllowed ? 'block' : 'none';\n",
              "\n",
              "      async function convertToInteractive(key) {\n",
              "        const element = document.querySelector('#df-ca0fd6a0-52c2-471b-9736-51e3f99f4100');\n",
              "        const dataTable =\n",
              "          await google.colab.kernel.invokeFunction('convertToInteractive',\n",
              "                                                    [key], {});\n",
              "        if (!dataTable) return;\n",
              "\n",
              "        const docLinkHtml = 'Like what you see? Visit the ' +\n",
              "          '<a target=\"_blank\" href=https://colab.research.google.com/notebooks/data_table.ipynb>data table notebook</a>'\n",
              "          + ' to learn more about interactive tables.';\n",
              "        element.innerHTML = '';\n",
              "        dataTable['output_type'] = 'display_data';\n",
              "        await google.colab.output.renderOutput(dataTable, element);\n",
              "        const docLink = document.createElement('div');\n",
              "        docLink.innerHTML = docLinkHtml;\n",
              "        element.appendChild(docLink);\n",
              "      }\n",
              "    </script>\n",
              "  </div>\n",
              "\n",
              "\n",
              "    <div id=\"df-5aea1973-4b6b-4eaf-93ee-7f0733bf025d\">\n",
              "      <button class=\"colab-df-quickchart\" onclick=\"quickchart('df-5aea1973-4b6b-4eaf-93ee-7f0733bf025d')\"\n",
              "                title=\"Suggest charts\"\n",
              "                style=\"display:none;\">\n",
              "\n",
              "<svg xmlns=\"http://www.w3.org/2000/svg\" height=\"24px\"viewBox=\"0 0 24 24\"\n",
              "     width=\"24px\">\n",
              "    <g>\n",
              "        <path d=\"M19 3H5c-1.1 0-2 .9-2 2v14c0 1.1.9 2 2 2h14c1.1 0 2-.9 2-2V5c0-1.1-.9-2-2-2zM9 17H7v-7h2v7zm4 0h-2V7h2v10zm4 0h-2v-4h2v4z\"/>\n",
              "    </g>\n",
              "</svg>\n",
              "      </button>\n",
              "\n",
              "<style>\n",
              "  .colab-df-quickchart {\n",
              "      --bg-color: #E8F0FE;\n",
              "      --fill-color: #1967D2;\n",
              "      --hover-bg-color: #E2EBFA;\n",
              "      --hover-fill-color: #174EA6;\n",
              "      --disabled-fill-color: #AAA;\n",
              "      --disabled-bg-color: #DDD;\n",
              "  }\n",
              "\n",
              "  [theme=dark] .colab-df-quickchart {\n",
              "      --bg-color: #3B4455;\n",
              "      --fill-color: #D2E3FC;\n",
              "      --hover-bg-color: #434B5C;\n",
              "      --hover-fill-color: #FFFFFF;\n",
              "      --disabled-bg-color: #3B4455;\n",
              "      --disabled-fill-color: #666;\n",
              "  }\n",
              "\n",
              "  .colab-df-quickchart {\n",
              "    background-color: var(--bg-color);\n",
              "    border: none;\n",
              "    border-radius: 50%;\n",
              "    cursor: pointer;\n",
              "    display: none;\n",
              "    fill: var(--fill-color);\n",
              "    height: 32px;\n",
              "    padding: 0;\n",
              "    width: 32px;\n",
              "  }\n",
              "\n",
              "  .colab-df-quickchart:hover {\n",
              "    background-color: var(--hover-bg-color);\n",
              "    box-shadow: 0 1px 2px rgba(60, 64, 67, 0.3), 0 1px 3px 1px rgba(60, 64, 67, 0.15);\n",
              "    fill: var(--button-hover-fill-color);\n",
              "  }\n",
              "\n",
              "  .colab-df-quickchart-complete:disabled,\n",
              "  .colab-df-quickchart-complete:disabled:hover {\n",
              "    background-color: var(--disabled-bg-color);\n",
              "    fill: var(--disabled-fill-color);\n",
              "    box-shadow: none;\n",
              "  }\n",
              "\n",
              "  .colab-df-spinner {\n",
              "    border: 2px solid var(--fill-color);\n",
              "    border-color: transparent;\n",
              "    border-bottom-color: var(--fill-color);\n",
              "    animation:\n",
              "      spin 1s steps(1) infinite;\n",
              "  }\n",
              "\n",
              "  @keyframes spin {\n",
              "    0% {\n",
              "      border-color: transparent;\n",
              "      border-bottom-color: var(--fill-color);\n",
              "      border-left-color: var(--fill-color);\n",
              "    }\n",
              "    20% {\n",
              "      border-color: transparent;\n",
              "      border-left-color: var(--fill-color);\n",
              "      border-top-color: var(--fill-color);\n",
              "    }\n",
              "    30% {\n",
              "      border-color: transparent;\n",
              "      border-left-color: var(--fill-color);\n",
              "      border-top-color: var(--fill-color);\n",
              "      border-right-color: var(--fill-color);\n",
              "    }\n",
              "    40% {\n",
              "      border-color: transparent;\n",
              "      border-right-color: var(--fill-color);\n",
              "      border-top-color: var(--fill-color);\n",
              "    }\n",
              "    60% {\n",
              "      border-color: transparent;\n",
              "      border-right-color: var(--fill-color);\n",
              "    }\n",
              "    80% {\n",
              "      border-color: transparent;\n",
              "      border-right-color: var(--fill-color);\n",
              "      border-bottom-color: var(--fill-color);\n",
              "    }\n",
              "    90% {\n",
              "      border-color: transparent;\n",
              "      border-bottom-color: var(--fill-color);\n",
              "    }\n",
              "  }\n",
              "</style>\n",
              "\n",
              "      <script>\n",
              "        async function quickchart(key) {\n",
              "          const quickchartButtonEl =\n",
              "            document.querySelector('#' + key + ' button');\n",
              "          quickchartButtonEl.disabled = true;  // To prevent multiple clicks.\n",
              "          quickchartButtonEl.classList.add('colab-df-spinner');\n",
              "          try {\n",
              "            const charts = await google.colab.kernel.invokeFunction(\n",
              "                'suggestCharts', [key], {});\n",
              "          } catch (error) {\n",
              "            console.error('Error during call to suggestCharts:', error);\n",
              "          }\n",
              "          quickchartButtonEl.classList.remove('colab-df-spinner');\n",
              "          quickchartButtonEl.classList.add('colab-df-quickchart-complete');\n",
              "        }\n",
              "        (() => {\n",
              "          let quickchartButtonEl =\n",
              "            document.querySelector('#df-5aea1973-4b6b-4eaf-93ee-7f0733bf025d button');\n",
              "          quickchartButtonEl.style.display =\n",
              "            google.colab.kernel.accessAllowed ? 'block' : 'none';\n",
              "        })();\n",
              "      </script>\n",
              "    </div>\n",
              "\n",
              "    </div>\n",
              "  </div>\n"
            ],
            "application/vnd.google.colaboratory.intrinsic+json": {
              "type": "dataframe",
              "variable_name": "fish",
              "summary": "{\n  \"name\": \"fish\",\n  \"rows\": 6716,\n  \"fields\": [\n    {\n      \"column\": \"Unnamed: 0\",\n      \"properties\": {\n        \"dtype\": \"number\",\n        \"std\": 12565,\n        \"min\": 2092,\n        \"max\": 39143,\n        \"num_unique_values\": 6716,\n        \"samples\": [\n          29813,\n          30282,\n          29671\n        ],\n        \"semantic_type\": \"\",\n        \"description\": \"\"\n      }\n    },\n    {\n      \"column\": \"Station\",\n      \"properties\": {\n        \"dtype\": \"number\",\n        \"std\": 25,\n        \"min\": 62,\n        \"max\": 149,\n        \"num_unique_values\": 73,\n        \"samples\": [\n          66,\n          136,\n          80\n        ],\n        \"semantic_type\": \"\",\n        \"description\": \"\"\n      }\n    },\n    {\n      \"column\": \"Year\",\n      \"properties\": {\n        \"dtype\": \"number\",\n        \"std\": 6,\n        \"min\": 1990,\n        \"max\": 2012,\n        \"num_unique_values\": 23,\n        \"samples\": [\n          2005,\n          1999,\n          1990\n        ],\n        \"semantic_type\": \"\",\n        \"description\": \"\"\n      }\n    },\n    {\n      \"column\": \"Area\",\n      \"properties\": {\n        \"dtype\": \"category\",\n        \"num_unique_values\": 4,\n        \"samples\": [\n          \"Central Gulf of Alaska\",\n          \"East Yakutat/Southeast\",\n          \"Western Gulf of Alaska\"\n        ],\n        \"semantic_type\": \"\",\n        \"description\": \"\"\n      }\n    },\n    {\n      \"column\": \"Species\",\n      \"properties\": {\n        \"dtype\": \"category\",\n        \"num_unique_values\": 4,\n        \"samples\": [\n          \"Giant grenadier\",\n          \"Sablefish\",\n          \"Pacific cod\"\n        ],\n        \"semantic_type\": \"\",\n        \"description\": \"\"\n      }\n    },\n    {\n      \"column\": \"Latitude\",\n      \"properties\": {\n        \"dtype\": \"number\",\n        \"std\": 1.9759229960648492,\n        \"min\": 52.663,\n        \"max\": 59.747,\n        \"num_unique_values\": 73,\n        \"samples\": [\n          53.737,\n          59.747,\n          56.485\n        ],\n        \"semantic_type\": \"\",\n        \"description\": \"\"\n      }\n    },\n    {\n      \"column\": \"Longitude\",\n      \"properties\": {\n        \"dtype\": \"number\",\n        \"std\": 9.63515566291176,\n        \"min\": -168.988,\n        \"max\": -132.838,\n        \"num_unique_values\": 73,\n        \"samples\": [\n          -164.468,\n          -143.587,\n          -152.213\n        ],\n        \"semantic_type\": \"\",\n        \"description\": \"\"\n      }\n    },\n    {\n      \"column\": \"CPUE\",\n      \"properties\": {\n        \"dtype\": \"number\",\n        \"std\": 4.339326589035873,\n        \"min\": 0.019,\n        \"max\": 16.445,\n        \"num_unique_values\": 351,\n        \"samples\": [\n          0.401,\n          7.968,\n          5.418\n        ],\n        \"semantic_type\": \"\",\n        \"description\": \"\"\n      }\n    },\n    {\n      \"column\": \"SST_cvW\",\n      \"properties\": {\n        \"dtype\": \"number\",\n        \"std\": 0.06573229972939686,\n        \"min\": 0.0723461509318459,\n        \"max\": 0.550603648829158,\n        \"num_unique_values\": 1587,\n        \"samples\": [\n          0.174999443838054,\n          0.175924796522656,\n          0.167162669166816\n        ],\n        \"semantic_type\": \"\",\n        \"description\": \"\"\n      }\n    },\n    {\n      \"column\": \"SST_cvW5\",\n      \"properties\": {\n        \"dtype\": \"number\",\n        \"std\": 0.05494189973528166,\n        \"min\": 0.0723461509318459,\n        \"max\": 0.425608160593342,\n        \"num_unique_values\": 1380,\n        \"samples\": [\n          0.122928998000563,\n          0.206732386781704,\n          0.355092314007088\n        ],\n        \"semantic_type\": \"\",\n        \"description\": \"\"\n      }\n    },\n    {\n      \"column\": \"SST_cvW4\",\n      \"properties\": {\n        \"dtype\": \"number\",\n        \"std\": 0.056004117051045646,\n        \"min\": 0.0723461509318459,\n        \"max\": 0.425608160593342,\n        \"num_unique_values\": 1449,\n        \"samples\": [\n          0.135752467097407,\n          0.16558279570803,\n          0.262806949265517\n        ],\n        \"semantic_type\": \"\",\n        \"description\": \"\"\n      }\n    },\n    {\n      \"column\": \"SST_cvW3\",\n      \"properties\": {\n        \"dtype\": \"number\",\n        \"std\": 0.0588891028712668,\n        \"min\": 0.0723461509318459,\n        \"max\": 0.425608160593342,\n        \"num_unique_values\": 1518,\n        \"samples\": [\n          0.328590305065773,\n          0.201188361483252,\n          0.177281094790552\n        ],\n        \"semantic_type\": \"\",\n        \"description\": \"\"\n      }\n    },\n    {\n      \"column\": \"SST_cvW2\",\n      \"properties\": {\n        \"dtype\": \"number\",\n        \"std\": 0.060718107786037485,\n        \"min\": 0.0723461509318459,\n        \"max\": 0.425608160593342,\n        \"num_unique_values\": 1587,\n        \"samples\": [\n          0.177198335606938,\n          0.135982494952027,\n          0.106691224370314\n        ],\n        \"semantic_type\": \"\",\n        \"description\": \"\"\n      }\n    },\n    {\n      \"column\": \"SST_cvW1\",\n      \"properties\": {\n        \"dtype\": \"number\",\n        \"std\": 0.06092593099061438,\n        \"min\": 0.0723461509318459,\n        \"max\": 0.425608160593342,\n        \"num_unique_values\": 1587,\n        \"samples\": [\n          0.170676148565061,\n          0.215404475463889,\n          0.179773125381808\n        ],\n        \"semantic_type\": \"\",\n        \"description\": \"\"\n      }\n    }\n  ]\n}"
            }
          },
          "metadata": {},
          "execution_count": 169
        }
      ]
    },
    {
      "cell_type": "markdown",
      "source": [
        "-   **CPUE**: target variable, \"catch per unit effort\"\n",
        "-   **SST**: sea surface temperature\n",
        "-   **CV**: actually, the coefficient of variation for SST is used $\\rightarrow$ the coefficient of variation is an improved measure of seasonal SST over the mean, because it standardizes scale and allows us to consider the changes in variation of SST with the changes in mean over (Hannah Correia, 2018 - Ecology and Evolution)\n",
        "-   **SSTcvW1-5**: CPUE is influenced by survival in the first year of life. Water temperature affects survival, and juvenile fish are more susceptible to environmental changes than adults. Therefore, CPUE for a given year is likely linked to the winter SST at the juvenile state. Since this survey targets waters during the summer and the four species covered reach maturity at 5--8 years, SST was lagged for years one through five to allow us to capture the effect of SST on the juvenile stages. All five lagged SST measures were included for modeling.\n",
        "\n",
        "### Data preprocessing\n",
        "\n",
        "-   `V1` is record ID\n",
        "-   `Station` indicates the fishing station\n",
        "\n",
        "We will not consider these variables in the predictive model: remove here, or use `tidymodels` `roles`?\n",
        "\n",
        "In order to accommodate variation in SST among stations, the CPUE value has been replicated multiple times. This would defeat our purpose of analysing data by group (fish species) over space and time: with only one value per group, a statistical analysis is a bit hard to be performed (no variation). Therefore, to the original CPUE values we add some random noise proportional to the average (by species, area, year):"
      ],
      "metadata": {
        "id": "XkfjMnGovB37"
      }
    },
    {
      "cell_type": "code",
      "source": [
        "fish = fish.drop(['Unnamed: 0', 'Latitude', 'Longitude', 'Station'], axis=1)"
      ],
      "metadata": {
        "id": "gB-0jlk7ulWY"
      },
      "execution_count": 170,
      "outputs": []
    },
    {
      "cell_type": "code",
      "source": [
        "## mutate variable\n",
        "fish['avg'] = fish.groupby(['Species', 'Area', 'Year'])['CPUE'].transform('mean')\n",
        "fish['std'] = 0.1 * fish['avg']"
      ],
      "metadata": {
        "id": "wGq_ZeqMMJ9R"
      },
      "execution_count": 171,
      "outputs": []
    },
    {
      "cell_type": "code",
      "source": [
        "fish['noise'] = np.random.normal(loc=0, scale=fish['std'])\n",
        "fish['CPUE'] = fish['CPUE'] + fish['noise']"
      ],
      "metadata": {
        "id": "uUdU1vSxMRMQ"
      },
      "execution_count": 172,
      "outputs": []
    },
    {
      "cell_type": "code",
      "source": [
        "fish = fish.drop(['avg', 'std', 'noise'], axis=1)"
      ],
      "metadata": {
        "id": "hIqLK2raMaXm"
      },
      "execution_count": 173,
      "outputs": []
    },
    {
      "cell_type": "code",
      "source": [
        "fish.head()"
      ],
      "metadata": {
        "colab": {
          "base_uri": "https://localhost:8080/",
          "height": 206
        },
        "id": "ptZUU48aMSfR",
        "outputId": "7b984164-8730-451f-ecb3-459dc43a85ee"
      },
      "execution_count": 174,
      "outputs": [
        {
          "output_type": "execute_result",
          "data": {
            "text/plain": [
              "   Year                    Area      Species      CPUE   SST_cvW  SST_cvW5  \\\n",
              "0  1990  Western Gulf of Alaska  Pacific cod  1.098413  0.222324  0.252917   \n",
              "1  1991  Western Gulf of Alaska  Pacific cod  0.689515  0.236036  0.209706   \n",
              "2  1992  Western Gulf of Alaska  Pacific cod  2.822898  0.252917  0.187889   \n",
              "3  1993  Western Gulf of Alaska  Pacific cod  1.788830  0.209706  0.195080   \n",
              "4  1994  Western Gulf of Alaska  Pacific cod  1.740602  0.187889  0.296625   \n",
              "\n",
              "   SST_cvW4  SST_cvW3  SST_cvW2  SST_cvW1  \n",
              "0  0.209706  0.187889  0.195080  0.296625  \n",
              "1  0.187889  0.195080  0.296625  0.222324  \n",
              "2  0.195080  0.296625  0.222324  0.236036  \n",
              "3  0.296625  0.222324  0.236036  0.252917  \n",
              "4  0.222324  0.236036  0.252917  0.209706  "
            ],
            "text/html": [
              "\n",
              "  <div id=\"df-77658510-eeb1-47c9-8a98-8e151b3d38c5\" class=\"colab-df-container\">\n",
              "    <div>\n",
              "<style scoped>\n",
              "    .dataframe tbody tr th:only-of-type {\n",
              "        vertical-align: middle;\n",
              "    }\n",
              "\n",
              "    .dataframe tbody tr th {\n",
              "        vertical-align: top;\n",
              "    }\n",
              "\n",
              "    .dataframe thead th {\n",
              "        text-align: right;\n",
              "    }\n",
              "</style>\n",
              "<table border=\"1\" class=\"dataframe\">\n",
              "  <thead>\n",
              "    <tr style=\"text-align: right;\">\n",
              "      <th></th>\n",
              "      <th>Year</th>\n",
              "      <th>Area</th>\n",
              "      <th>Species</th>\n",
              "      <th>CPUE</th>\n",
              "      <th>SST_cvW</th>\n",
              "      <th>SST_cvW5</th>\n",
              "      <th>SST_cvW4</th>\n",
              "      <th>SST_cvW3</th>\n",
              "      <th>SST_cvW2</th>\n",
              "      <th>SST_cvW1</th>\n",
              "    </tr>\n",
              "  </thead>\n",
              "  <tbody>\n",
              "    <tr>\n",
              "      <th>0</th>\n",
              "      <td>1990</td>\n",
              "      <td>Western Gulf of Alaska</td>\n",
              "      <td>Pacific cod</td>\n",
              "      <td>1.098413</td>\n",
              "      <td>0.222324</td>\n",
              "      <td>0.252917</td>\n",
              "      <td>0.209706</td>\n",
              "      <td>0.187889</td>\n",
              "      <td>0.195080</td>\n",
              "      <td>0.296625</td>\n",
              "    </tr>\n",
              "    <tr>\n",
              "      <th>1</th>\n",
              "      <td>1991</td>\n",
              "      <td>Western Gulf of Alaska</td>\n",
              "      <td>Pacific cod</td>\n",
              "      <td>0.689515</td>\n",
              "      <td>0.236036</td>\n",
              "      <td>0.209706</td>\n",
              "      <td>0.187889</td>\n",
              "      <td>0.195080</td>\n",
              "      <td>0.296625</td>\n",
              "      <td>0.222324</td>\n",
              "    </tr>\n",
              "    <tr>\n",
              "      <th>2</th>\n",
              "      <td>1992</td>\n",
              "      <td>Western Gulf of Alaska</td>\n",
              "      <td>Pacific cod</td>\n",
              "      <td>2.822898</td>\n",
              "      <td>0.252917</td>\n",
              "      <td>0.187889</td>\n",
              "      <td>0.195080</td>\n",
              "      <td>0.296625</td>\n",
              "      <td>0.222324</td>\n",
              "      <td>0.236036</td>\n",
              "    </tr>\n",
              "    <tr>\n",
              "      <th>3</th>\n",
              "      <td>1993</td>\n",
              "      <td>Western Gulf of Alaska</td>\n",
              "      <td>Pacific cod</td>\n",
              "      <td>1.788830</td>\n",
              "      <td>0.209706</td>\n",
              "      <td>0.195080</td>\n",
              "      <td>0.296625</td>\n",
              "      <td>0.222324</td>\n",
              "      <td>0.236036</td>\n",
              "      <td>0.252917</td>\n",
              "    </tr>\n",
              "    <tr>\n",
              "      <th>4</th>\n",
              "      <td>1994</td>\n",
              "      <td>Western Gulf of Alaska</td>\n",
              "      <td>Pacific cod</td>\n",
              "      <td>1.740602</td>\n",
              "      <td>0.187889</td>\n",
              "      <td>0.296625</td>\n",
              "      <td>0.222324</td>\n",
              "      <td>0.236036</td>\n",
              "      <td>0.252917</td>\n",
              "      <td>0.209706</td>\n",
              "    </tr>\n",
              "  </tbody>\n",
              "</table>\n",
              "</div>\n",
              "    <div class=\"colab-df-buttons\">\n",
              "\n",
              "  <div class=\"colab-df-container\">\n",
              "    <button class=\"colab-df-convert\" onclick=\"convertToInteractive('df-77658510-eeb1-47c9-8a98-8e151b3d38c5')\"\n",
              "            title=\"Convert this dataframe to an interactive table.\"\n",
              "            style=\"display:none;\">\n",
              "\n",
              "  <svg xmlns=\"http://www.w3.org/2000/svg\" height=\"24px\" viewBox=\"0 -960 960 960\">\n",
              "    <path d=\"M120-120v-720h720v720H120Zm60-500h600v-160H180v160Zm220 220h160v-160H400v160Zm0 220h160v-160H400v160ZM180-400h160v-160H180v160Zm440 0h160v-160H620v160ZM180-180h160v-160H180v160Zm440 0h160v-160H620v160Z\"/>\n",
              "  </svg>\n",
              "    </button>\n",
              "\n",
              "  <style>\n",
              "    .colab-df-container {\n",
              "      display:flex;\n",
              "      gap: 12px;\n",
              "    }\n",
              "\n",
              "    .colab-df-convert {\n",
              "      background-color: #E8F0FE;\n",
              "      border: none;\n",
              "      border-radius: 50%;\n",
              "      cursor: pointer;\n",
              "      display: none;\n",
              "      fill: #1967D2;\n",
              "      height: 32px;\n",
              "      padding: 0 0 0 0;\n",
              "      width: 32px;\n",
              "    }\n",
              "\n",
              "    .colab-df-convert:hover {\n",
              "      background-color: #E2EBFA;\n",
              "      box-shadow: 0px 1px 2px rgba(60, 64, 67, 0.3), 0px 1px 3px 1px rgba(60, 64, 67, 0.15);\n",
              "      fill: #174EA6;\n",
              "    }\n",
              "\n",
              "    .colab-df-buttons div {\n",
              "      margin-bottom: 4px;\n",
              "    }\n",
              "\n",
              "    [theme=dark] .colab-df-convert {\n",
              "      background-color: #3B4455;\n",
              "      fill: #D2E3FC;\n",
              "    }\n",
              "\n",
              "    [theme=dark] .colab-df-convert:hover {\n",
              "      background-color: #434B5C;\n",
              "      box-shadow: 0px 1px 3px 1px rgba(0, 0, 0, 0.15);\n",
              "      filter: drop-shadow(0px 1px 2px rgba(0, 0, 0, 0.3));\n",
              "      fill: #FFFFFF;\n",
              "    }\n",
              "  </style>\n",
              "\n",
              "    <script>\n",
              "      const buttonEl =\n",
              "        document.querySelector('#df-77658510-eeb1-47c9-8a98-8e151b3d38c5 button.colab-df-convert');\n",
              "      buttonEl.style.display =\n",
              "        google.colab.kernel.accessAllowed ? 'block' : 'none';\n",
              "\n",
              "      async function convertToInteractive(key) {\n",
              "        const element = document.querySelector('#df-77658510-eeb1-47c9-8a98-8e151b3d38c5');\n",
              "        const dataTable =\n",
              "          await google.colab.kernel.invokeFunction('convertToInteractive',\n",
              "                                                    [key], {});\n",
              "        if (!dataTable) return;\n",
              "\n",
              "        const docLinkHtml = 'Like what you see? Visit the ' +\n",
              "          '<a target=\"_blank\" href=https://colab.research.google.com/notebooks/data_table.ipynb>data table notebook</a>'\n",
              "          + ' to learn more about interactive tables.';\n",
              "        element.innerHTML = '';\n",
              "        dataTable['output_type'] = 'display_data';\n",
              "        await google.colab.output.renderOutput(dataTable, element);\n",
              "        const docLink = document.createElement('div');\n",
              "        docLink.innerHTML = docLinkHtml;\n",
              "        element.appendChild(docLink);\n",
              "      }\n",
              "    </script>\n",
              "  </div>\n",
              "\n",
              "\n",
              "    <div id=\"df-cb0b8fce-630d-4e83-a678-47e98a0c4b62\">\n",
              "      <button class=\"colab-df-quickchart\" onclick=\"quickchart('df-cb0b8fce-630d-4e83-a678-47e98a0c4b62')\"\n",
              "                title=\"Suggest charts\"\n",
              "                style=\"display:none;\">\n",
              "\n",
              "<svg xmlns=\"http://www.w3.org/2000/svg\" height=\"24px\"viewBox=\"0 0 24 24\"\n",
              "     width=\"24px\">\n",
              "    <g>\n",
              "        <path d=\"M19 3H5c-1.1 0-2 .9-2 2v14c0 1.1.9 2 2 2h14c1.1 0 2-.9 2-2V5c0-1.1-.9-2-2-2zM9 17H7v-7h2v7zm4 0h-2V7h2v10zm4 0h-2v-4h2v4z\"/>\n",
              "    </g>\n",
              "</svg>\n",
              "      </button>\n",
              "\n",
              "<style>\n",
              "  .colab-df-quickchart {\n",
              "      --bg-color: #E8F0FE;\n",
              "      --fill-color: #1967D2;\n",
              "      --hover-bg-color: #E2EBFA;\n",
              "      --hover-fill-color: #174EA6;\n",
              "      --disabled-fill-color: #AAA;\n",
              "      --disabled-bg-color: #DDD;\n",
              "  }\n",
              "\n",
              "  [theme=dark] .colab-df-quickchart {\n",
              "      --bg-color: #3B4455;\n",
              "      --fill-color: #D2E3FC;\n",
              "      --hover-bg-color: #434B5C;\n",
              "      --hover-fill-color: #FFFFFF;\n",
              "      --disabled-bg-color: #3B4455;\n",
              "      --disabled-fill-color: #666;\n",
              "  }\n",
              "\n",
              "  .colab-df-quickchart {\n",
              "    background-color: var(--bg-color);\n",
              "    border: none;\n",
              "    border-radius: 50%;\n",
              "    cursor: pointer;\n",
              "    display: none;\n",
              "    fill: var(--fill-color);\n",
              "    height: 32px;\n",
              "    padding: 0;\n",
              "    width: 32px;\n",
              "  }\n",
              "\n",
              "  .colab-df-quickchart:hover {\n",
              "    background-color: var(--hover-bg-color);\n",
              "    box-shadow: 0 1px 2px rgba(60, 64, 67, 0.3), 0 1px 3px 1px rgba(60, 64, 67, 0.15);\n",
              "    fill: var(--button-hover-fill-color);\n",
              "  }\n",
              "\n",
              "  .colab-df-quickchart-complete:disabled,\n",
              "  .colab-df-quickchart-complete:disabled:hover {\n",
              "    background-color: var(--disabled-bg-color);\n",
              "    fill: var(--disabled-fill-color);\n",
              "    box-shadow: none;\n",
              "  }\n",
              "\n",
              "  .colab-df-spinner {\n",
              "    border: 2px solid var(--fill-color);\n",
              "    border-color: transparent;\n",
              "    border-bottom-color: var(--fill-color);\n",
              "    animation:\n",
              "      spin 1s steps(1) infinite;\n",
              "  }\n",
              "\n",
              "  @keyframes spin {\n",
              "    0% {\n",
              "      border-color: transparent;\n",
              "      border-bottom-color: var(--fill-color);\n",
              "      border-left-color: var(--fill-color);\n",
              "    }\n",
              "    20% {\n",
              "      border-color: transparent;\n",
              "      border-left-color: var(--fill-color);\n",
              "      border-top-color: var(--fill-color);\n",
              "    }\n",
              "    30% {\n",
              "      border-color: transparent;\n",
              "      border-left-color: var(--fill-color);\n",
              "      border-top-color: var(--fill-color);\n",
              "      border-right-color: var(--fill-color);\n",
              "    }\n",
              "    40% {\n",
              "      border-color: transparent;\n",
              "      border-right-color: var(--fill-color);\n",
              "      border-top-color: var(--fill-color);\n",
              "    }\n",
              "    60% {\n",
              "      border-color: transparent;\n",
              "      border-right-color: var(--fill-color);\n",
              "    }\n",
              "    80% {\n",
              "      border-color: transparent;\n",
              "      border-right-color: var(--fill-color);\n",
              "      border-bottom-color: var(--fill-color);\n",
              "    }\n",
              "    90% {\n",
              "      border-color: transparent;\n",
              "      border-bottom-color: var(--fill-color);\n",
              "    }\n",
              "  }\n",
              "</style>\n",
              "\n",
              "      <script>\n",
              "        async function quickchart(key) {\n",
              "          const quickchartButtonEl =\n",
              "            document.querySelector('#' + key + ' button');\n",
              "          quickchartButtonEl.disabled = true;  // To prevent multiple clicks.\n",
              "          quickchartButtonEl.classList.add('colab-df-spinner');\n",
              "          try {\n",
              "            const charts = await google.colab.kernel.invokeFunction(\n",
              "                'suggestCharts', [key], {});\n",
              "          } catch (error) {\n",
              "            console.error('Error during call to suggestCharts:', error);\n",
              "          }\n",
              "          quickchartButtonEl.classList.remove('colab-df-spinner');\n",
              "          quickchartButtonEl.classList.add('colab-df-quickchart-complete');\n",
              "        }\n",
              "        (() => {\n",
              "          let quickchartButtonEl =\n",
              "            document.querySelector('#df-cb0b8fce-630d-4e83-a678-47e98a0c4b62 button');\n",
              "          quickchartButtonEl.style.display =\n",
              "            google.colab.kernel.accessAllowed ? 'block' : 'none';\n",
              "        })();\n",
              "      </script>\n",
              "    </div>\n",
              "\n",
              "    </div>\n",
              "  </div>\n"
            ],
            "application/vnd.google.colaboratory.intrinsic+json": {
              "type": "dataframe",
              "variable_name": "fish",
              "summary": "{\n  \"name\": \"fish\",\n  \"rows\": 6716,\n  \"fields\": [\n    {\n      \"column\": \"Year\",\n      \"properties\": {\n        \"dtype\": \"number\",\n        \"std\": 6,\n        \"min\": 1990,\n        \"max\": 2012,\n        \"num_unique_values\": 23,\n        \"samples\": [\n          2005,\n          1999,\n          1990\n        ],\n        \"semantic_type\": \"\",\n        \"description\": \"\"\n      }\n    },\n    {\n      \"column\": \"Area\",\n      \"properties\": {\n        \"dtype\": \"category\",\n        \"num_unique_values\": 4,\n        \"samples\": [\n          \"Central Gulf of Alaska\",\n          \"East Yakutat/Southeast\",\n          \"Western Gulf of Alaska\"\n        ],\n        \"semantic_type\": \"\",\n        \"description\": \"\"\n      }\n    },\n    {\n      \"column\": \"Species\",\n      \"properties\": {\n        \"dtype\": \"category\",\n        \"num_unique_values\": 4,\n        \"samples\": [\n          \"Giant grenadier\",\n          \"Sablefish\",\n          \"Pacific cod\"\n        ],\n        \"semantic_type\": \"\",\n        \"description\": \"\"\n      }\n    },\n    {\n      \"column\": \"CPUE\",\n      \"properties\": {\n        \"dtype\": \"number\",\n        \"std\": 4.387954809484827,\n        \"min\": 0.01547298545857872,\n        \"max\": 19.018503579851167,\n        \"num_unique_values\": 6716,\n        \"samples\": [\n          7.408114856755235,\n          0.5231644529857423,\n          0.4560141034101327\n        ],\n        \"semantic_type\": \"\",\n        \"description\": \"\"\n      }\n    },\n    {\n      \"column\": \"SST_cvW\",\n      \"properties\": {\n        \"dtype\": \"number\",\n        \"std\": 0.06573229972939686,\n        \"min\": 0.0723461509318459,\n        \"max\": 0.550603648829158,\n        \"num_unique_values\": 1587,\n        \"samples\": [\n          0.174999443838054,\n          0.175924796522656,\n          0.167162669166816\n        ],\n        \"semantic_type\": \"\",\n        \"description\": \"\"\n      }\n    },\n    {\n      \"column\": \"SST_cvW5\",\n      \"properties\": {\n        \"dtype\": \"number\",\n        \"std\": 0.05494189973528166,\n        \"min\": 0.0723461509318459,\n        \"max\": 0.425608160593342,\n        \"num_unique_values\": 1380,\n        \"samples\": [\n          0.122928998000563,\n          0.206732386781704,\n          0.355092314007088\n        ],\n        \"semantic_type\": \"\",\n        \"description\": \"\"\n      }\n    },\n    {\n      \"column\": \"SST_cvW4\",\n      \"properties\": {\n        \"dtype\": \"number\",\n        \"std\": 0.056004117051045646,\n        \"min\": 0.0723461509318459,\n        \"max\": 0.425608160593342,\n        \"num_unique_values\": 1449,\n        \"samples\": [\n          0.135752467097407,\n          0.16558279570803,\n          0.262806949265517\n        ],\n        \"semantic_type\": \"\",\n        \"description\": \"\"\n      }\n    },\n    {\n      \"column\": \"SST_cvW3\",\n      \"properties\": {\n        \"dtype\": \"number\",\n        \"std\": 0.0588891028712668,\n        \"min\": 0.0723461509318459,\n        \"max\": 0.425608160593342,\n        \"num_unique_values\": 1518,\n        \"samples\": [\n          0.328590305065773,\n          0.201188361483252,\n          0.177281094790552\n        ],\n        \"semantic_type\": \"\",\n        \"description\": \"\"\n      }\n    },\n    {\n      \"column\": \"SST_cvW2\",\n      \"properties\": {\n        \"dtype\": \"number\",\n        \"std\": 0.060718107786037485,\n        \"min\": 0.0723461509318459,\n        \"max\": 0.425608160593342,\n        \"num_unique_values\": 1587,\n        \"samples\": [\n          0.177198335606938,\n          0.135982494952027,\n          0.106691224370314\n        ],\n        \"semantic_type\": \"\",\n        \"description\": \"\"\n      }\n    },\n    {\n      \"column\": \"SST_cvW1\",\n      \"properties\": {\n        \"dtype\": \"number\",\n        \"std\": 0.06092593099061438,\n        \"min\": 0.0723461509318459,\n        \"max\": 0.425608160593342,\n        \"num_unique_values\": 1587,\n        \"samples\": [\n          0.170676148565061,\n          0.215404475463889,\n          0.179773125381808\n        ],\n        \"semantic_type\": \"\",\n        \"description\": \"\"\n      }\n    }\n  ]\n}"
            }
          },
          "metadata": {},
          "execution_count": 174
        }
      ]
    },
    {
      "cell_type": "code",
      "source": [
        "y = np.array(fish['CPUE'])\n",
        "X = np.array(fish[['Year','SST_cvW', 'SST_cvW5', 'SST_cvW4','SST_cvW3','SST_cvW2','SST_cvW1']])"
      ],
      "metadata": {
        "id": "daYxkR_yTX8t"
      },
      "execution_count": 175,
      "outputs": []
    },
    {
      "cell_type": "markdown",
      "source": [
        "#### One-hot encoding of categorical variables"
      ],
      "metadata": {
        "id": "7yGU6PZCe7Nu"
      }
    },
    {
      "cell_type": "code",
      "source": [
        "categorical_columns = fish.select_dtypes(include=['object']).columns.tolist()\n",
        "categorical_columns"
      ],
      "metadata": {
        "colab": {
          "base_uri": "https://localhost:8080/"
        },
        "id": "gnigwz0PYCTg",
        "outputId": "1b43c367-bc5a-41a0-db2a-0e614a9afe5e"
      },
      "execution_count": 176,
      "outputs": [
        {
          "output_type": "execute_result",
          "data": {
            "text/plain": [
              "['Area', 'Species']"
            ]
          },
          "metadata": {},
          "execution_count": 176
        }
      ]
    },
    {
      "cell_type": "code",
      "source": [
        "from sklearn.preprocessing import OneHotEncoder\n",
        "ohe = OneHotEncoder(drop='first')"
      ],
      "metadata": {
        "id": "0VtLp6lQUnGt"
      },
      "execution_count": 178,
      "outputs": []
    },
    {
      "cell_type": "code",
      "source": [
        "X_ohe = ohe.fit_transform(fish[categorical_columns]).toarray()\n",
        "#one_hot_array = encoder.fit_transform(df[['color']]).toarray()"
      ],
      "metadata": {
        "id": "pDsb1NRdXc9s"
      },
      "execution_count": 179,
      "outputs": []
    },
    {
      "cell_type": "code",
      "source": [
        "X_ohe"
      ],
      "metadata": {
        "colab": {
          "base_uri": "https://localhost:8080/"
        },
        "id": "wJfCKRvDY8A3",
        "outputId": "defd9b27-469b-4f91-a54f-e4d23cad4e59"
      },
      "execution_count": 180,
      "outputs": [
        {
          "output_type": "execute_result",
          "data": {
            "text/plain": [
              "array([[0., 0., 1., 1., 0., 0.],\n",
              "       [0., 0., 1., 1., 0., 0.],\n",
              "       [0., 0., 1., 1., 0., 0.],\n",
              "       ...,\n",
              "       [1., 0., 0., 0., 0., 1.],\n",
              "       [1., 0., 0., 0., 0., 1.],\n",
              "       [1., 0., 0., 0., 0., 1.]])"
            ]
          },
          "metadata": {},
          "execution_count": 180
        }
      ]
    },
    {
      "cell_type": "code",
      "source": [
        "X_ohe.shape"
      ],
      "metadata": {
        "colab": {
          "base_uri": "https://localhost:8080/"
        },
        "id": "nQmEdh69aFFW",
        "outputId": "e5c7b8a9-c874-42d9-e7f4-27e5beed4284"
      },
      "execution_count": 181,
      "outputs": [
        {
          "output_type": "execute_result",
          "data": {
            "text/plain": [
              "(6716, 6)"
            ]
          },
          "metadata": {},
          "execution_count": 181
        }
      ]
    },
    {
      "cell_type": "code",
      "source": [
        "X = np.concatenate((X, X_ohe), axis=1)\n",
        "X.shape"
      ],
      "metadata": {
        "colab": {
          "base_uri": "https://localhost:8080/"
        },
        "id": "Ird0jYxmWCuz",
        "outputId": "10887c8a-80a7-490b-c9a0-e1c65b4f1ce7"
      },
      "execution_count": 182,
      "outputs": [
        {
          "output_type": "execute_result",
          "data": {
            "text/plain": [
              "(6716, 13)"
            ]
          },
          "metadata": {},
          "execution_count": 182
        }
      ]
    },
    {
      "cell_type": "markdown",
      "source": [
        "### Cross validation: training/test split\n",
        "\n",
        "We start with a simple random split: 80% data for training, 10% test data"
      ],
      "metadata": {
        "id": "Bn_f56hlfAdF"
      }
    },
    {
      "cell_type": "code",
      "source": [
        "from sklearn.model_selection import train_test_split\n",
        "\n",
        "X_train, X_test, y_train, y_test = train_test_split(X, y, test_size = 0.1)"
      ],
      "metadata": {
        "id": "IpC3qAelMTWz"
      },
      "execution_count": 195,
      "outputs": []
    },
    {
      "cell_type": "code",
      "source": [
        "X_train.shape"
      ],
      "metadata": {
        "colab": {
          "base_uri": "https://localhost:8080/"
        },
        "id": "Vq3z1OVnesya",
        "outputId": "13c6bbce-cb01-45a9-80d5-20faed27d1b3"
      },
      "execution_count": 196,
      "outputs": [
        {
          "output_type": "execute_result",
          "data": {
            "text/plain": [
              "(6044, 13)"
            ]
          },
          "metadata": {},
          "execution_count": 196
        }
      ]
    },
    {
      "cell_type": "code",
      "source": [
        "X_test.shape"
      ],
      "metadata": {
        "colab": {
          "base_uri": "https://localhost:8080/"
        },
        "id": "OPVMJ0S3exVi",
        "outputId": "a54dfd29-572f-4cc9-e780-496a41e1701b"
      },
      "execution_count": 198,
      "outputs": [
        {
          "output_type": "execute_result",
          "data": {
            "text/plain": [
              "(672, 13)"
            ]
          },
          "metadata": {},
          "execution_count": 198
        }
      ]
    },
    {
      "cell_type": "markdown",
      "source": [
        "#### Data normalization\n",
        "\n",
        "We normalise the data using **standardization**: we want our numerical features to have zero mean and unit variance.\n",
        "\n",
        "First, we subset the trainig data by taking only the numerical features (first 7 columns). Please note that we are using the **training data for normalization**: this is important, since in real applications you don't have yet the test data."
      ],
      "metadata": {
        "id": "i3sZ9H_9jSmG"
      }
    },
    {
      "cell_type": "code",
      "source": [
        "ncols = X_train.shape[1]\n",
        "X_temp = X_train[:,0:7] ## the last index in the range is not included"
      ],
      "metadata": {
        "id": "kZMAX536jbGq"
      },
      "execution_count": 200,
      "outputs": []
    },
    {
      "cell_type": "code",
      "source": [
        "X_train.mean(axis=0)"
      ],
      "metadata": {
        "colab": {
          "base_uri": "https://localhost:8080/"
        },
        "id": "AQ8pQkcWop8J",
        "outputId": "22b277e3-f8ee-4473-db6c-639a995311b0"
      },
      "execution_count": 205,
      "outputs": [
        {
          "output_type": "execute_result",
          "data": {
            "text/plain": [
              "array([2.00100728e+03, 1.93945903e-01, 1.90615991e-01, 1.93183271e-01,\n",
              "       1.95524450e-01, 1.92174325e-01, 1.93562533e-01, 2.45367306e-01,\n",
              "       1.64791529e-01, 1.36995367e-01, 2.50827267e-01, 2.50496360e-01,\n",
              "       2.47849107e-01])"
            ]
          },
          "metadata": {},
          "execution_count": 205
        }
      ]
    },
    {
      "cell_type": "code",
      "source": [
        "from sklearn import preprocessing\n",
        "\n",
        "scaler = preprocessing.StandardScaler()\n",
        "X_train_scaled = scaler.fit_transform(X_temp)"
      ],
      "metadata": {
        "id": "9elK_BIPZUW4"
      },
      "execution_count": 201,
      "outputs": []
    },
    {
      "cell_type": "code",
      "source": [
        "X_train_scaled.mean(axis=0) ## all features have now zero mean"
      ],
      "metadata": {
        "colab": {
          "base_uri": "https://localhost:8080/"
        },
        "id": "duYFreUQoi06",
        "outputId": "5bd95d99-50ca-4950-9f46-5a11487160ab"
      },
      "execution_count": 203,
      "outputs": [
        {
          "output_type": "execute_result",
          "data": {
            "text/plain": [
              "array([-1.42968768e-15, -3.04888845e-15, -4.19952329e-15,  9.79362190e-16,\n",
              "       -4.93023337e-15,  3.23458078e-15,  1.90100895e-16])"
            ]
          },
          "metadata": {},
          "execution_count": 203
        }
      ]
    },
    {
      "cell_type": "code",
      "source": [
        "X_train_scaled.std(axis=0)"
      ],
      "metadata": {
        "colab": {
          "base_uri": "https://localhost:8080/"
        },
        "id": "QCquM6RerxNT",
        "outputId": "c29b0058-63d1-41e7-d95f-fad90948d81c"
      },
      "execution_count": 206,
      "outputs": [
        {
          "output_type": "execute_result",
          "data": {
            "text/plain": [
              "array([1., 1., 1., 1., 1., 1., 1.])"
            ]
          },
          "metadata": {},
          "execution_count": 206
        }
      ]
    },
    {
      "cell_type": "code",
      "source": [
        "X_train_scaled = np.concatenate((X_train_scaled, X_train[:,7:ncols]), axis=1)\n",
        "X_train_scaled.shape"
      ],
      "metadata": {
        "colab": {
          "base_uri": "https://localhost:8080/"
        },
        "id": "9cDaf7QOk5iO",
        "outputId": "20bd7995-29cd-45dd-baa2-14bb90fa8a74"
      },
      "execution_count": 207,
      "outputs": [
        {
          "output_type": "execute_result",
          "data": {
            "text/plain": [
              "(6044, 13)"
            ]
          },
          "metadata": {},
          "execution_count": 207
        }
      ]
    },
    {
      "cell_type": "code",
      "source": [
        "X_temp = X_test[:,0:7]\n",
        "X_test_scaled = scaler.transform(X_temp)\n",
        "X_test_scaled = np.concatenate((X_test_scaled, X_test[:,7:ncols]), axis=1)"
      ],
      "metadata": {
        "id": "Ob9OboInlc1r"
      },
      "execution_count": 208,
      "outputs": []
    },
    {
      "cell_type": "markdown",
      "source": [
        "### Linear regression model"
      ],
      "metadata": {
        "id": "A8ssbHQtjVm0"
      }
    },
    {
      "cell_type": "code",
      "source": [
        "from sklearn.linear_model import LinearRegression\n",
        "reg = LinearRegression().fit(X_train_scaled, y_train)"
      ],
      "metadata": {
        "id": "qr6yl_RXZafV"
      },
      "execution_count": 209,
      "outputs": []
    },
    {
      "cell_type": "code",
      "source": [
        "reg.coef_"
      ],
      "metadata": {
        "colab": {
          "base_uri": "https://localhost:8080/"
        },
        "id": "VDT_kCWNd3Zo",
        "outputId": "5854690a-355c-4c33-f4fd-35296e3e4511"
      },
      "execution_count": 210,
      "outputs": [
        {
          "output_type": "execute_result",
          "data": {
            "text/plain": [
              "array([-0.08611974, -0.04919965, -0.11227253,  0.10912014,  0.12921954,\n",
              "        0.09635828, -0.08552367, -1.68962805, -1.35725172,  0.82696775,\n",
              "       -5.69958189, -5.46879849,  3.00627159])"
            ]
          },
          "metadata": {},
          "execution_count": 210
        }
      ]
    },
    {
      "cell_type": "code",
      "source": [
        "print(reg.score(X_train_scaled,y_train))"
      ],
      "metadata": {
        "colab": {
          "base_uri": "https://localhost:8080/"
        },
        "id": "jYIPv5zsfN8G",
        "outputId": "b746660d-32a1-4fb1-ec04-d1bae4c3ad71"
      },
      "execution_count": 211,
      "outputs": [
        {
          "output_type": "stream",
          "name": "stdout",
          "text": [
            "0.7591908332973867\n"
          ]
        }
      ]
    },
    {
      "cell_type": "code",
      "source": [
        "y_hat = reg.predict(X_test_scaled)\n",
        "\n",
        "plt.scatter(y_hat, y_test, alpha=0.5)\n",
        "plt.show()"
      ],
      "metadata": {
        "colab": {
          "base_uri": "https://localhost:8080/",
          "height": 430
        },
        "id": "DWo_e2J6dEQy",
        "outputId": "b2b1e9e7-d82d-4ba3-b844-720e5da6b538"
      },
      "execution_count": 212,
      "outputs": [
        {
          "output_type": "display_data",
          "data": {
            "text/plain": [
              "<Figure size 640x480 with 1 Axes>"
            ],
            "image/png": "[encoded data removed]"
          },
          "metadata": {}
        }
      ]
    },
    {
      "cell_type": "code",
      "source": [
        "np.corrcoef(y_test,reg.predict(X_test_scaled))"
      ],
      "metadata": {
        "colab": {
          "base_uri": "https://localhost:8080/"
        },
        "id": "AVRhb_8MctGj",
        "outputId": "cd803aea-41e8-4f10-9fba-164859d36835"
      },
      "execution_count": 213,
      "outputs": [
        {
          "output_type": "execute_result",
          "data": {
            "text/plain": [
              "array([[1.        , 0.86194625],\n",
              "       [0.86194625, 1.        ]])"
            ]
          },
          "metadata": {},
          "execution_count": 213
        }
      ]
    },
    {
      "cell_type": "markdown",
      "source": [
        "## k-fold cross validation\n",
        "\n",
        "!['k-fold-cv'](https://scikit-learn.org/stable/_images/grid_search_cross_validation.png)"
      ],
      "metadata": {
        "id": "nCOygZSQr_zt"
      }
    },
    {
      "cell_type": "code",
      "source": [
        "def train_test_model(feat_train, targ_train, feat_val, targ_val):\n",
        "\n",
        "  ## data normalization\n",
        "  scaler = preprocessing.StandardScaler()\n",
        "  feat_train_scaled = scaler.fit_transform(feat_train)\n",
        "  feat_val_scaled = scaler.transform(feat_val)\n",
        "\n",
        "  ## fit linear regression model\n",
        "  modfit = LinearRegression().fit(feat_train_scaled, targ_train)\n",
        "\n",
        "  ## model evaluation\n",
        "  y_hat = modfit.predict(feat_val_scaled)\n",
        "  pears_corr = np.corrcoef(targ_val, y_hat)[0,1]\n",
        "\n",
        "  return(pears_corr)"
      ],
      "metadata": {
        "id": "ocpgjCOs3uKp"
      },
      "execution_count": 229,
      "outputs": []
    },
    {
      "cell_type": "code",
      "source": [
        "from sklearn.model_selection import KFold\n",
        "\n",
        "# KFold split\n",
        "nsplits = 10\n",
        "kf = KFold(n_splits=nsplits)\n",
        "res = []\n",
        "\n",
        "for i, (train_index, test_index) in enumerate(kf.split(X)):\n",
        "    print(f\"Fold {i}:\")\n",
        "\n",
        "    ## train and validatino sets\n",
        "    val_X = X[test_index,:]\n",
        "    val_y = y[test_index]\n",
        "\n",
        "    train_X = X[train_index,:]\n",
        "    train_y = y[train_index]\n",
        "\n",
        "    print(\"size of train set:\", len(train_y))\n",
        "    print(\"size of test set:\", len(val_y))\n",
        "\n",
        "    temp = train_test_model(train_X, train_y, val_X, val_y)\n",
        "    print(temp)\n",
        "\n",
        "    res.append(temp)\n"
      ],
      "metadata": {
        "colab": {
          "base_uri": "https://localhost:8080/"
        },
        "id": "qYCM1qvHZfhD",
        "outputId": "f46c9f73-4ea7-4fdf-e4e2-55d4a89b6e44"
      },
      "execution_count": 237,
      "outputs": [
        {
          "output_type": "stream",
          "name": "stdout",
          "text": [
            "Fold 0:\n",
            "size of train set: 6044\n",
            "size of test set: 672\n",
            "0.5146258636840927\n",
            "Fold 1:\n",
            "size of train set: 6044\n",
            "size of test set: 672\n",
            "0.12833725673550808\n",
            "Fold 2:\n",
            "size of train set: 6044\n",
            "size of test set: 672\n",
            "0.8671182267657002\n",
            "Fold 3:\n",
            "size of train set: 6044\n",
            "size of test set: 672\n",
            "0.7637020626074965\n",
            "Fold 4:\n",
            "size of train set: 6044\n",
            "size of test set: 672\n",
            "0.7184959295407131\n",
            "Fold 5:\n",
            "size of train set: 6044\n",
            "size of test set: 672\n",
            "0.2863098711981286\n",
            "Fold 6:\n",
            "size of train set: 6045\n",
            "size of test set: 671\n",
            "-0.26446759646871476\n",
            "Fold 7:\n",
            "size of train set: 6045\n",
            "size of test set: 671\n",
            "0.9226362425611428\n",
            "Fold 8:\n",
            "size of train set: 6045\n",
            "size of test set: 671\n",
            "0.05472980739598686\n",
            "Fold 9:\n",
            "size of train set: 6045\n",
            "size of test set: 671\n",
            "0.06746434215229022\n"
          ]
        }
      ]
    },
    {
      "cell_type": "code",
      "source": [
        "np.mean(res)"
      ],
      "metadata": {
        "colab": {
          "base_uri": "https://localhost:8080/"
        },
        "id": "S5O8dqE_Az_8",
        "outputId": "5006ce49-65b7-4f8b-c29d-d1cacfeb5936"
      },
      "execution_count": 238,
      "outputs": [
        {
          "output_type": "execute_result",
          "data": {
            "text/plain": [
              "np.float64(0.4058952006172344)"
            ]
          },
          "metadata": {},
          "execution_count": 238
        }
      ]
    }
  ]
}
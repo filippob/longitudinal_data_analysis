{
  "nbformat": 4,
  "nbformat_minor": 0,
  "metadata": {
    "colab": {
      "provenance": []
    },
    "kernelspec": {
      "name": "python3",
      "display_name": "Python 3"
    },
    "language_info": {
      "name": "python"
    }
  },
  "cells": [
    {
      "cell_type": "markdown",
      "source": [
        "# Mixed models for repeated records\n",
        "\n",
        "This is a frequent case of longitudinal data: repeated observations\n",
        "taken on individuals. The objective is to study the change of the target\n",
        "variable over time (multiple measurements) and the factors (explanatory\n",
        "variables) that influence this change. Observations that belong to the\n",
        "same individual (patient, animal, plant, group) tend to be more similar\n",
        "than observations from different individuals, and this covariance need\n",
        "to be accounted for in the model of analysis.\n",
        "\n",
        "Repeated-record data are a special case of hierarchical data, where\n",
        "observations are nested within levels (e.g. milk yield measurements\n",
        "within cow, or cows within herd, fish catches within region etc.).\n",
        "\n",
        "-   $y_{ij}$: target variable measured on individual *i* at time *j*\n",
        "-   $\\Sigma$: symmetric covariance matrix between individuals\n",
        "\n",
        "## Cow data\n",
        "\n",
        "Dataset on dairy cows:\n",
        "\n",
        "-   NID: cow ID\n",
        "-   dtn: birthdate\n",
        "-   dtp: calving date\n",
        "-   dtcf: milk testing day\n",
        "-   aua: herd\n",
        "-   nl: parity\n",
        "-   milk: kg/day\n",
        "-   fat %\n",
        "-   protein %\n",
        "-   SCC: somatic cells count\n",
        "-   fat kg\n",
        "-   protein kg"
      ],
      "metadata": {
        "id": "wH81v1mj_0qy"
      }
    },
    {
      "cell_type": "code",
      "execution_count": null,
      "metadata": {
        "id": "_Mr9fzlO_vUp"
      },
      "outputs": [],
      "source": [
        "import numpy as np ## arrays\n",
        "import pandas as pd ## dataframes\n",
        "import seaborn as sns ## plots\n",
        "import statsmodels.api as sm ## statistical models\n",
        "import matplotlib.pyplot as plt ## plots"
      ]
    },
    {
      "cell_type": "code",
      "source": [
        "url=\"https://raw.githubusercontent.com/filippob/longitudinal_data_analysis/refs/heads/main/data/cows/esempio.csv\"\n",
        "cows = pd.read_csv(url)\n",
        "\n",
        "cows"
      ],
      "metadata": {
        "id": "8WpVQFPqEGKP"
      },
      "execution_count": null,
      "outputs": []
    },
    {
      "cell_type": "markdown",
      "source": [
        "Repeated records per individual (cow):"
      ],
      "metadata": {
        "id": "727rAioBEh9m"
      }
    },
    {
      "cell_type": "code",
      "source": [
        "cows['NID'].value_counts().head()"
      ],
      "metadata": {
        "id": "73fkbdOdEi16"
      },
      "execution_count": null,
      "outputs": []
    },
    {
      "cell_type": "code",
      "source": [
        "cows['NID'].value_counts().value_counts().sort_index(ascending=False)"
      ],
      "metadata": {
        "id": "0Gs8sXUwEoqj"
      },
      "execution_count": null,
      "outputs": []
    },
    {
      "cell_type": "markdown",
      "source": [
        "### Preprocessing\n",
        "\n",
        "We encode dates as date data (not strings); in *Python* we can use the `Pandas` function `to_datetime` to convert strings to dates (specifying the input date format):"
      ],
      "metadata": {
        "id": "rO1QC8HMFM-j"
      }
    },
    {
      "cell_type": "code",
      "source": [
        "cows.dtypes"
      ],
      "metadata": {
        "id": "tt6Z7U-dEw5y"
      },
      "execution_count": null,
      "outputs": []
    },
    {
      "cell_type": "code",
      "source": [
        "cows['date'] = pd.to_datetime(cows['dtcf'], format='%d/%m/%Y')\n",
        "cows['date']"
      ],
      "metadata": {
        "id": "ucUacXuVFRjs"
      },
      "execution_count": null,
      "outputs": []
    },
    {
      "cell_type": "markdown",
      "source": [
        "Few cows with late parities, hence we group them:"
      ],
      "metadata": {
        "id": "b0QGweO3I0Fp"
      }
    },
    {
      "cell_type": "code",
      "source": [
        "cows['nl'].value_counts()"
      ],
      "metadata": {
        "id": "dI2osSrZJXwf"
      },
      "execution_count": null,
      "outputs": []
    },
    {
      "cell_type": "code",
      "source": [
        "# Define the breaks and labels\n",
        "bins = [0, 1, 2, 3, 4, 5, np.inf]\n",
        "labels = [\"1\", \"2\", \"3\", \"4\", \"5\", \"6+\"]\n",
        "\n",
        "# Apply cut to create 'parity' column\n",
        "cows['parity'] = pd.cut(cows['nl'], bins=bins, labels=labels, right=True)"
      ],
      "metadata": {
        "id": "VqF4n_SdJcVe"
      },
      "execution_count": null,
      "outputs": []
    },
    {
      "cell_type": "code",
      "source": [
        "cows['parity'].value_counts()"
      ],
      "metadata": {
        "id": "wdQKsploJq9t"
      },
      "execution_count": null,
      "outputs": []
    },
    {
      "cell_type": "markdown",
      "source": [
        "Then we select the variables of interest.\n",
        "\n",
        "-   target is milk kg / day\n",
        "-   time is the test-day date\n",
        "-   systematic effects are herd and parity (regrouped as above)"
      ],
      "metadata": {
        "id": "tBzSXxdoJwhw"
      }
    },
    {
      "cell_type": "code",
      "source": [
        "cows_reduced = cows[['NID','date','aua','parity','latte']]\n",
        "cows_reduced.rename(columns={'aua': 'herd', 'latte': 'milk'}, inplace=True)\n",
        "cows_reduced"
      ],
      "metadata": {
        "id": "u3FlUCxmJsTm"
      },
      "execution_count": null,
      "outputs": []
    },
    {
      "cell_type": "markdown",
      "source": [
        "## EDA"
      ],
      "metadata": {
        "id": "eGkqiXYHN1h9"
      }
    },
    {
      "cell_type": "code",
      "source": [
        "plt.figure(figsize=(8, 6))\n",
        "\n",
        "# Boxplot with fill by parity\n",
        "sns.boxplot(data=cows_reduced, x='parity', y='milk', hue='parity', dodge=False, palette='pastel')\n",
        "\n",
        "# Jittered data points\n",
        "sns.stripplot(data=cows_reduced, x='parity', y='milk',\n",
        "              color='black', alpha=0.5, jitter=0.2)\n",
        "\n",
        "# Remove legend (similar to guides(fill = \"none\"))\n",
        "plt.legend([],[], frameon=False)\n",
        "\n",
        "# Labels\n",
        "plt.xlabel(\"\")\n",
        "plt.ylabel(\"Milk yield, kg/day\")\n",
        "plt.title(\"\")\n",
        "\n",
        "plt.tight_layout()\n",
        "plt.show()"
      ],
      "metadata": {
        "id": "Pim0Le79L4TK"
      },
      "execution_count": null,
      "outputs": []
    },
    {
      "cell_type": "markdown",
      "source": [
        "##### Individual cow plots"
      ],
      "metadata": {
        "id": "8Q6Rl-sxOk1R"
      }
    },
    {
      "cell_type": "code",
      "source": [
        "## to suppress warnings with plots\n",
        "\n",
        "import warnings\n",
        "warnings.filterwarnings('ignore')"
      ],
      "metadata": {
        "id": "ambZJwSURUwM"
      },
      "execution_count": null,
      "outputs": []
    },
    {
      "cell_type": "code",
      "source": [
        "# Convert NID to string to treat it as a categorical variable (like factor in R)\n",
        "cows_reduced['NID'] = cows_reduced['NID'].astype(str)\n",
        "\n",
        "# Create the FacetGrid\n",
        "g = sns.FacetGrid(cows_reduced, col=\"NID\", col_wrap=4, height=3, sharey=False)\n",
        "\n",
        "# Map both points and lines\n",
        "g.map_dataframe(sns.lineplot, x=\"date\", y=\"milk\", hue=\"NID\", legend=False)\n",
        "g.map_dataframe(sns.scatterplot, x=\"date\", y=\"milk\", hue=\"NID\", legend=False)\n",
        "\n",
        "# Rotate x-axis labels\n",
        "for ax in g.axes.flat:\n",
        "    for label in ax.get_xticklabels():\n",
        "        label.set_rotation(90)\n",
        "\n",
        "# Set axis labels\n",
        "g.set_axis_labels(\"Test day\", \"Milk kg/d\")\n",
        "\n",
        "# Tight layout\n",
        "plt.tight_layout()\n",
        "plt.show()"
      ],
      "metadata": {
        "id": "GBQsZsoaOxDK"
      },
      "execution_count": null,
      "outputs": []
    },
    {
      "cell_type": "markdown",
      "source": [
        "By herd:"
      ],
      "metadata": {
        "id": "ytMhulCoP2gN"
      }
    },
    {
      "cell_type": "code",
      "source": [
        "cows_reduced['NID'] = cows_reduced['NID'].astype(str)\n",
        "cows_reduced['herd'] = cows_reduced['herd'].astype(str)\n",
        "\n",
        "# Set up FacetGrid by herd\n",
        "g = sns.FacetGrid(cows_reduced, col=\"herd\", col_wrap=6, height=3, sharey=False)\n",
        "\n",
        "# Map cow-level lines\n",
        "g.map_dataframe(\n",
        "    sns.lineplot,\n",
        "    x=\"date\",\n",
        "    y=\"milk\",\n",
        "    hue=\"NID\",\n",
        "    units=\"NID\",\n",
        "    estimator=None,\n",
        "    lw=0.7,\n",
        "    legend=False\n",
        ")\n",
        "\n",
        "# Rotate x-axis labels and adjust font size\n",
        "for ax in g.axes.flat:\n",
        "    ax.tick_params(axis='x', labelrotation=90, labelsize=6)\n",
        "\n",
        "# Set axis labels\n",
        "g.set_axis_labels(\"Test day\", \"Milk, kg/d\")\n",
        "\n",
        "plt.tight_layout()\n",
        "plt.show()\n"
      ],
      "metadata": {
        "id": "CUOjKHomOxip"
      },
      "execution_count": null,
      "outputs": []
    },
    {
      "cell_type": "markdown",
      "source": [
        "### Repeatability model"
      ],
      "metadata": {
        "id": "7qnJSSkYROoa"
      }
    },
    {
      "cell_type": "markdown",
      "source": [
        "$$\n",
        "\\mathbf{y} = \\mathbf{Xb} + \\mathbf{Wpe} + \\mathbf{e}\n",
        "$$\n",
        "\n",
        "We have here a **permanent environment effect** (**pe**) that is linked to the fact that we have repeated measurements on the same subjects. These repeated measurements share a covariance linked to the subject they belong to.\n",
        "\n",
        "This covariance translates to a component of the total variance of the target variable:\n",
        "\n",
        "$$\n",
        "Var(y) = Var(pe) + Var(e)\n",
        "$$\n",
        "\n",
        "Compared to simpler linear models, here we have one additional variance component besides the residual variance (i.e. variance of the target variable adjusted for the systematic effects).\n",
        "\n",
        "1. estimate variance components and repeatability\n",
        "2. get predictions of individual records (fitted values)"
      ],
      "metadata": {
        "id": "38LxS648VaBv"
      }
    },
    {
      "cell_type": "code",
      "source": [
        "# Ensure correct data types\n",
        "cows_reduced['parity'] = cows_reduced['parity'].astype('category')\n",
        "cows_reduced['herd'] = cows_reduced['herd'].astype('category')\n",
        "cows_reduced['NID'] = cows_reduced['NID'].astype('category')\n",
        "\n",
        "# Mixed Effects Model\n",
        "md = sm.formula.mixedlm(\"milk ~ parity + herd\", cows_reduced,\n",
        "                        groups=cows_reduced[\"NID\"]\n",
        "                        #re_formula=\"~parity\"  # Random intercepts for NID and random slope for parity\n",
        ")\n",
        "# Fit the model\n",
        "mdf = md.fit()\n",
        "\n",
        "# Print the summary\n",
        "#print(mdf.summary())"
      ],
      "metadata": {
        "id": "9Bv9XaLYRPWR"
      },
      "execution_count": null,
      "outputs": []
    },
    {
      "cell_type": "code",
      "source": [
        "# Covariance matrix of random effects\n",
        "print(\"\\nCovariance of Random Effects:\")\n",
        "print(mdf.cov_re)\n",
        "\n",
        "# Residual variance (residual error term)\n",
        "residual_variance = mdf.scale\n",
        "print(\"\\nResidual Variance (Residual Error):\")\n",
        "print(residual_variance)"
      ],
      "metadata": {
        "id": "hNVOc3ktUyKN"
      },
      "execution_count": null,
      "outputs": []
    },
    {
      "cell_type": "code",
      "source": [
        "# Extract variance components for random effects (V1)\n",
        "random_effect_variance = mdf.cov_re.iloc[0, 0]  # Variance of random intercept (NID)\n",
        "\n",
        "# Extract residual variance (V2)\n",
        "residual_variance = mdf.scale  # Residual variance\n",
        "\n",
        "# Calculate repeatability: Repeatability = V1 / (V1 + V2)\n",
        "repeatability = random_effect_variance / (random_effect_variance + residual_variance)\n",
        "\n",
        "print(f\"Repeatability: {round(repeatability,3)}\")"
      ],
      "metadata": {
        "id": "Pw1JVuePVEyl"
      },
      "execution_count": null,
      "outputs": []
    },
    {
      "cell_type": "markdown",
      "source": [
        "#### Model coefficients\n",
        "\n",
        "Systematic part of the mixed model:"
      ],
      "metadata": {
        "id": "SkqoUHj6bhb5"
      }
    },
    {
      "cell_type": "code",
      "source": [
        "mdf.params"
      ],
      "metadata": {
        "id": "iaqon7-gVR5W"
      },
      "execution_count": null,
      "outputs": []
    },
    {
      "cell_type": "markdown",
      "source": [
        "#### Random effects\n",
        "\n",
        "As many random effects as there are individuals (cows):"
      ],
      "metadata": {
        "id": "x9zSrSNtb4Sl"
      }
    },
    {
      "cell_type": "code",
      "source": [
        "len(mdf.random_effects)"
      ],
      "metadata": {
        "id": "YALQH4fWbm9z"
      },
      "execution_count": null,
      "outputs": []
    },
    {
      "cell_type": "markdown",
      "source": [
        "Random effects are centered and approximately normally distributed:"
      ],
      "metadata": {
        "id": "_VbwvwPncQcV"
      }
    },
    {
      "cell_type": "code",
      "source": [
        "x = np.array([v for k,v in mdf.random_effects.items()])\n",
        "x.mean()"
      ],
      "metadata": {
        "id": "empgn1bUcAOE"
      },
      "execution_count": null,
      "outputs": []
    },
    {
      "cell_type": "code",
      "source": [
        "x.std()"
      ],
      "metadata": {
        "id": "NiaZrxYoc1zp"
      },
      "execution_count": null,
      "outputs": []
    },
    {
      "cell_type": "code",
      "source": [
        "plt.hist(x)"
      ],
      "metadata": {
        "id": "cb2qeVExc6SP"
      },
      "execution_count": null,
      "outputs": []
    },
    {
      "cell_type": "markdown",
      "source": [
        "##### Fitted values\n",
        "\n",
        "From the model, we can obtain fitted values as:\n",
        "\n",
        "$$\n",
        "\\hat{y} = \\mu + \\text{parity} + \\text{herd} + \\text{u} = \\mathbf{Xb} + \\mathbf{Zu}\n",
        "$$"
      ],
      "metadata": {
        "id": "GVpQHkwYdSkp"
      }
    },
    {
      "cell_type": "code",
      "source": [
        "y_hat = mdf.fittedvalues"
      ],
      "metadata": {
        "id": "w9errcWUdKA3"
      },
      "execution_count": null,
      "outputs": []
    },
    {
      "cell_type": "markdown",
      "source": [
        "There are as many fitted values as records (repeated) in the dataset:"
      ],
      "metadata": {
        "id": "g75O4ePddg4C"
      }
    },
    {
      "cell_type": "code",
      "source": [
        "len(y_hat)"
      ],
      "metadata": {
        "id": "J7VYK6Q0dZJQ"
      },
      "execution_count": null,
      "outputs": []
    },
    {
      "cell_type": "code",
      "source": [
        "plt.hist(y_hat)"
      ],
      "metadata": {
        "id": "mXLZ_6Kbd6Jz"
      },
      "execution_count": null,
      "outputs": []
    },
    {
      "cell_type": "markdown",
      "source": [
        "Correlation between fitted and observed values."
      ],
      "metadata": {
        "id": "5ty5Lm8wdqTL"
      }
    },
    {
      "cell_type": "code",
      "source": [
        "plt.scatter(cows_reduced['milk'], y_hat, alpha=0.5)\n",
        "plt.show()"
      ],
      "metadata": {
        "id": "43I2Hml-fVlJ"
      },
      "execution_count": null,
      "outputs": []
    },
    {
      "cell_type": "code",
      "source": [
        "np.corrcoef(cows_reduced['milk'], y_hat)"
      ],
      "metadata": {
        "id": "xWd9FyrQdkPp"
      },
      "execution_count": null,
      "outputs": []
    },
    {
      "cell_type": "code",
      "source": [
        "##sqrt(sum((cows_reduced$milk-y_hat)^2)/nrow(cows_reduced)) ## RMSE\n",
        "rmse = np.sqrt(((cows_reduced['milk'] - y_hat)**2).sum()/cows_reduced.shape[0])\n",
        "\n",
        "print(round(rmse, 4))"
      ],
      "metadata": {
        "id": "VgNorUqTeMMb"
      },
      "execution_count": null,
      "outputs": []
    },
    {
      "cell_type": "code",
      "source": [
        "print(\"RMSE is\", round(rmse/cows_reduced['milk'].mean()*100,3), \"% of the average milk production\")"
      ],
      "metadata": {
        "id": "0aXul3KugQmu"
      },
      "execution_count": null,
      "outputs": []
    },
    {
      "cell_type": "markdown",
      "source": [
        "The correlation between observed and predicted (fitted) values of the\n",
        "target variable is one way to measure the **predictive ability** of the\n",
        "model (and so is the RMSE)\n",
        "\n",
        "**Q: have we measured correctly the predictive ability of the model?**"
      ],
      "metadata": {
        "id": "guYlPWD3eWl9"
      }
    },
    {
      "cell_type": "markdown",
      "source": [
        "### (Cross) Validation"
      ],
      "metadata": {
        "id": "FElFXgnqhG5_"
      }
    },
    {
      "cell_type": "code",
      "source": [
        "# Ensure default integer index if needed\n",
        "y_trn = cows_reduced.reset_index(drop=True).copy()\n",
        "\n",
        "# Total number of rows\n",
        "n = len(y_trn)\n",
        "\n",
        "# Sample 10% of row **positions**\n",
        "sample_indices = np.random.choice(n, size=int(n / 10), replace=False)\n",
        "\n",
        "# Set milk to NaN in those rows using iloc\n",
        "y_trn.iloc[sample_indices, y_trn.columns.get_loc('milk')] = np.nan"
      ],
      "metadata": {
        "id": "b0WqDV70eW-c"
      },
      "execution_count": null,
      "outputs": []
    },
    {
      "cell_type": "code",
      "source": [
        "y_trn"
      ],
      "metadata": {
        "id": "UY5ItekSr9sZ"
      },
      "execution_count": null,
      "outputs": []
    },
    {
      "cell_type": "code",
      "source": [],
      "metadata": {
        "id": "PPS_MtsRr-sP"
      },
      "execution_count": null,
      "outputs": []
    },
    {
      "cell_type": "code",
      "source": [
        "from sklearn.model_selection import train_test_split\n",
        "\n",
        "train, test = train_test_split(cows_reduced, test_size=0.1, stratify = cows_reduced['NID'])"
      ],
      "metadata": {
        "id": "mg1emnDKwlMG"
      },
      "execution_count": null,
      "outputs": []
    },
    {
      "cell_type": "code",
      "source": [
        "train.shape"
      ],
      "metadata": {
        "id": "wuVnoZtoz0l6"
      },
      "execution_count": null,
      "outputs": []
    },
    {
      "cell_type": "code",
      "source": [
        "# Mixed Effects Model\n",
        "md = sm.formula.mixedlm(\"milk ~ parity + herd\", train,\n",
        "                        groups=train[\"NID\"]\n",
        "                        #re_formula=\"~parity\"  # Random intercepts for NID and random slope for parity\n",
        ")\n",
        "# Fit the model\n",
        "mdf = md.fit()"
      ],
      "metadata": {
        "id": "bFuaFz2J0hHK"
      },
      "execution_count": null,
      "outputs": []
    },
    {
      "cell_type": "markdown",
      "source": [
        "$$\n",
        "\\hat{y} = \\mu + \\text{parity} + \\text{herd} + NID\n",
        "$$\n",
        "\n",
        "First, manually for the second test record:"
      ],
      "metadata": {
        "id": "yedoHTRU3hb_"
      }
    },
    {
      "cell_type": "code",
      "source": [
        "test.iloc[1,:]"
      ],
      "metadata": {
        "id": "fHYUQlwQ9mxK"
      },
      "execution_count": null,
      "outputs": []
    },
    {
      "cell_type": "markdown",
      "source": [
        "<u>Systematic effects</u>:"
      ],
      "metadata": {
        "id": "ItpnMAVL9wJT"
      }
    },
    {
      "cell_type": "code",
      "source": [
        "mdf.params.head()"
      ],
      "metadata": {
        "id": "T9apFOQV8O9m"
      },
      "execution_count": null,
      "outputs": []
    },
    {
      "cell_type": "code",
      "source": [
        "mu = np.array(mdf.params.filter(like='Intercept', axis=0)).item()\n",
        "parity = np.array(mdf.params.filter(like='parity[T.2]', axis=0)).item()\n",
        "herd = np.array(mdf.params.filter(like='2774304', axis=0)).item()\n",
        "\n",
        "print(\"mu:\", mu, \"parity:\", parity, \"herd:\", herd)"
      ],
      "metadata": {
        "id": "NQLT8nw807B0"
      },
      "execution_count": null,
      "outputs": []
    },
    {
      "cell_type": "markdown",
      "source": [
        "<u>Random effects</u>:"
      ],
      "metadata": {
        "id": "itL6gUI692od"
      }
    },
    {
      "cell_type": "code",
      "source": [
        "rand_eff = mdf.random_effects\n",
        "len(rand_eff)"
      ],
      "metadata": {
        "id": "BvCnkY_I04BF"
      },
      "execution_count": null,
      "outputs": []
    },
    {
      "cell_type": "code",
      "source": [
        "nid = np.array([v for k,v in rand_eff.items() if k == \"V27\"]).item()\n",
        "print('NID effect is:', nid)"
      ],
      "metadata": {
        "id": "3NYzIxJ39890"
      },
      "execution_count": null,
      "outputs": []
    },
    {
      "cell_type": "markdown",
      "source": [
        "We now have all the elements to make our prediction:"
      ],
      "metadata": {
        "id": "pHzqpASt_Ba-"
      }
    },
    {
      "cell_type": "code",
      "source": [
        "pred = mu + parity + herd + nid\n",
        "print(\"The prediction for the second test record is:\", round(pred, 3))"
      ],
      "metadata": {
        "id": "2WIT2DAU-wXG"
      },
      "execution_count": null,
      "outputs": []
    },
    {
      "cell_type": "markdown",
      "source": [
        "---\n",
        "\n",
        "Now we use `predict()` to make predictions automatically on the entire test set:"
      ],
      "metadata": {
        "id": "_ePzCE5w_H0O"
      }
    },
    {
      "cell_type": "code",
      "source": [
        "test_d = test.drop('milk', axis=1)"
      ],
      "metadata": {
        "id": "umQ68D8_3wvl"
      },
      "execution_count": null,
      "outputs": []
    },
    {
      "cell_type": "code",
      "source": [
        "test_d.head()"
      ],
      "metadata": {
        "id": "2ERMfEGC5Ma0"
      },
      "execution_count": null,
      "outputs": []
    },
    {
      "cell_type": "code",
      "source": [
        "predictions = mdf.predict(test_d)\n",
        "predictions.rename(\"y_hat\", inplace=True)\n",
        "predictions.head()"
      ],
      "metadata": {
        "id": "0xem--N64b6Y"
      },
      "execution_count": null,
      "outputs": []
    },
    {
      "cell_type": "code",
      "source": [
        "test = pd.merge(test, predictions, left_index=True, right_index=True)"
      ],
      "metadata": {
        "id": "pQ5Myt2k4gPH"
      },
      "execution_count": null,
      "outputs": []
    },
    {
      "cell_type": "code",
      "source": [
        "test.head()"
      ],
      "metadata": {
        "id": "GCQVrtSa_rDF"
      },
      "execution_count": null,
      "outputs": []
    },
    {
      "cell_type": "markdown",
      "source": [
        "#### Model evaluation"
      ],
      "metadata": {
        "id": "GS_opLYJCVxA"
      }
    },
    {
      "cell_type": "code",
      "source": [
        "sns.scatterplot(x=\"milk\", y=\"y_hat\", data=test)"
      ],
      "metadata": {
        "id": "1I5SdzECB1CU"
      },
      "execution_count": null,
      "outputs": []
    },
    {
      "cell_type": "code",
      "source": [
        "np.corrcoef(test['milk'], test['y_hat'])"
      ],
      "metadata": {
        "id": "kYQFxG1WCDgw"
      },
      "execution_count": null,
      "outputs": []
    },
    {
      "cell_type": "markdown",
      "source": [
        "-----------------------------------------------------------------------\n",
        "\n",
        "**Q: The correlation between observed and predicted milk production is lower compared to the one that we measured before: why do you think it is so?**\n",
        "\n",
        "-----------------------------------------------------------------------\n",
        "\n",
        "Let's calculate other metrics of model performance:"
      ],
      "metadata": {
        "id": "DmyZ803UClrl"
      }
    },
    {
      "cell_type": "code",
      "source": [
        "## function to claculate RMSE\n",
        "\n",
        "def rmse(y, y_hat):\n",
        "  n = len(y)\n",
        "  squared_diff = (y-y_hat)**2\n",
        "  sumsq = np.sum(squared_diff)\n",
        "  mse = sumsq/n\n",
        "  rmse = np.sqrt(mse)\n",
        "\n",
        "  return rmse"
      ],
      "metadata": {
        "id": "iIEtRpdFCeOu"
      },
      "execution_count": null,
      "outputs": []
    },
    {
      "cell_type": "code",
      "source": [
        "y = np.array(test['milk'])\n",
        "y_hat = np.array(test['y_hat'])\n",
        "\n",
        "rmseval = rmse(y,y_hat)\n",
        "print(round(rmseval, 3))"
      ],
      "metadata": {
        "id": "-0JMq1snD72q"
      },
      "execution_count": null,
      "outputs": []
    },
    {
      "cell_type": "markdown",
      "source": [
        "And in the training set?"
      ],
      "metadata": {
        "id": "P-o2nexpEWKv"
      }
    },
    {
      "cell_type": "code",
      "source": [
        "train_d = train.drop('milk', axis=1)"
      ],
      "metadata": {
        "id": "79P_KyUpD-yS"
      },
      "execution_count": null,
      "outputs": []
    },
    {
      "cell_type": "code",
      "source": [
        "predictions = mdf.predict(train_d)\n",
        "predictions.rename(\"y_hat\", inplace=True)"
      ],
      "metadata": {
        "id": "4A1ikuQYEc6c"
      },
      "execution_count": null,
      "outputs": []
    },
    {
      "cell_type": "code",
      "source": [
        "train = pd.merge(train, predictions, left_index=True, right_index=True)"
      ],
      "metadata": {
        "id": "F3VxRum7Eg-H"
      },
      "execution_count": null,
      "outputs": []
    },
    {
      "cell_type": "code",
      "source": [
        "sns.scatterplot(x=\"milk\", y=\"y_hat\", data=train)"
      ],
      "metadata": {
        "id": "obJCrra8Eqmo"
      },
      "execution_count": null,
      "outputs": []
    },
    {
      "cell_type": "code",
      "source": [
        "np.corrcoef(train['milk'], train['y_hat'])"
      ],
      "metadata": {
        "id": "39-8Njz8EruU"
      },
      "execution_count": null,
      "outputs": []
    },
    {
      "cell_type": "code",
      "source": [
        "y = np.array(train['milk'])\n",
        "y_hat = np.array(train['y_hat'])\n",
        "\n",
        "rmseval = rmse(y,y_hat)\n",
        "print(round(rmseval, 3))"
      ],
      "metadata": {
        "id": "uGSsuiCiEx1F"
      },
      "execution_count": null,
      "outputs": []
    },
    {
      "cell_type": "markdown",
      "source": [
        "---\n",
        "\n",
        "## Exercise: can you improve the model?\n"
      ],
      "metadata": {
        "id": "rylJDNPWFbde"
      }
    },
    {
      "cell_type": "code",
      "source": [
        "## your code here"
      ],
      "metadata": {
        "id": "whsauS6YFeKH"
      },
      "execution_count": null,
      "outputs": []
    },
    {
      "cell_type": "code",
      "source": [],
      "metadata": {
        "id": "4Spcxw14FgCn"
      },
      "execution_count": null,
      "outputs": []
    }
  ]
}
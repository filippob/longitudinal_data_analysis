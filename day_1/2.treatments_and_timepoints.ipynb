{
  "nbformat": 4,
  "nbformat_minor": 0,
  "metadata": {
    "colab": {
      "provenance": []
    },
    "kernelspec": {
      "name": "python3",
      "display_name": "Python 3"
    },
    "language_info": {
      "name": "python"
    }
  },
  "cells": [
    {
      "cell_type": "markdown",
      "source": [
        "# Treatments and timepoints\n",
        "\n",
        "$$\n",
        "y = \\mu + \\beta_1 \\text{timepoint} + \\beta_2 \\text{treatment} + e\n",
        "$$\n"
      ],
      "metadata": {
        "id": "ed70BtfJEBSq"
      }
    },
    {
      "cell_type": "markdown",
      "source": [
        "## Read the data\n",
        "\n",
        "Data from [The effects of lateral line ablation and regeneration in schooling giant danios](https://journals.biologists.com/jeb/article/221/8/jeb175166/300/The-effects-of-lateral-line-ablation-and)\n",
        "\n",
        "(data repo [here](https://zenodo.org/record/4999506))\n",
        "\n",
        "It's data on fish (*Devario aequipinnatus*) lateral line system, with the effect of chemical treatments (gentamycin or no treatment -- sham) at different timepoints."
      ],
      "metadata": {
        "id": "QEr7NpSOFYFz"
      }
    },
    {
      "cell_type": "code",
      "source": [
        "import numpy as np ## arrays\n",
        "import pandas as pd ## dataframes\n",
        "import seaborn as sns ## plots\n",
        "import statsmodels.api as sm ## statistical models\n",
        "import matplotlib.pyplot as plt ## plots\n"
      ],
      "metadata": {
        "id": "0DhAPUB-Fy5Q"
      },
      "execution_count": null,
      "outputs": []
    },
    {
      "cell_type": "code",
      "execution_count": null,
      "metadata": {
        "id": "Ri50tcYpD5E2"
      },
      "outputs": [],
      "source": [
        "## tab-separated text data\n",
        "url= \"https://zenodo.org/records/4999506/files/JEXBIO-2017-175166-Processed-Data-Master.txt\"\n",
        "danios = pd.read_csv(url, sep = \"\\t\")"
      ]
    },
    {
      "cell_type": "markdown",
      "source": [
        "Dataset on *giant danios*: how the lateral line system responds to chemical treatments.\n",
        "\n",
        "![giant danio](https://drive.google.com/uc?export=view&id=1kBpKQEg5Q6edFaSUsUCKZTi-XKA6Gva0)"
      ],
      "metadata": {
        "id": "lDsv03ZAGmIH"
      }
    },
    {
      "cell_type": "code",
      "source": [
        "danios"
      ],
      "metadata": {
        "id": "rnpTquCEGKib"
      },
      "execution_count": null,
      "outputs": []
    },
    {
      "cell_type": "code",
      "source": [
        "## converting Week (timepoint) to string\n",
        "danios['Week'] = danios['Week'].astype(str)"
      ],
      "metadata": {
        "id": "I9zxVM91OZlf"
      },
      "execution_count": null,
      "outputs": []
    },
    {
      "cell_type": "markdown",
      "source": [
        "The target variables can be:\n",
        "\n",
        "1.  nearest neighbor distance or NND (unit: body length),\n",
        "2.  time in school (percentage),\n",
        "3.  angular bearing (unit: degrees),\n",
        "4.  angular elevation (unit: degrees),\n",
        "5.  speed (body length per second).\n",
        "\n",
        "Explanatory variables include:\n",
        "\n",
        "-   `Treatment`: gentamycin / sham (control)\n",
        "-   `Week`: time point in subsequent weeks (from week -1 to week 8)"
      ],
      "metadata": {
        "id": "LkuTA7nqHnBc"
      }
    },
    {
      "cell_type": "markdown",
      "source": [
        "## EDA"
      ],
      "metadata": {
        "id": "rX9i7OPsMNTq"
      }
    },
    {
      "cell_type": "code",
      "source": [
        "danios.describe()"
      ],
      "metadata": {
        "id": "NbYhFKykGm08"
      },
      "execution_count": null,
      "outputs": []
    },
    {
      "cell_type": "code",
      "source": [
        "danios['Treatment'].value_counts()"
      ],
      "metadata": {
        "id": "GX7oz7ayMQ10"
      },
      "execution_count": null,
      "outputs": []
    },
    {
      "cell_type": "code",
      "source": [
        "danios['Week'].value_counts()"
      ],
      "metadata": {
        "id": "3aJlVRDsOMAW"
      },
      "execution_count": null,
      "outputs": []
    },
    {
      "cell_type": "code",
      "source": [
        "freq_table = pd.crosstab(danios['Treatment'], danios['Week'])\n",
        "freq_table"
      ],
      "metadata": {
        "id": "vWvaZfSPOSQO"
      },
      "execution_count": null,
      "outputs": []
    },
    {
      "cell_type": "code",
      "source": [
        "import warnings\n",
        "warnings.filterwarnings('ignore')\n",
        "#warnings.filterwarnings(action='once')"
      ],
      "metadata": {
        "id": "6cY2BrNfQmfs"
      },
      "execution_count": null,
      "outputs": []
    },
    {
      "cell_type": "code",
      "source": [
        "# Assuming 'danios' is your DataFrame\n",
        "mD = pd.melt(danios, id_vars=[\"Treatment\", \"Week\"], var_name=\"target\", value_name=\"value\")\n",
        "mD[\"Week\"] = pd.Categorical(mD[\"Week\"])\n",
        "\n",
        "# Group and calculate mean\n",
        "df_mean = mD.groupby([\"Week\", \"Treatment\", \"target\"], as_index=False).agg(avg=(\"value\", \"mean\"))\n",
        "df_mean.head()"
      ],
      "metadata": {
        "id": "eE041iSyO0v0"
      },
      "execution_count": null,
      "outputs": []
    },
    {
      "cell_type": "code",
      "source": [
        "# Set plot style and color palette\n",
        "palette = [\"#00AFBB\", \"#E7B800\", \"#FC4E07\"]\n",
        "sns.set(style=\"whitegrid\")\n",
        "\n",
        "# Create a FacetGrid for each 'target'\n",
        "g = sns.FacetGrid(mD, col=\"target\", col_wrap=3, sharey=False, height=4, palette=palette)\n",
        "\n",
        "# Boxplot\n",
        "g.map_dataframe(sns.boxplot, x=\"Week\", y=\"value\", hue=\"Treatment\", palette=palette, fliersize=0, boxprops=dict(alpha=0.3))\n",
        "\n",
        "# Overlay points and lines for the mean\n",
        "for ax, target in zip(g.axes.flat, mD[\"target\"].unique()):\n",
        "    subset = df_mean[df_mean[\"target\"] == target]\n",
        "    sns.pointplot(data=subset, x=\"Week\", y=\"avg\", hue=\"Treatment\", ax=ax,\n",
        "                  color=\"black\", markers=\"o\", linestyles=\"\", dodge=True, legend=False)\n",
        "    sns.lineplot(data=subset, x=\"Week\", y=\"avg\", hue=\"Treatment\", ax=ax,\n",
        "                 linewidth=1.5, palette=palette, legend=False)\n",
        "\n",
        "# Adjust legend and layout\n",
        "g.add_legend()\n",
        "plt.tight_layout()\n",
        "plt.show()"
      ],
      "metadata": {
        "id": "ovortXLWPhbd"
      },
      "execution_count": null,
      "outputs": []
    },
    {
      "cell_type": "markdown",
      "source": [
        "From reading the article, we expect the treatment to have an effect a little time after the application of gentamycin (vs control/sham) and then to see restoration when the cells of the lateral line system are regenerated."
      ],
      "metadata": {
        "id": "5K4jLJzvO9jX"
      }
    },
    {
      "cell_type": "markdown",
      "source": [
        "------------------------------------------------------------------------\n",
        "\n",
        "**Q: which target variables better show this expected pattern?**\n",
        "\n",
        "------------------------------------------------------------------------"
      ],
      "metadata": {
        "id": "Az4pgCsESXLu"
      }
    },
    {
      "cell_type": "markdown",
      "source": [
        "### Pick target variable\n",
        "\n",
        "We select `Time in School` (based on the EDA above)."
      ],
      "metadata": {
        "id": "Bx3GG3NYSc6Q"
      }
    },
    {
      "cell_type": "code",
      "source": [
        "dd = danios.groupby([\"Week\", \"Treatment\"], as_index=False).agg(\n",
        "    avg=(\"Time in School\", \"mean\"),\n",
        "    std=(\"Time in School\", \"std\")\n",
        ")"
      ],
      "metadata": {
        "id": "cFFjLWINSYJn"
      },
      "execution_count": null,
      "outputs": []
    },
    {
      "cell_type": "code",
      "source": [
        "# Step 1: Pivot to wide format, calculate absolute difference, and drop columns\n",
        "temp = dd.pivot(index=\"Week\", columns=\"Treatment\", values=\"avg\").reset_index()\n",
        "temp[\"diff\"] = (temp[\"Gentamycin\"] - temp[\"Sham\"]).abs()\n",
        "temp = temp[[\"Week\", \"diff\"]]  # Keep only Week and diff\n",
        "\n",
        "# Step 2: Merge back with original dd\n",
        "dd = dd.merge(temp, on=\"Week\", how=\"inner\")"
      ],
      "metadata": {
        "id": "8Jq2rsmQTdoi"
      },
      "execution_count": null,
      "outputs": []
    },
    {
      "cell_type": "code",
      "source": [
        "dd"
      ],
      "metadata": {
        "id": "YsmNG5kZThqo"
      },
      "execution_count": null,
      "outputs": []
    },
    {
      "cell_type": "code",
      "source": [
        "def highlight_greaterthan(s, threshold, column):\n",
        "    is_max = pd.Series(data=False, index=s.index)\n",
        "    is_max[column] = s.loc[column] >= threshold\n",
        "    return ['background-color: yellow' if is_max.any() else '' for v in is_max]\n",
        "\n",
        "\n",
        "dd.style.apply(highlight_greaterthan, threshold=20.0, column=['diff'], axis=1)"
      ],
      "metadata": {
        "id": "e7c0EBQbTiIq"
      },
      "execution_count": null,
      "outputs": []
    },
    {
      "cell_type": "markdown",
      "source": [
        "## Models of analysis\n",
        "\n",
        "1.  treatment within timepoint\n",
        "2.  treatment + timepoint\n",
        "3.  treatment + timepoint + (treatment x timepoint)\n",
        "\n",
        "### Within timepoint\n",
        "\n",
        "This is the simplest approach: we split the data by timepoint and make a comparison between treatments."
      ],
      "metadata": {
        "id": "KnlvNTZDV-bo"
      }
    },
    {
      "cell_type": "markdown",
      "source": [
        "Now we get a much simpler dataset, with `Gentamycin`-treated and control fish records from week 2 only."
      ],
      "metadata": {
        "id": "3gjD3y9JW8aZ"
      }
    },
    {
      "cell_type": "code",
      "source": [
        "school_time = mD.loc[(mD['target'] == \"Time in School\")] ## !! REMEMBER THAT WE CHOSE ONE TARGET VARIABLE, Time in School !!\n",
        "temp = school_time.loc[(school_time['Week'] == '2')]\n",
        "temp"
      ],
      "metadata": {
        "id": "gDKnxdu_WIQ8"
      },
      "execution_count": null,
      "outputs": []
    },
    {
      "cell_type": "markdown",
      "source": [
        "Likewise, we can apply a very simple model:\n",
        "\n",
        "$$\n",
        "\\text{Time in School} = \\mu + \\beta \\cdot \\text{Treatment} + e\n",
        "$$"
      ],
      "metadata": {
        "id": "qhlclgwcXCfj"
      }
    },
    {
      "cell_type": "code",
      "source": [
        "# Define the independent variables and add a constant for the intercept\n",
        "## BEWARE: our independent variable is categorical\n",
        "\n",
        "## here we are forcing Sham to be the reference category (0) and Gentamycin the alternative (1)\n",
        "temp[\"Treatment\"] = pd.Categorical(temp[\"Treatment\"], categories=[\"Sham\", \"Gentamycin\"], ordered=True)\n",
        "\n",
        "treat_d = pd.get_dummies(temp['Treatment'], prefix='Treatment', drop_first=True, dtype=int)\n",
        "treat_d.head(3)\n",
        "\n",
        "X = sm.add_constant(treat_d)  # Adds the intercept term\n",
        "\n",
        "# Define the dependent variable\n",
        "y = temp['value']\n",
        "\n",
        "X.head()"
      ],
      "metadata": {
        "id": "H68FCtt6Wzbc"
      },
      "execution_count": null,
      "outputs": []
    },
    {
      "cell_type": "code",
      "source": [
        "# Fit the linear model\n",
        "model = sm.OLS(y, X).fit()\n",
        "\n",
        "# Print the summary of the regression\n",
        "print(model.summary())"
      ],
      "metadata": {
        "id": "GdhFCZkPY-GE"
      },
      "execution_count": null,
      "outputs": []
    },
    {
      "cell_type": "markdown",
      "source": [
        "---\n",
        "\n",
        "#### From matrix algebra\n",
        "\n",
        "$$\n",
        "\\mathbf{y} = \\mathbf{Xb} + \\mathbf{e}\n",
        "$$"
      ],
      "metadata": {
        "id": "SSH6XyD2dhRG"
      }
    },
    {
      "cell_type": "code",
      "source": [
        "y = np.array(y)\n",
        "X = np.array(X)"
      ],
      "metadata": {
        "id": "2bBE4nIjdiFe"
      },
      "execution_count": null,
      "outputs": []
    },
    {
      "cell_type": "markdown",
      "source": [
        "\n",
        "$$\n",
        "\\mathbf{X'y} = \\mathbf{X'Xb}\n",
        "$$\n",
        "\n",
        "-   **X**: (n,m) = (50, 2) [50 records, 2 parameters: intercept and slope]\n",
        "-   **y**: (n,1)\n",
        "-   **X'y**: (m,1) = (2,1)\n",
        "-   **X'X**: (m,m) = (2,2)\n",
        "-   **b**: (m,1) = (2,1)"
      ],
      "metadata": {
        "id": "3oIutXmBd3Fa"
      }
    },
    {
      "cell_type": "code",
      "source": [
        "Xy = np.dot(X.transpose(), y)\n",
        "XX = np.dot(X.transpose(), X)"
      ],
      "metadata": {
        "id": "htycdmA8dxZX"
      },
      "execution_count": null,
      "outputs": []
    },
    {
      "cell_type": "markdown",
      "source": [
        "$$\n",
        "\\mathbf{b} = \\mathbf{X'X}^{-1} \\cdot \\mathbf{X'y}\n",
        "$$"
      ],
      "metadata": {
        "id": "248vvpJXg6E8"
      }
    },
    {
      "cell_type": "code",
      "source": [
        "invXX = np.linalg.inv(XX)\n",
        "b = np.dot(invXX, Xy)\n",
        "\n",
        "b"
      ],
      "metadata": {
        "id": "7diJmAb6gkSG"
      },
      "execution_count": null,
      "outputs": []
    },
    {
      "cell_type": "markdown",
      "source": [
        "We see that this involves matrix inversion. Since this is a 2x2 matrix, we could do it by hand (for fun! But don't worry: Python will take care of matrix inversion for this and -much- larger matrices).\n",
        "\n",
        "$$\n",
        "\\begin{bmatrix}\n",
        "a & b \\\\\n",
        "c & d\n",
        "\\end{bmatrix} ^ {-1} = \\frac{1}{ad-bc} \\cdot\n",
        "\\begin{bmatrix}\n",
        "d & -b \\\\\n",
        "-c & a\n",
        "\\end{bmatrix}\n",
        "$$"
      ],
      "metadata": {
        "id": "7BlcRgpshZ2P"
      }
    },
    {
      "cell_type": "code",
      "source": [
        "XX"
      ],
      "metadata": {
        "id": "81a9Ao43hqtr"
      },
      "execution_count": null,
      "outputs": []
    },
    {
      "cell_type": "code",
      "source": [
        "## we define the determinant and the matrix of cofactors\n",
        "multiplicative_factor = 1/(50*25 - 25*25)\n",
        "M =np.array([[25, -25], [-25, 50]])\n",
        "print(M)"
      ],
      "metadata": {
        "id": "nZ6BJAivhMif"
      },
      "execution_count": null,
      "outputs": []
    },
    {
      "cell_type": "code",
      "source": [
        "## we get the inverse by scalar * array multiplication\n",
        "invMatrix = multiplicative_factor * M\n",
        "print(invMatrix)"
      ],
      "metadata": {
        "id": "ZqHNLnWVh9X6"
      },
      "execution_count": null,
      "outputs": []
    },
    {
      "cell_type": "code",
      "source": [
        "## this is equal to what we obtained before using the numpy linalg.inv() method\n",
        "invXX"
      ],
      "metadata": {
        "id": "lVHxiWxkiGDL"
      },
      "execution_count": null,
      "outputs": []
    },
    {
      "cell_type": "markdown",
      "source": [
        "#### And the p-value?\n",
        "\n",
        "First, we need to estimate the variance of our target variable:\n",
        "\n",
        "$$\n",
        "\\hat{\\sigma}^2 = \\frac{1}{(n-2)}\\sum(y_i-\\hat{y}_i)^2\n",
        "$$\n",
        "\n",
        "The $(n-2)$ comes from $(n - (k+1)$, where $k$ is the length of the vector of parameters $\\mathbf{b}$ - 1 (to remove the intercept) (we typically look at parameters one by one)"
      ],
      "metadata": {
        "id": "6bvbwPeCihG-"
      }
    },
    {
      "cell_type": "code",
      "source": [
        "n = temp.shape[0] ## sample size\n",
        "y_hat = np.dot(X, b) ## predictions/fitted values\n",
        "residuals = y-y_hat\n",
        "variance = np.square(residuals).sum()/(n-2)\n",
        "print(\"Variance is\", variance)"
      ],
      "metadata": {
        "id": "7Fso5M1IjcvQ"
      },
      "execution_count": null,
      "outputs": []
    },
    {
      "cell_type": "markdown",
      "source": [
        "$$\n",
        "\\text{Var}(\\hat{\\beta}) = \\frac{\\hat{\\sigma}^2}{\\sum(x_i-\\overline{x})^2}\n",
        "$$"
      ],
      "metadata": {
        "id": "mBkSysJgly5n"
      }
    },
    {
      "cell_type": "code",
      "source": [
        "X[:,1]"
      ],
      "metadata": {
        "id": "zxBg4CpsmLQx"
      },
      "execution_count": null,
      "outputs": []
    },
    {
      "cell_type": "code",
      "source": [
        "x_avg = X[:,1].mean()\n",
        "var_beta = variance/np.square(X[:,1]-x_avg).sum()"
      ],
      "metadata": {
        "id": "iQwdD57cjgWd"
      },
      "execution_count": null,
      "outputs": []
    },
    {
      "cell_type": "markdown",
      "source": [
        "Now, the standard error of the estimate is the square root of its variance.\n",
        "You can compare this value with the results from the `OLS()` function above."
      ],
      "metadata": {
        "id": "r130g0-VmZ0_"
      }
    },
    {
      "cell_type": "code",
      "source": [
        "std_err_beta = np.sqrt(var_beta)\n",
        "print(std_err_beta)"
      ],
      "metadata": {
        "id": "Ac0ckW_JmQ4i"
      },
      "execution_count": null,
      "outputs": []
    },
    {
      "cell_type": "code",
      "source": [
        "tstat = b[1]/std_err_beta\n",
        "df = n - len(b) ## degrees of freedom\n",
        "tstat"
      ],
      "metadata": {
        "id": "OXH8nynXmVBT"
      },
      "execution_count": null,
      "outputs": []
    },
    {
      "cell_type": "markdown",
      "source": [
        "Finally, with the value of our Student's t statistic, we can get the p-value for the Treatment coefficient:"
      ],
      "metadata": {
        "id": "GPz01cvCrO3h"
      }
    },
    {
      "cell_type": "code",
      "source": [
        "from scipy.stats import t\n",
        "\n",
        "# For a **two-tailed** p-value:\n",
        "pval = 2 * t.cdf(tstat, df=df) ## from the Student's t CDF\n",
        "print(pval)"
      ],
      "metadata": {
        "id": "EpHld5e_nJ1_"
      },
      "execution_count": null,
      "outputs": []
    },
    {
      "cell_type": "markdown",
      "source": [
        "#### ANOVA\n",
        "\n",
        "Yet another way to get solve our within-timepoint model is to use **analysis of variance**:"
      ],
      "metadata": {
        "id": "Ton9wEsUub-S"
      }
    },
    {
      "cell_type": "code",
      "source": [
        "from statsmodels.formula.api import ols\n",
        "\n",
        "res = ols('value ~ Treatment', data=temp).fit()\n",
        "sm.stats.anova_lm(res, typ=2)"
      ],
      "metadata": {
        "id": "C66BboXDtHfB"
      },
      "execution_count": null,
      "outputs": []
    },
    {
      "cell_type": "markdown",
      "source": [
        "**IMPORTANT: ANOVA and linear regression are equivalent!**\n",
        "\n",
        "---"
      ],
      "metadata": {
        "id": "C0oztEnCumzo"
      }
    },
    {
      "cell_type": "markdown",
      "source": [
        "#### Apply the within-timepoint analysis to all timepoints\n",
        "\n",
        "We now take the model used for week 2 and apply it to all weeks (all timepoints): `ols(value ~ Treatment, data = temp)`"
      ],
      "metadata": {
        "id": "iI3v74n9uzVg"
      }
    },
    {
      "cell_type": "code",
      "source": [
        "import statsmodels.formula.api as smf\n",
        "\n",
        "school_time[\"Treatment\"] = pd.Categorical(school_time[\"Treatment\"], categories=[\"Sham\", \"Gentamycin\"], ordered=True)"
      ],
      "metadata": {
        "id": "5E4OK8petUq0"
      },
      "execution_count": null,
      "outputs": []
    },
    {
      "cell_type": "code",
      "source": [
        "results = []\n",
        "\n",
        "# Group by 'Week'\n",
        "for week, group in school_time.groupby('Week'):\n",
        "    # Fit linear model\n",
        "    model = smf.ols('value ~ Treatment', data=group).fit()\n",
        "    # Get summary as DataFrame\n",
        "    summary_df = model.summary2().tables[1].reset_index()\n",
        "    summary_df = summary_df.rename(columns={'index': 'term'})\n",
        "    summary_df['Week'] = week\n",
        "    # Filter out intercept\n",
        "    summary_df = summary_df[summary_df['term'] != 'Intercept']\n",
        "    results.append(summary_df)\n",
        "\n",
        "# Combine all results\n",
        "final_results = pd.concat(results, ignore_index=True)"
      ],
      "metadata": {
        "id": "xrA9wDZbRa9w"
      },
      "execution_count": null,
      "outputs": []
    },
    {
      "cell_type": "code",
      "source": [
        "## now we want to highlight significant results (lower than threshold)\n",
        "def highlight_lowerthan(s, threshold, column):\n",
        "    is_max = pd.Series(data=False, index=s.index)\n",
        "    is_max[column] = s.loc[column] < threshold\n",
        "    return ['background-color: yellow' if is_max.any() else '' for v in is_max]\n",
        "\n",
        "final_results.style.apply(highlight_lowerthan, threshold=0.05, column=['P>|t|'], axis=1)"
      ],
      "metadata": {
        "id": "KdxSX4xgRocB"
      },
      "execution_count": null,
      "outputs": []
    },
    {
      "cell_type": "markdown",
      "source": [
        "------------------------------------------------------------------------\n",
        "\n",
        "### Exercise [optional]\n",
        "\n",
        "Pick another target variable and apply the within-timepoint linear regression analysis:"
      ],
      "metadata": {
        "id": "l3VBWqkaTCUm"
      }
    },
    {
      "cell_type": "code",
      "source": [
        "## TASK 1: get the data for a different target variable\n",
        "\n",
        "## your code here!"
      ],
      "metadata": {
        "id": "JtCn1XmETKsD"
      },
      "execution_count": null,
      "outputs": []
    },
    {
      "cell_type": "code",
      "source": [
        "## TASK 2: run the model for each timepoint (within-timepoint analysis)\n",
        "\n",
        "## your code here!"
      ],
      "metadata": {
        "id": "Q-G8WC0aVqVk"
      },
      "execution_count": null,
      "outputs": []
    },
    {
      "cell_type": "markdown",
      "source": [
        "------------------------------------------------------------------------"
      ],
      "metadata": {
        "id": "0sG8Q7ePTJRi"
      }
    },
    {
      "cell_type": "markdown",
      "source": [
        "### Across-timepoint analysis\n",
        "\n",
        "We now use a more complex model of analysis, which uses all the data at once and includes both the effect of timepoint and the effect of treatment:\n",
        "\n",
        "$$\n",
        "\\text{Time in School} = \\mu + \\beta_1 \\text{Timepoint} + \\beta_2 \\text{Treatment} + e\n",
        "$$\n",
        "\n",
        "Again, we use `Time in School` as target:"
      ],
      "metadata": {
        "id": "_0Ak8EWbTXTS"
      }
    },
    {
      "cell_type": "code",
      "source": [
        "## starting point: we (re)get the data\n",
        "school_time = mD.loc[(mD['target'] == \"Time in School\")]\n",
        "school_time[\"Treatment\"] = pd.Categorical(school_time[\"Treatment\"], categories=[\"Sham\", \"Gentamycin\"], ordered=True)"
      ],
      "metadata": {
        "id": "ZoZwZuDHTujC"
      },
      "execution_count": null,
      "outputs": []
    },
    {
      "cell_type": "code",
      "source": [
        "week_d = pd.get_dummies(school_time['Week'], prefix='Week', drop_first=True, dtype=int) ## week -1 is the reference category value\n",
        "treat_d = pd.get_dummies(school_time['Treatment'], prefix='Treatment', drop_first=True, dtype=int)\n",
        "\n",
        "X = sm.add_constant(week_d)  # Adds the intercept term\n",
        "\n",
        "# Define the dependent variable\n",
        "y = school_time['value']\n",
        "\n",
        "X = pd.concat([X, treat_d['Treatment_Gentamycin']], axis=1)\n",
        "X.head()"
      ],
      "metadata": {
        "id": "uMLXkHxTUG7F"
      },
      "execution_count": null,
      "outputs": []
    },
    {
      "cell_type": "code",
      "source": [
        "# Fit the linear model\n",
        "model = sm.OLS(y, X).fit()\n",
        "\n",
        "# Print the summary of the regression\n",
        "print(model.summary())"
      ],
      "metadata": {
        "id": "g_Xd7mH8UcR6"
      },
      "execution_count": null,
      "outputs": []
    },
    {
      "cell_type": "markdown",
      "source": [
        "The output above shows:\n",
        "\n",
        "-   overall $R^2$ of the model\n",
        "-   overall p-value of the model\n",
        "-   estimates of single coefficients (with respect to the reference class)\n",
        "-   p-values for the single coefficients (under the null hypothesis that they're equal to zero)\n",
        "\n",
        "------------------------------------------------------------------------\n",
        "\n",
        "**Q: how do we interpret the model coefficients?**\n",
        "\n",
        "------------------------------------------------------------------------"
      ],
      "metadata": {
        "id": "cvU_jxnKVUfB"
      }
    },
    {
      "cell_type": "code",
      "source": [],
      "metadata": {
        "id": "Vx8ZcyWQVVhD"
      },
      "execution_count": null,
      "outputs": []
    }
  ]
}
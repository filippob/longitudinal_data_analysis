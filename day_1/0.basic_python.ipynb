{
  "nbformat": 4,
  "nbformat_minor": 0,
  "metadata": {
    "colab": {
      "provenance": [],
      "toc_visible": true
    },
    "kernelspec": {
      "name": "python3",
      "display_name": "Python 3"
    }
  },
  "cells": [
    {
      "cell_type": "markdown",
      "metadata": {
        "id": "jaH0umpACXMW"
      },
      "source": [
        "## Trying out Jupyter Notebooks with basic relevant Python\n",
        "\n",
        "Let's get acquainted with Python (3) and interactive Jupyter Notebooks (`ipynb`), some of the main working tools for this course.\n",
        "\n",
        "First of all, in an `ipynb` file we distinguish:\n",
        "\n",
        "- text chunks: where we write instructions, comments, explanations (like this one!)\n",
        "- code chunks: where we write Python instructions to be executed\n",
        "\n",
        "As for `Python`, we will mainly use three fundamental libraries:\n",
        "\n",
        "1. `numpy`: to work with arrays (vectors, matrices)\n",
        "2. `pandas`: to work with dataframes (reading and manipulating datasets)\n",
        "3. `matplotlib`: to visualize data and results (making plots)\n",
        "\n",
        "This is not a course on Python, not even an introduction: just a few notes to get some basic acquaintance with these libraries."
      ]
    },
    {
      "cell_type": "markdown",
      "metadata": {
        "id": "g_Zh_UVRMGAO"
      },
      "source": [
        "### Numpy\n",
        "\n",
        "We start by importing the library and creating a vector (one-dimensional array)"
      ]
    },
    {
      "cell_type": "code",
      "metadata": {
        "id": "Kr0ZWKkUCUHa"
      },
      "source": [
        "## import libraries\n",
        "import numpy as np\n",
        "\n",
        "arr_1d = np.array([1, -2, 3.5, 0.4, 0, 7, -1, 9])\n",
        "print(arr_1d)"
      ],
      "execution_count": null,
      "outputs": []
    },
    {
      "cell_type": "markdown",
      "metadata": {
        "id": "1g5lIYQ7MwQQ"
      },
      "source": [
        "We can use the array attribute `shape` to get the dimensions of the array"
      ]
    },
    {
      "cell_type": "code",
      "source": [
        "len(arr_1d)"
      ],
      "metadata": {
        "id": "AUwKRGKDqHKZ"
      },
      "execution_count": null,
      "outputs": []
    },
    {
      "cell_type": "markdown",
      "source": [
        "We use `[integer]` to get one element from the array:"
      ],
      "metadata": {
        "id": "V0-F8RaGqiFd"
      }
    },
    {
      "cell_type": "code",
      "source": [
        "arr_1d[3]"
      ],
      "metadata": {
        "id": "pzKH15EbqrGD"
      },
      "execution_count": null,
      "outputs": []
    },
    {
      "cell_type": "markdown",
      "source": [
        "**Qestion: how do we get last element of the array?**"
      ],
      "metadata": {
        "id": "Jc2nBWPJqcOs"
      }
    },
    {
      "cell_type": "code",
      "source": [
        "arr_1d[8]"
      ],
      "metadata": {
        "id": "bhgPluqkqYkJ"
      },
      "execution_count": null,
      "outputs": []
    },
    {
      "cell_type": "code",
      "metadata": {
        "id": "qdJmusLYMiVa"
      },
      "source": [
        "arr_1d.shape"
      ],
      "execution_count": null,
      "outputs": []
    },
    {
      "cell_type": "code",
      "source": [
        "len(arr_1d) == arr_1d.shape[0]"
      ],
      "metadata": {
        "id": "8BQH1xR8q8Nu"
      },
      "execution_count": null,
      "outputs": []
    },
    {
      "cell_type": "markdown",
      "metadata": {
        "id": "T_FZlsUDM3lN"
      },
      "source": [
        "We see that by default `numpy` does not specify the second dimension for one-dimensional arrays (vectors). If you want to make this explicit (which may turn out to be helpful for some array operations and to avoid ambiguous results), you can use the **function** `reshape()`:"
      ]
    },
    {
      "cell_type": "code",
      "metadata": {
        "id": "RHIOgFTEMoU7"
      },
      "source": [
        "arr_1d = arr_1d.reshape(len(arr_1d),1)\n",
        "print(arr_1d.shape)"
      ],
      "execution_count": null,
      "outputs": []
    },
    {
      "cell_type": "markdown",
      "metadata": {
        "id": "5xxg35CINw6j"
      },
      "source": [
        "We can also build arrays with more dimensions (matrices): in statistics and -especially- machine learning, mastering the dimensions of matrices (multidimensional arrays) is important"
      ]
    },
    {
      "cell_type": "code",
      "metadata": {
        "id": "49Los7EiMhCk"
      },
      "source": [
        "arr_2d = np.array([[1, 2, 3], [4, 5, 6]])\n",
        "print(arr_2d)\n",
        "print(arr_2d.shape) ## 2 rows, 3 columns"
      ],
      "execution_count": null,
      "outputs": []
    },
    {
      "cell_type": "code",
      "metadata": {
        "id": "YuiabkJbNsfi"
      },
      "source": [
        "arr_3d = np.array([[[1, 2, 3], [4, 5, 6]], [[-1, -2, -3], [-4, -5, -6]]])\n",
        "print(arr_3d)\n",
        "print(arr_3d.shape) ## 2 layers, 2 row, 3 columns"
      ],
      "execution_count": null,
      "outputs": []
    },
    {
      "cell_type": "code",
      "source": [
        "np.array([arr_2d, -arr_2d])"
      ],
      "metadata": {
        "id": "51RgrNrJvO8c"
      },
      "execution_count": null,
      "outputs": []
    },
    {
      "cell_type": "code",
      "source": [
        "np.concatenate((arr_2d,-arr_2d), axis=0).reshape(2,2,3)"
      ],
      "metadata": {
        "id": "tN07eHrHr8gr"
      },
      "execution_count": null,
      "outputs": []
    },
    {
      "cell_type": "code",
      "metadata": {
        "id": "NkAkRRmpQkF_"
      },
      "source": [
        "value = arr_3d[0,1,2] ## get first layer, second row, third element (indexing in Python starts at 0!)\n",
        "print(value)"
      ],
      "execution_count": null,
      "outputs": []
    },
    {
      "cell_type": "markdown",
      "metadata": {
        "id": "L8PSvRstRI_x"
      },
      "source": [
        "- use array indices for slicing: `[start:end]`\n",
        "- a step argument can be added: `[start:end:step]`"
      ]
    },
    {
      "cell_type": "code",
      "metadata": {
        "id": "Zot89l11RHIS"
      },
      "source": [
        "print(arr_1d[:]) ## entire array\n",
        "print(arr_1d[3:6]) ## elements 4, 5 and 6 of the array\n",
        "print(arr_1d[:3]) ## first three elements of the array --> equivalent to arr_1d[0:3]\n",
        "print(arr_1d[6:]) ## last two elements of the array --> equivalent to arr_1d[7:len(arr_1d)]"
      ],
      "execution_count": null,
      "outputs": []
    },
    {
      "cell_type": "markdown",
      "metadata": {
        "id": "53bjX-f9Vv0P"
      },
      "source": [
        "More on `numpy` can be found for instance <a href='https://numpy.org/devdocs/user/quickstart.html'>here</a>\n",
        "\n",
        "### Pandas\n",
        "\n",
        "Python library to work with tabular data (multidimensional), in the form of mainly **dataframes**.\n",
        "\n",
        "We load the library and create a first dataframe:"
      ]
    },
    {
      "cell_type": "code",
      "metadata": {
        "id": "-ZcspfLkV3wM"
      },
      "source": [
        "import pandas as pd\n",
        "\n",
        "df = pd.DataFrame(np.random.randn(8, 4), columns=list('ABCD')) ## list() constructor converts string to a list of characters\n",
        "df"
      ],
      "execution_count": null,
      "outputs": []
    },
    {
      "cell_type": "markdown",
      "metadata": {
        "id": "4MaVObw-ZaBA"
      },
      "source": [
        "With the dataframe attribute `dtypes` we can get the data type of each column in a Pandas dataframe:"
      ]
    },
    {
      "cell_type": "code",
      "metadata": {
        "id": "3wpHa2F9WJxJ"
      },
      "source": [
        "df.dtypes"
      ],
      "execution_count": null,
      "outputs": []
    },
    {
      "cell_type": "markdown",
      "metadata": {
        "id": "x0UPVJWQaGU6"
      },
      "source": [
        "The Pandas function `head()` will show the first few rows of the dataframe; the attribute `columns` returns the column names."
      ]
    },
    {
      "cell_type": "code",
      "metadata": {
        "id": "5Ztb9mweZt1S"
      },
      "source": [
        "df.head()"
      ],
      "execution_count": null,
      "outputs": []
    },
    {
      "cell_type": "code",
      "metadata": {
        "id": "DYWIzjVNaVDJ"
      },
      "source": [
        "df.columns"
      ],
      "execution_count": null,
      "outputs": []
    },
    {
      "cell_type": "markdown",
      "metadata": {
        "id": "W3N_MY6Eah7w"
      },
      "source": [
        "With the function `to_numpy()` we convert a dataframe to an array; then we can slice it as we already saw for numpy arrays"
      ]
    },
    {
      "cell_type": "code",
      "metadata": {
        "id": "_DKV0Mh1aWmF"
      },
      "source": [
        "arr = df.to_numpy()\n",
        "arr"
      ],
      "execution_count": null,
      "outputs": []
    },
    {
      "cell_type": "code",
      "metadata": {
        "id": "Y1BEFYf8adzB"
      },
      "source": [
        "arr[:,1] ## get second column"
      ],
      "execution_count": null,
      "outputs": []
    },
    {
      "cell_type": "markdown",
      "metadata": {
        "id": "3lRZp5vPa__X"
      },
      "source": [
        "You can also slice directly the Pandas dataframe:\n",
        "\n",
        "1. by column name"
      ]
    },
    {
      "cell_type": "code",
      "metadata": {
        "id": "Xy2ny28NbGY1"
      },
      "source": [
        "df['A']"
      ],
      "execution_count": null,
      "outputs": []
    },
    {
      "cell_type": "markdown",
      "source": [
        "Or list of names:"
      ],
      "metadata": {
        "id": "JSI4zPAnwTFK"
      }
    },
    {
      "cell_type": "code",
      "source": [
        "df[['A','B']]"
      ],
      "metadata": {
        "id": "ABGbq5Q1wKuO"
      },
      "execution_count": null,
      "outputs": []
    },
    {
      "cell_type": "markdown",
      "metadata": {
        "id": "DPtfUDRpeTf2"
      },
      "source": [
        "2. by slicing by rows"
      ]
    },
    {
      "cell_type": "code",
      "metadata": {
        "id": "EEk2sk9BbJia"
      },
      "source": [
        "df[0:2]"
      ],
      "execution_count": null,
      "outputs": []
    },
    {
      "cell_type": "markdown",
      "metadata": {
        "id": "uZB63KcieDBX"
      },
      "source": [
        "3. by row and/or column names using the `.loc` syntax"
      ]
    },
    {
      "cell_type": "code",
      "metadata": {
        "id": "5eRtTHnrbUxp"
      },
      "source": [
        "print(df.loc[df.index.values[0]])\n",
        "df.loc[:, ['B','C']]"
      ],
      "execution_count": null,
      "outputs": []
    },
    {
      "cell_type": "markdown",
      "metadata": {
        "id": "uU7cZCApeioJ"
      },
      "source": [
        "4. by position using the `.iloc` syntax"
      ]
    },
    {
      "cell_type": "code",
      "metadata": {
        "id": "obQdZOOGeZiK"
      },
      "source": [
        "df.iloc[0:2,2:4]"
      ],
      "execution_count": null,
      "outputs": []
    },
    {
      "cell_type": "markdown",
      "metadata": {
        "id": "MH47bz95exf8"
      },
      "source": [
        "More on `pandas` <a href='https://pandas.pydata.org/pandas-docs/stable/getting_started/tutorials.html'>here</a>\n",
        "\n",
        "### Matplotlib\n",
        "\n",
        "`matplotlib` is a versatile Python library for data visualization which allows you to produce a very large variety of high-quality plots.\n",
        "We import the module `pyplot` from the library and produce a first basic plot:"
      ]
    },
    {
      "cell_type": "code",
      "metadata": {
        "id": "BMJTACwbezSB"
      },
      "source": [
        "from matplotlib import pyplot as plt\n",
        "\n",
        "x = np.array([1, 2, 3, 4])\n",
        "y = np.array([1, 4, 9, 16])\n",
        "plt.xlabel('x-axis')\n",
        "plt.ylabel('y-axis')\n",
        "plt.plot(x,y)\n",
        "\n",
        "ax = plt.gca()\n",
        "ax.set_xlim([0, 10])\n",
        "ax.set_ylim([-20, 20])\n",
        "\n",
        "plt.show() ## not strictly necessary in interactive mode (as ipython or jupyter notebooks)"
      ],
      "execution_count": null,
      "outputs": []
    },
    {
      "cell_type": "markdown",
      "metadata": {
        "id": "OuzNetZFm9ev"
      },
      "source": [
        "Instead of a diagram (line plot), we can also make a **scatter plot**:"
      ]
    },
    {
      "cell_type": "code",
      "metadata": {
        "id": "inJoWtz3lK-2"
      },
      "source": [
        "x = np.array([1, 2, 3, 4, 0, 2, 7, 4, 10])\n",
        "y = np.array([1, 4, 9, 16, 1, 3, 9, 8, 15])\n",
        "plt.scatter(x,y)"
      ],
      "execution_count": null,
      "outputs": []
    },
    {
      "cell_type": "markdown",
      "metadata": {
        "id": "aZHXrgO-nK2c"
      },
      "source": [
        "For categorical data, a **barplot** can be used:"
      ]
    },
    {
      "cell_type": "code",
      "metadata": {
        "id": "KTJzqS5Pk2iI"
      },
      "source": [
        "names = ['A', 'B', 'c']\n",
        "values = [1, 10, 100]\n",
        "\n",
        "plt.figure(figsize=(9, 3))\n",
        "\n",
        "plt.plot(131)\n",
        "plt.bar(names, values)\n",
        "plt.show()"
      ],
      "execution_count": null,
      "outputs": []
    },
    {
      "cell_type": "markdown",
      "metadata": {
        "id": "wTdluJEYnlVc"
      },
      "source": [
        "We can plot a distribution from synthetic data using a **histogram**:"
      ]
    },
    {
      "cell_type": "code",
      "metadata": {
        "id": "6E8VIceinbwM"
      },
      "source": [
        "mu, sigma = 100, 15\n",
        "x = mu + sigma * np.random.randn(10000)\n",
        "\n",
        "# the histogram of the data\n",
        "plt.hist(x, 50, density=1, facecolor='g', alpha=0.75)\n",
        "\n",
        "plt.xlabel('Smarts')\n",
        "plt.ylabel('Probability')\n",
        "plt.title('Histogram of IQ')\n",
        "plt.text(60, .025, r'$\\mu=100,\\ \\sigma=15$')\n",
        "plt.axis([40, 160, 0, 0.03])\n",
        "plt.grid(True)\n",
        "plt.show()"
      ],
      "execution_count": null,
      "outputs": []
    },
    {
      "cell_type": "markdown",
      "metadata": {
        "id": "RJquOQRSxRRa"
      },
      "source": [
        "You can also plot directly from a Pandas dataframe:"
      ]
    },
    {
      "cell_type": "code",
      "metadata": {
        "id": "NimJTo8RtGw2"
      },
      "source": [
        "df = pd.DataFrame(np.random.randn(1000, 4), columns=list('ABCD'))\n",
        "df"
      ],
      "execution_count": null,
      "outputs": []
    },
    {
      "cell_type": "code",
      "metadata": {
        "id": "tP-ZI1qctYAC"
      },
      "source": [
        "plt.plot(df)\n",
        "plt.show()"
      ],
      "execution_count": null,
      "outputs": []
    },
    {
      "cell_type": "code",
      "metadata": {
        "id": "6DhtEOBstN0k"
      },
      "source": [
        "df = df.cumsum() ## cumulative sums per columns\n",
        "df"
      ],
      "execution_count": null,
      "outputs": []
    },
    {
      "cell_type": "code",
      "metadata": {
        "id": "kAmwuD0xthZa"
      },
      "source": [
        "plt.figure()\n",
        "df.plot()"
      ],
      "execution_count": null,
      "outputs": []
    },
    {
      "cell_type": "markdown",
      "metadata": {
        "id": "8-5hbDI_xpMz"
      },
      "source": [
        "In Pandas, plot functions can be called directly on dataframes, e.g. using the function `plot.bar()` (we saw an example earlier with `df.plot()`)"
      ]
    },
    {
      "cell_type": "code",
      "metadata": {
        "id": "XQXb5HE9xqBg"
      },
      "source": [
        "df = pd.DataFrame(np.random.rand(10, 4), columns=['a', 'b', 'c', 'd'])\n",
        "df.plot.bar();"
      ],
      "execution_count": null,
      "outputs": []
    },
    {
      "cell_type": "markdown",
      "source": [
        "More on `matplotlib` <a href='https://matplotlib.org/tutorials/introductory/pyplot.html'>here</a>"
      ],
      "metadata": {
        "id": "4pEjyWb1uny5"
      }
    },
    {
      "cell_type": "markdown",
      "source": [
        "## Basic stats with Python\n",
        "\n",
        "- central tendency: **mean**\n",
        "- variability: **standard deviation**\n",
        "- **correlation**"
      ],
      "metadata": {
        "id": "KiAo_3FWxOwy"
      }
    },
    {
      "cell_type": "code",
      "source": [
        "import seaborn as sns\n",
        "df = sns.load_dataset('taxis')\n",
        "df.head()"
      ],
      "metadata": {
        "id": "nvDDIiqExrmr"
      },
      "execution_count": null,
      "outputs": []
    },
    {
      "cell_type": "markdown",
      "source": [
        "#### Mean (arithmetic)"
      ],
      "metadata": {
        "id": "s6Alwomh7EkC"
      }
    },
    {
      "cell_type": "code",
      "source": [
        "df['fare'].mean()"
      ],
      "metadata": {
        "id": "o-8KzbK31R5L"
      },
      "execution_count": null,
      "outputs": []
    },
    {
      "cell_type": "code",
      "source": [
        "np.mean(df.iloc[:,4])"
      ],
      "metadata": {
        "id": "UsiFBhWT1am4"
      },
      "execution_count": null,
      "outputs": []
    },
    {
      "cell_type": "code",
      "source": [
        "sum(df['fare'])/len(df['fare'])"
      ],
      "metadata": {
        "id": "QAJDIcMX1w4I"
      },
      "execution_count": null,
      "outputs": []
    },
    {
      "cell_type": "code",
      "source": [
        "df['fare'].mean().round(2)"
      ],
      "metadata": {
        "id": "f02GG7pIOh0s"
      },
      "execution_count": null,
      "outputs": []
    },
    {
      "cell_type": "markdown",
      "source": [
        "#### Standard deviation"
      ],
      "metadata": {
        "id": "6_C6sKg87J1U"
      }
    },
    {
      "cell_type": "code",
      "source": [
        "df['fare'].std()"
      ],
      "metadata": {
        "id": "ro7hDWG36qzM"
      },
      "execution_count": null,
      "outputs": []
    },
    {
      "cell_type": "code",
      "source": [
        "round(np.std(df['fare']), 2)"
      ],
      "metadata": {
        "id": "9YOkYwnh7M6N"
      },
      "execution_count": null,
      "outputs": []
    },
    {
      "cell_type": "code",
      "source": [
        "## help me do the calculations without using the built-in function std()\n"
      ],
      "metadata": {
        "id": "3owbKnqU6qw5"
      },
      "execution_count": null,
      "outputs": []
    },
    {
      "cell_type": "markdown",
      "source": [
        "#### [bonus track] coefficient of variation"
      ],
      "metadata": {
        "id": "w4B77Q5i7e7Q"
      }
    },
    {
      "cell_type": "code",
      "source": [
        "df['fare'].std()/df['fare'].mean()"
      ],
      "metadata": {
        "id": "CXazoRKz7lYl"
      },
      "execution_count": null,
      "outputs": []
    },
    {
      "cell_type": "markdown",
      "source": [
        "#### Correlation (Pearson)"
      ],
      "metadata": {
        "id": "TlU0aKT_72V8"
      }
    },
    {
      "cell_type": "code",
      "source": [
        "x = df['distance']\n",
        "y = df['fare']\n",
        "\n",
        "plt.scatter(x,y)"
      ],
      "metadata": {
        "id": "ky7FL0CQ8ZdW"
      },
      "execution_count": null,
      "outputs": []
    },
    {
      "cell_type": "code",
      "source": [
        "np.corrcoef(df['fare'], df['distance'])"
      ],
      "metadata": {
        "id": "aJXF9mH375Vb"
      },
      "execution_count": null,
      "outputs": []
    },
    {
      "cell_type": "code",
      "source": [
        "corr_matrix = np.corrcoef(df['fare'], df['distance'])\n",
        "r = corr_matrix[0,1]\n",
        "print(r)"
      ],
      "metadata": {
        "id": "uauv-_7qm5vC"
      },
      "execution_count": null,
      "outputs": []
    },
    {
      "cell_type": "code",
      "source": [
        "df['fare'].corr(df['distance'])"
      ],
      "metadata": {
        "id": "ptXRRRtcmyoV"
      },
      "execution_count": null,
      "outputs": []
    },
    {
      "cell_type": "markdown",
      "source": [
        "## Exercise: do-it-yourself!\n",
        "\n",
        "Now it is your turn to put together what you just learnt:\n",
        "\n",
        "1. use a built-in dataset\n",
        "2. pick some variables\n",
        "3. calculate some basic descriptive stats\n",
        "4. plot the data"
      ],
      "metadata": {
        "id": "MWoWPbUuug96"
      }
    },
    {
      "cell_type": "code",
      "source": [
        "from sklearn.datasets import load_diabetes\n",
        "\n",
        "diabetes = load_diabetes()\n",
        "print(diabetes['DESCR'])"
      ],
      "metadata": {
        "id": "bhBosfYt5-Dd",
        "collapsed": true
      },
      "execution_count": null,
      "outputs": []
    },
    {
      "cell_type": "code",
      "source": [
        "df = pd.DataFrame(diabetes['data'], columns=diabetes['feature_names'])\n",
        "df.head()"
      ],
      "metadata": {
        "id": "p5G1oMnr58sg",
        "collapsed": true
      },
      "execution_count": null,
      "outputs": []
    },
    {
      "cell_type": "markdown",
      "source": [
        "2. pick some variables (minimum 2 variables)"
      ],
      "metadata": {
        "id": "Ev93-EB-Ph1d"
      }
    },
    {
      "cell_type": "code",
      "source": [
        "## your code here\n",
        "dir()"
      ],
      "metadata": {
        "id": "S5YJVzVkuiiL",
        "collapsed": true
      },
      "execution_count": null,
      "outputs": []
    },
    {
      "cell_type": "markdown",
      "source": [
        "3. calculate some basic descriptive stats"
      ],
      "metadata": {
        "id": "qPe2jNViPqgX"
      }
    },
    {
      "cell_type": "code",
      "source": [
        "## your code here"
      ],
      "metadata": {
        "id": "t6m95VW7PyVx"
      },
      "execution_count": null,
      "outputs": []
    },
    {
      "cell_type": "markdown",
      "source": [
        "4. plot the data"
      ],
      "metadata": {
        "id": "jVxQVU87Pz2q"
      }
    },
    {
      "cell_type": "code",
      "source": [
        "## your code here"
      ],
      "metadata": {
        "id": "6vyzYw3XP3Y2"
      },
      "execution_count": null,
      "outputs": []
    }
  ]
}
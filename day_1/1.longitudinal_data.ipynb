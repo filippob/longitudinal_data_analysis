{
  "nbformat": 4,
  "nbformat_minor": 0,
  "metadata": {
    "colab": {
      "provenance": []
    },
    "kernelspec": {
      "name": "python3",
      "display_name": "Python 3"
    },
    "language_info": {
      "name": "python"
    }
  },
  "cells": [
    {
      "cell_type": "markdown",
      "source": [
        "# Longitudinal data\n",
        "\n",
        "In this *Python* notebook we will get introduced to examples of longitudinal data, i.e. data with a **time component**:"
      ],
      "metadata": {
        "id": "benV1mZILZcA"
      }
    },
    {
      "cell_type": "markdown",
      "source": [
        "## Read data\n",
        "\n",
        "Data from:\n",
        "- [Spatiotemporally explicit model averaging for forecasting of Alaskan groundfish catch](https://onlinelibrary.wiley.com/doi/10.1002/ece3.4488)\n",
        "- [(data repo [here](https://zenodo.org/record/4987796#.ZHcLL9JBxhE))]\n",
        "\n",
        "It's data on fish catch (multiple fish species) over time in different regions of Alaska."
      ],
      "metadata": {
        "id": "CSKpxpbiLcUo"
      }
    },
    {
      "cell_type": "code",
      "execution_count": null,
      "metadata": {
        "id": "iVZv7zoCLYlx"
      },
      "outputs": [],
      "source": [
        "import numpy as np\n",
        "import pandas as pd"
      ]
    },
    {
      "cell_type": "code",
      "source": [
        "url= \"https://zenodo.org/records/4987796/files/stema_data.csv\"\n",
        "fish = pd.read_csv(url)"
      ],
      "metadata": {
        "id": "kS6lczbDOlGM"
      },
      "execution_count": null,
      "outputs": []
    },
    {
      "cell_type": "code",
      "source": [
        "## data size (tabular)\n",
        "fish.shape"
      ],
      "metadata": {
        "id": "C1EpffO4PiKf"
      },
      "execution_count": null,
      "outputs": []
    },
    {
      "cell_type": "code",
      "source": [
        "fish"
      ],
      "metadata": {
        "id": "N4Aq_4mtO3x2"
      },
      "execution_count": null,
      "outputs": []
    },
    {
      "cell_type": "markdown",
      "source": [
        "-   **CPUE**: target variable, \"catch per unit effort\"\n",
        "-   **SST**: sea surface temperature\n",
        "-   **CV**: actually, the coefficient of variation for SST is used $\\rightarrow$ the coefficient of variation is an improved measure of seasonal SST over the mean, because it standardizes scale and allows us to consider the changes in variation of SST with the changes in mean over time (Hannah Correia, 2018 - Ecology and Evolution)\n",
        "-   **SSTcvW1-5**: CPUE is influenced by survival in the first year of life. Water temperature affects survival, and juvenile fish are more susceptible to environmental changes than adults. Therefore, CPUE for a given year is likely linked to the winter SST at the juvenile state. Since this survey targets waters during the summer and the four species covered reach maturity at 5--8 years, SST was lagged for years one through five to allow us to capture the effect of SST on the juvenile stages. All five lagged SST measures were included for modeling."
      ],
      "metadata": {
        "id": "S1Cc0QFhPYom"
      }
    },
    {
      "cell_type": "markdown",
      "source": [
        "### Data preprocessing"
      ],
      "metadata": {
        "id": "JWw-NWSFPoua"
      }
    },
    {
      "cell_type": "code",
      "source": [
        "fish.columns"
      ],
      "metadata": {
        "id": "jSXsWMCURByE"
      },
      "execution_count": null,
      "outputs": []
    },
    {
      "cell_type": "code",
      "source": [
        "fish = fish.drop(['Unnamed: 0', 'Latitude', 'Longitude'], axis=1)"
      ],
      "metadata": {
        "id": "I_jyOsQvPP_Y"
      },
      "execution_count": null,
      "outputs": []
    },
    {
      "cell_type": "code",
      "source": [
        "fish"
      ],
      "metadata": {
        "id": "K3fLVeglRKb1"
      },
      "execution_count": null,
      "outputs": []
    },
    {
      "cell_type": "markdown",
      "source": [
        "Note: in the subset below, **CPUE values are identical**\n",
        "\n",
        "We see that, in order to accommodate variation in SST among stations, the CPUE value has been replicated multiple times. This would defeat our purpose of analysing data by group (fish species) over space and time: with only one value per group, a statistical analysis is a bit hard to be performed (no variation). Therefore, to the original CPUE values we add some random noise proportional to the average (by species, area, year):\n"
      ],
      "metadata": {
        "id": "R7pD7LY6RUOg"
      }
    },
    {
      "cell_type": "code",
      "source": [
        "fish.loc[(fish['Species'] == \"Pacific cod\") & (fish['Area'] == \"West Yakutat\") & (fish['Year'] == 1990)]"
      ],
      "metadata": {
        "id": "HZP7q6V_RLt1"
      },
      "execution_count": null,
      "outputs": []
    },
    {
      "cell_type": "code",
      "source": [
        "## mutate variable\n",
        "fish['avg'] = fish.groupby(['Species', 'Area', 'Year'])['CPUE'].transform('mean')\n",
        "fish['std'] = 0.1 * fish['avg']"
      ],
      "metadata": {
        "id": "j0TNB4AalhXK"
      },
      "execution_count": null,
      "outputs": []
    },
    {
      "cell_type": "code",
      "source": [
        "fish['noise'] = np.random.normal(loc=0, scale=fish['std'])\n",
        "fish['CPUE'] = fish['CPUE'] + fish['noise']"
      ],
      "metadata": {
        "id": "6TWOxpx9phiR"
      },
      "execution_count": null,
      "outputs": []
    },
    {
      "cell_type": "code",
      "source": [
        "fish.loc[(fish['Species'] == \"Pacific cod\") & (fish['Area'] == \"West Yakutat\") & (fish['Year'] == 1990)]"
      ],
      "metadata": {
        "id": "3ZtOGTXjqYOQ"
      },
      "execution_count": null,
      "outputs": []
    },
    {
      "cell_type": "markdown",
      "source": [
        "### EDA (Exploratory Data Analysis)\n",
        "\n",
        "Let's start by looking at the raw data. As we already saw, for each combination of species, area and year we have multiple observations; for instance, let's look at `Pacific cod` from `West Yakutat` in year `2000`. Therefore, a boxplot is a good way to plot these data:"
      ],
      "metadata": {
        "id": "Jcv7sNpIq6Bp"
      }
    },
    {
      "cell_type": "code",
      "source": [
        "fish.loc[(fish['Species'] == \"Pacific cod\") & (fish['Area'] == \"West Yakutat\") & (fish['Year'] == 2000)]"
      ],
      "metadata": {
        "id": "jz5J0XtcqaNf"
      },
      "execution_count": null,
      "outputs": []
    },
    {
      "cell_type": "code",
      "source": [
        "import seaborn as sns\n",
        "import matplotlib.pyplot as plt\n",
        "\n",
        "# Set up the FacetGrid\n",
        "g = sns.catplot(\n",
        "    data=fish,\n",
        "    x='Year',\n",
        "    y='CPUE',\n",
        "    hue='Area',\n",
        "    col='Area',\n",
        "    row='Species',\n",
        "    kind='box',\n",
        "    height=4,\n",
        "    aspect=1.2\n",
        ")\n",
        "\n",
        "# Rotate x-axis labels\n",
        "for ax in g.axes.flatten():\n",
        "    for label in ax.get_xticklabels():\n",
        "        label.set_rotation(90)\n",
        "\n",
        "plt.tight_layout()\n",
        "plt.show()"
      ],
      "metadata": {
        "collapsed": true,
        "id": "i0-9VDm6FI0e"
      },
      "execution_count": null,
      "outputs": []
    },
    {
      "cell_type": "markdown",
      "source": [
        "First, we note large variation in scale between fish species. Let's try to allow the scale to change by `Species`:"
      ],
      "metadata": {
        "id": "eL45WH_2Gxh3"
      }
    },
    {
      "cell_type": "code",
      "source": [
        "g = sns.catplot(\n",
        "    data=fish,\n",
        "    x='Year',\n",
        "    y='CPUE',\n",
        "    hue='Area',\n",
        "    col='Area',\n",
        "    col_order = ['East Yakutat/Southeast', 'West Yakutat', 'Central Gulf of Alaska', 'Western Gulf of Alaska'],\n",
        "    row='Species',\n",
        "    kind='box',\n",
        "    height=4,\n",
        "    aspect=1.2,\n",
        "    sharey=False  # allow individual y-axis, we'll manually sync per row\n",
        ")\n",
        "\n",
        "# Get the species (row) levels\n",
        "species_levels = fish['Species'].unique()\n",
        "\n",
        "# Sync y-axis within each row\n",
        "for i, species in enumerate(species_levels):\n",
        "    # Get all axes in the current row\n",
        "    axes_row = g.axes[i]\n",
        "    # Find the min and max y across this row\n",
        "    y_mins, y_maxs = zip(*(ax.get_ylim() for ax in axes_row))\n",
        "    common_ylim = (min(y_mins), max(y_maxs))\n",
        "    # Set the same ylim for all axes in this row\n",
        "    for ax in axes_row:\n",
        "        ax.set_ylim(common_ylim)\n",
        "\n",
        "# Rotate x-axis labels\n",
        "for ax in g.axes.flatten():\n",
        "    ax.set_xticklabels(ax.get_xticklabels(), rotation=90)\n",
        "\n",
        "plt.tight_layout()\n",
        "plt.show()"
      ],
      "metadata": {
        "collapsed": true,
        "id": "HHVboRD3PKTg"
      },
      "execution_count": null,
      "outputs": []
    },
    {
      "cell_type": "markdown",
      "source": [
        "We now see CPUE oscillations overtime and between geogpraphical areas, but again this varies by fish species. What if we rescale CPUE?"
      ],
      "metadata": {
        "id": "k0HB9E1XPgb6"
      }
    },
    {
      "cell_type": "code",
      "source": [
        "# Define the rescale function\n",
        "def rescale01(x):\n",
        "    rng = (np.nanmin(x), np.nanmax(x))\n",
        "    return 100 * (x - rng[0]) / (rng[1] - rng[0]) if rng[1] != rng[0] else np.zeros_like(x)\n",
        "\n",
        "# Group by 'Species' and apply the rescaling to each group\n",
        "fish['rescaled_cpue'] = (\n",
        "    fish.groupby('Species')['CPUE']\n",
        "    .transform(rescale01)\n",
        ")"
      ],
      "metadata": {
        "id": "IO7S77dLJedq"
      },
      "execution_count": null,
      "outputs": []
    },
    {
      "cell_type": "code",
      "source": [
        "fish.groupby('Species').agg({'rescaled_cpue':['min','max']})"
      ],
      "metadata": {
        "collapsed": true,
        "id": "Iq0V3WfWTRP8"
      },
      "execution_count": null,
      "outputs": []
    },
    {
      "cell_type": "code",
      "source": [
        "g = sns.catplot(\n",
        "    data=fish,\n",
        "    x='Year',\n",
        "    y='rescaled_cpue',\n",
        "    hue='Area',\n",
        "    col='Area',\n",
        "    col_order = ['East Yakutat/Southeast', 'West Yakutat', 'Central Gulf of Alaska', 'Western Gulf of Alaska'],\n",
        "    row='Species',\n",
        "    kind='box',\n",
        "    height=4,\n",
        "    aspect=1.2,\n",
        "    sharey=True  # allow individual y-axis, we'll manually sync per row\n",
        ")\n",
        "\n",
        "# Rotate x-axis labels\n",
        "for ax in g.axes.flatten():\n",
        "    for label in ax.get_xticklabels():\n",
        "        label.set_rotation(90)\n",
        "\n",
        "plt.tight_layout()\n",
        "plt.show()"
      ],
      "metadata": {
        "collapsed": true,
        "id": "IC2C4VHeTnxD"
      },
      "execution_count": null,
      "outputs": []
    },
    {
      "cell_type": "markdown",
      "source": [
        "### Trends\n",
        "\n",
        "A trend is usually an average over time:"
      ],
      "metadata": {
        "id": "8X5JlmefUQw0"
      }
    },
    {
      "cell_type": "code",
      "source": [
        "dd = (\n",
        "    fish.groupby(['Species', 'Area', 'Year'])['rescaled_cpue']\n",
        "    .mean()\n",
        "    .round(2)\n",
        "    .reset_index()\n",
        "    .pivot(index=['Species', 'Area'], columns='Year', values='rescaled_cpue')\n",
        "    .reset_index()  # Optional: flatten the multi-index\n",
        ")\n",
        "\n",
        "dd"
      ],
      "metadata": {
        "id": "brBp5HMRURdc"
      },
      "execution_count": null,
      "outputs": []
    },
    {
      "cell_type": "code",
      "source": [
        "temp = dd.melt(id_vars=['Species', 'Area'], var_name='Year', value_name='CPUE')"
      ],
      "metadata": {
        "id": "veGtfMGdUwcA"
      },
      "execution_count": null,
      "outputs": []
    },
    {
      "cell_type": "markdown",
      "source": [
        "-   `group`: we have only one observation per group (average by Species, Area, Year), so we must specify the grouping variable, in this case `Area`\n",
        "-   year is not a number now, and this is reflected in the x axis: no intervals, all values are plotted (so we can for example place them vertically and make them smaller, to avoid overlap)"
      ],
      "metadata": {
        "id": "ca2AsheCVNdt"
      }
    },
    {
      "cell_type": "code",
      "source": [
        "# Ensure 'Year' is treated as a string or categorical for proper x-axis handling\n",
        "temp['Year'] = temp['Year'].astype(str)\n",
        "\n",
        "# Set up FacetGrid: one subplot per Species\n",
        "g = sns.FacetGrid(temp, col='Species', col_wrap=2, height=4, sharey=True,\n",
        "                  legend_out=True)\n",
        "\n",
        "# Add lineplot to each facet\n",
        "g.map_dataframe(sns.lineplot, x='Year', y='CPUE', hue='Area', estimator=None)\n",
        "\n",
        "# Rotate x-axis labels and adjust text size\n",
        "for ax in g.axes.flatten():\n",
        "    ax.tick_params(axis='x', rotation=90, labelsize=6)\n",
        "\n",
        "# Add legend (optional customization)\n",
        "g.add_legend(title='Area')\n",
        "plt.tight_layout()\n",
        "plt.show()"
      ],
      "metadata": {
        "id": "u5X0F4-EVLFr"
      },
      "execution_count": null,
      "outputs": []
    },
    {
      "cell_type": "markdown",
      "source": [
        "What if `Year` (x axis variable) was a number (an integer)?"
      ],
      "metadata": {
        "id": "wrsy1NOZYPlr"
      }
    },
    {
      "cell_type": "code",
      "source": [
        "temp['Year'] = temp['Year'].astype(int)"
      ],
      "metadata": {
        "id": "W4pAbU7RVZGs"
      },
      "execution_count": null,
      "outputs": []
    },
    {
      "cell_type": "code",
      "source": [
        "# Set up FacetGrid: one subplot per Species\n",
        "g = sns.FacetGrid(temp, col='Species', col_wrap=2, height=4, sharey=True,\n",
        "                  legend_out=True)\n",
        "\n",
        "# Add lineplot to each facet\n",
        "g.map_dataframe(sns.lineplot, x='Year', y='CPUE', hue='Area', estimator=None)\n",
        "\n",
        "# Rotate x-axis labels and adjust text size\n",
        "for ax in g.axes.flatten():\n",
        "    ax.tick_params(axis='x', rotation=90, labelsize=6)\n",
        "\n",
        "# Add legend (optional customization)\n",
        "g.add_legend(title='Area')\n",
        "plt.tight_layout()\n",
        "plt.show()"
      ],
      "metadata": {
        "id": "6NsBkJ5zYeZP"
      },
      "execution_count": null,
      "outputs": []
    },
    {
      "cell_type": "markdown",
      "source": [
        "------------------------------------------------------------------------\n",
        "\n",
        "**Q: Do we have a trend?**\n",
        "\n",
        "------------------------------------------------------------------------"
      ],
      "metadata": {
        "id": "lHS5LcKtYtqE"
      }
    },
    {
      "cell_type": "markdown",
      "source": [
        "What about the standard deviation? Let's see if we have a trend there (!! remember, we introduced artificial random variation, no trend is actually expected, safe by chance !!):"
      ],
      "metadata": {
        "id": "ihRVDu218dLE"
      }
    },
    {
      "cell_type": "code",
      "source": [
        "dd = (\n",
        "    fish.groupby(['Species', 'Area', 'Year'])['rescaled_cpue']\n",
        "    .std()\n",
        "    .round(2)\n",
        "    .reset_index()\n",
        "    .pivot(index=['Species', 'Area'], columns='Year', values='rescaled_cpue')\n",
        "    .reset_index()  # Optional: flatten the multi-index\n",
        ")\n",
        "\n",
        "dd"
      ],
      "metadata": {
        "id": "55e3bQIEYgzr"
      },
      "execution_count": null,
      "outputs": []
    },
    {
      "cell_type": "code",
      "source": [
        "temp = dd.melt(id_vars=['Species', 'Area'], var_name='Year', value_name='sd(CPUE)')"
      ],
      "metadata": {
        "id": "fAmFWvEY9VS_"
      },
      "execution_count": null,
      "outputs": []
    },
    {
      "cell_type": "code",
      "source": [
        "# Ensure 'Year' is treated as a string or categorical for proper x-axis handling\n",
        "# temp['Year'] = temp['Year'].astype(str)\n",
        "\n",
        "# Set up FacetGrid: one subplot per Species\n",
        "g = sns.FacetGrid(temp, col='Species', col_wrap=2, height=4, sharey=True,\n",
        "                  legend_out=True)\n",
        "\n",
        "# Add lineplot to each facet\n",
        "g.map_dataframe(sns.lineplot, x='Year', y='sd(CPUE)', hue='Area', estimator=None)\n",
        "\n",
        "# Rotate x-axis labels and adjust text size\n",
        "for ax in g.axes.flatten():\n",
        "    ax.tick_params(axis='x', rotation=90, labelsize=6)\n",
        "\n",
        "# Add legend (optional customization)\n",
        "g.add_legend(title='Area')\n",
        "plt.tight_layout()\n",
        "plt.show()"
      ],
      "metadata": {
        "id": "R6AamW1z9pk6"
      },
      "execution_count": null,
      "outputs": []
    },
    {
      "cell_type": "markdown",
      "source": [
        "------------------------------------------------------------------------\n",
        "\n",
        "**Q: What do you notice?**\n",
        "\n",
        "------------------------------------------------------------------------"
      ],
      "metadata": {
        "id": "01kr_3mv98SS"
      }
    },
    {
      "cell_type": "markdown",
      "source": [
        "### Model-based adjustments\n",
        "\n",
        "We can use a model to adjust phenotypes by known sources of variation:"
      ],
      "metadata": {
        "id": "wR0tTynL-DLN"
      }
    },
    {
      "cell_type": "code",
      "source": [
        "import statsmodels.api as sm\n",
        "\n",
        "# Define the independent variables and add a constant for the intercept\n",
        "X = fish[['SST_cvW', 'SST_cvW1', 'SST_cvW2', 'SST_cvW3', 'SST_cvW4', 'SST_cvW5']]\n",
        "X = sm.add_constant(X)  # Adds the intercept term\n",
        "\n",
        "# Define the dependent variable\n",
        "y = fish['rescaled_cpue']\n",
        "\n",
        "# Fit the linear model\n",
        "model = sm.OLS(y, X).fit()\n",
        "\n",
        "# Print the summary of the regression\n",
        "print(model.summary())"
      ],
      "metadata": {
        "id": "KXA044UJ98td"
      },
      "execution_count": null,
      "outputs": []
    },
    {
      "cell_type": "markdown",
      "source": [
        "We then **focus on model residuals**:"
      ],
      "metadata": {
        "id": "ntasFk6NBOMj"
      }
    },
    {
      "cell_type": "code",
      "source": [
        "## residuals are stored in the attribute <object>.resid\n",
        "model.resid.describe()"
      ],
      "metadata": {
        "id": "Mw1wstZ5_5DJ"
      },
      "execution_count": null,
      "outputs": []
    },
    {
      "cell_type": "code",
      "source": [
        "# Plotting a basic histogram\n",
        "data = model.resid\n",
        "plt.hist(data, bins=30, color='skyblue', edgecolor='black')\n",
        "\n",
        "# Adding labels and title\n",
        "plt.xlabel('Values')\n",
        "plt.ylabel('Frequency')\n",
        "plt.title('Basic Histogram')\n",
        "\n",
        "# Display the plot\n",
        "plt.show()"
      ],
      "metadata": {
        "id": "Ric9fMPaAvmp"
      },
      "execution_count": null,
      "outputs": []
    },
    {
      "cell_type": "code",
      "source": [
        "fish['residuals'] = model.resid\n",
        "fish['fitted_values'] = model.fittedvalues"
      ],
      "metadata": {
        "id": "eTTraxuUBhOj"
      },
      "execution_count": null,
      "outputs": []
    },
    {
      "cell_type": "code",
      "source": [
        "fish"
      ],
      "metadata": {
        "id": "LF63QguEB-JA"
      },
      "execution_count": null,
      "outputs": []
    },
    {
      "cell_type": "code",
      "source": [
        "dd = (\n",
        "    fish.groupby(['Species', 'Area', 'Year'])['residuals']\n",
        "    .mean()\n",
        "    .round(2)\n",
        "    .reset_index()\n",
        "    .pivot(index=['Species', 'Area'], columns='Year', values='residuals')\n",
        "    .reset_index()  # Optional: flatten the multi-index\n",
        ")\n",
        "\n",
        "dd"
      ],
      "metadata": {
        "id": "XeSh4VTvCF5l"
      },
      "execution_count": null,
      "outputs": []
    },
    {
      "cell_type": "code",
      "source": [
        "temp = dd.melt(id_vars=['Species', 'Area'], var_name='Year', value_name='adjusted CPUE')"
      ],
      "metadata": {
        "id": "YGRcadQyCR_T"
      },
      "execution_count": null,
      "outputs": []
    },
    {
      "cell_type": "code",
      "source": [
        "# Ensure 'Year' is treated as a string or categorical for proper x-axis handling\n",
        "# temp['Year'] = temp['Year'].astype(str)\n",
        "\n",
        "# Set up FacetGrid: one subplot per Species\n",
        "g = sns.FacetGrid(temp, col='Species', col_wrap=2, height=4, sharey=True,\n",
        "                  legend_out=True)\n",
        "\n",
        "# Add lineplot to each facet\n",
        "g.map_dataframe(sns.lineplot, x='Year', y='adjusted CPUE', hue='Area', estimator=None)\n",
        "\n",
        "# Rotate x-axis labels and adjust text size\n",
        "for ax in g.axes.flatten():\n",
        "    ax.tick_params(axis='x', rotation=90, labelsize=6)\n",
        "\n",
        "# Add legend (optional customization)\n",
        "g.add_legend(title='Area')\n",
        "plt.tight_layout()\n",
        "plt.show()"
      ],
      "metadata": {
        "id": "7IUqwHSHCj0K"
      },
      "execution_count": null,
      "outputs": []
    },
    {
      "cell_type": "markdown",
      "source": [
        "------------------------------------------------------------------------\n",
        "\n",
        "**Q: We see that the trends of residuals are almost the same as the trends of CPUE: why do you think it is so?**\n",
        "\n",
        "------------------------------------------------------------------------"
      ],
      "metadata": {
        "id": "yAiReqk6fq2C"
      }
    },
    {
      "cell_type": "markdown",
      "source": [
        "### Baseline adjustment\n",
        "\n",
        "An approach which is often used with temporal data is to express group trends as differences from a reference time point. This is often used in econometrics, e.g. to show variation in GDP in different countries from a starting year. Also in medicine this approach is often used, and is usually referred to as **baseline adjustment** (for data-viz and EDA; model-based adjustments have been mentioned earlier).\n",
        "\n",
        "We start with identifying the reference timepoint: 1990 is the initial year for the entire dataset. We need to mutate `Year` back from factor to number:"
      ],
      "metadata": {
        "id": "lzyJDq1Xf665"
      }
    },
    {
      "cell_type": "code",
      "source": [
        "oldest_year = min(fish['Year'])\n",
        "print(\"The oldest year in our records is\", oldest_year)"
      ],
      "metadata": {
        "id": "EjFm2BMYf2AW"
      },
      "execution_count": null,
      "outputs": []
    },
    {
      "cell_type": "markdown",
      "source": [
        "Since we have multiple values per group at baseline (multiple records per Species, Area and Year), we need to take **averages**:"
      ],
      "metadata": {
        "id": "99_p7OCmgaJd"
      }
    },
    {
      "cell_type": "code",
      "source": [
        "fish_bsl = fish[fish['Year'] == oldest_year].copy()"
      ],
      "metadata": {
        "id": "6WpLJlpUi_6I"
      },
      "execution_count": null,
      "outputs": []
    },
    {
      "cell_type": "code",
      "source": [
        "# Group by Species and Area, then calculate group-wise mean of rescaled_cpue\n",
        "fish_bsl['bsl'] = fish_bsl.groupby(['Species', 'Area'])['rescaled_cpue'].transform('mean')"
      ],
      "metadata": {
        "id": "pDnr5k5ejFI9"
      },
      "execution_count": null,
      "outputs": []
    },
    {
      "cell_type": "code",
      "source": [
        "# Select required columns and drop duplicates\n",
        "fish_bsl = fish_bsl[['Year', 'Area', 'Species', 'bsl']].drop_duplicates()"
      ],
      "metadata": {
        "id": "uyQi1haxgOUw"
      },
      "execution_count": null,
      "outputs": []
    },
    {
      "cell_type": "code",
      "source": [
        "fish_bsl = fish_bsl.drop(columns=['Year'])"
      ],
      "metadata": {
        "id": "lD8epL4Hmdt6"
      },
      "execution_count": null,
      "outputs": []
    },
    {
      "cell_type": "code",
      "source": [
        "fish_bsl"
      ],
      "metadata": {
        "collapsed": true,
        "id": "CmK-ePl4grjM"
      },
      "execution_count": null,
      "outputs": []
    },
    {
      "cell_type": "markdown",
      "source": [
        "The average values at baseline are then subtracted from the target variable by \"group\" (Species and Area in this example):"
      ],
      "metadata": {
        "id": "1h4ch3c4g7Mj"
      }
    },
    {
      "cell_type": "code",
      "source": [
        "# Perform left join with fish_bsl on Year, Species, and Area\n",
        "fish_chg = fish.merge(fish_bsl, on=[\"Species\", \"Area\"], how=\"left\")"
      ],
      "metadata": {
        "id": "9jFA-B9hjg6z"
      },
      "execution_count": null,
      "outputs": []
    },
    {
      "cell_type": "code",
      "source": [
        "fish_chg"
      ],
      "metadata": {
        "collapsed": true,
        "id": "DWMqtU8kkFkh"
      },
      "execution_count": null,
      "outputs": []
    },
    {
      "cell_type": "code",
      "source": [
        "fish_chg['chg'] = fish_chg['rescaled_cpue'] - fish_chg['bsl']"
      ],
      "metadata": {
        "id": "VQahxIvVmzbX"
      },
      "execution_count": null,
      "outputs": []
    },
    {
      "cell_type": "code",
      "source": [
        "fish_chg"
      ],
      "metadata": {
        "collapsed": true,
        "id": "QJismW4Km-kw"
      },
      "execution_count": null,
      "outputs": []
    },
    {
      "cell_type": "markdown",
      "source": [
        "Now we have the data ready to visualize trends expressed as differences from baseline:"
      ],
      "metadata": {
        "id": "u6cCeQjQhZ9p"
      }
    },
    {
      "cell_type": "code",
      "source": [
        "dd = (\n",
        "    fish_chg.groupby(['Species', 'Area', 'Year'])['chg']\n",
        "    .mean()\n",
        "    .round(2)\n",
        "    .reset_index()\n",
        "    .pivot(index=['Species', 'Area'], columns='Year', values='chg')\n",
        "    .reset_index()  # Optional: flatten the multi-index\n",
        ")\n",
        "\n",
        "dd"
      ],
      "metadata": {
        "id": "4EbaV9vohacE"
      },
      "execution_count": null,
      "outputs": []
    },
    {
      "cell_type": "code",
      "source": [
        "temp = dd.melt(id_vars=['Species', 'Area'], var_name='Year', value_name='chg')"
      ],
      "metadata": {
        "id": "Nf5mnIwChjnd"
      },
      "execution_count": null,
      "outputs": []
    },
    {
      "cell_type": "code",
      "source": [
        "temp"
      ],
      "metadata": {
        "id": "eiBK_17MnTMu"
      },
      "execution_count": null,
      "outputs": []
    },
    {
      "cell_type": "code",
      "source": [
        "# Ensure 'Year' is treated as a string or categorical for proper x-axis handling\n",
        "# temp['Year'] = temp['Year'].astype(str)\n",
        "\n",
        "# Set up FacetGrid: one subplot per Species\n",
        "g = sns.FacetGrid(temp, col='Species', col_wrap=2, height=4, sharey=True,\n",
        "                  legend_out=True)\n",
        "\n",
        "# Add lineplot to each facet\n",
        "g.map_dataframe(sns.lineplot, x='Year', y='chg', hue='Area', estimator=None)\n",
        "\n",
        "# Rotate x-axis labels and adjust text size\n",
        "for ax in g.axes.flatten():\n",
        "    ax.tick_params(axis='x', rotation=90, labelsize=6)\n",
        "\n",
        "# Add legend (optional customization)\n",
        "g.add_legend(title='Area')\n",
        "plt.tight_layout()\n",
        "plt.show()"
      ],
      "metadata": {
        "id": "CMkI6XJQnT_E"
      },
      "execution_count": null,
      "outputs": []
    },
    {
      "cell_type": "markdown",
      "source": [
        "## Exercise\n",
        "\n",
        "Data from the article \"[Age-dependent trait variation: the relative contribution of within-individual change, selective appearance and disappearance in a long-lived seabird](https://besjournals.onlinelibrary.wiley.com/doi/10.1111/1365-2656.12321)\" (data repo [here](https://zenodo.org/record/5010983))"
      ],
      "metadata": {
        "id": "29axWVQtoByU"
      }
    },
    {
      "cell_type": "code",
      "source": [
        "import ssl\n",
        "\n",
        "ssl._create_default_https_context = ssl._create_unverified_context"
      ],
      "metadata": {
        "id": "t7y2LKfbpxkF"
      },
      "execution_count": null,
      "outputs": []
    },
    {
      "cell_type": "code",
      "source": [
        "#url= \"https://www.jackdellequerce.com/data/seabird/data_traits.xlsx\"\n",
        "url = \"https://zenodo.org/records/5010983/files/data_traits.xlsx\"\n",
        "seabirds = pd.read_excel(url)"
      ],
      "metadata": {
        "id": "PCOYcEv5oCiB"
      },
      "execution_count": null,
      "outputs": []
    },
    {
      "cell_type": "code",
      "source": [
        "seabirds"
      ],
      "metadata": {
        "id": "vqTh1pSCoYGH"
      },
      "execution_count": null,
      "outputs": []
    },
    {
      "cell_type": "markdown",
      "source": [
        "1. Within populations, the expression of phenotypic traits typically varies with age.\n",
        "Such age-dependent trait variation can be caused by within-individual change (improvement, senescence, terminal effects) and/or selective (dis)appearance of certain phenotypes among older age classes.\n",
        "\n",
        "2. In this study we applied two methods (decomposition and mixed-modelling) to attribute age-dependent variation in seven phenological and reproductive traits to within-individual change and\n",
        "selective (dis)appearance, in a long-lived seabird, the common tern (*Sterna hirundo*).\n",
        "\n",
        "3. At the population level, all traits, except the probability to breed, improved with age (i.e., phenology advanced and reproductive output increased).\n",
        "Both methods identified within-individual change as the main responsible process, and within individuals, performance improved until age 6-13, before levelling off.\n",
        "In contrast, within individuals, breeding probability decreased to age 10, then levelled off.\n",
        "\n",
        "4. Effects of selective appearance and disappearance were small, but showed that longer-lived individuals had a higher breeding probability and bred earlier,\n",
        "and that younger recruits performed better throughout life than older recruits in terms of both phenology and reproductive performance.\n",
        "In the year prior to death, individuals advanced reproduction, suggesting terminal investment.\n",
        "\n",
        "5. The decomposition method attributed more age-dependent trait variation to selective disappearance than the mixed-modelling method: 14-36% versus 0-8%, respectively,\n",
        "which we identify to be due to covariance between rates of within-individual change and selective (dis)appearance leading to biased results from the decomposition method.\n",
        "\n",
        "6. We conclude that the decomposition method is ideal for visualising processes underlying population change in performance from one age class to the next,\n",
        "but that a mixed-modelling method is required to investigate the significance and relative contribution of age-effects.\n",
        "\n",
        "7. Considerable variation in the contribution of the different age-processes between the seven phenotypic traits studied,\n",
        "as well as notable differences between species in patterns of age-dependent trait expression, calls for better predictions regarding optimal allocation strategies with age."
      ],
      "metadata": {
        "id": "rvPj3mn541Ng"
      }
    },
    {
      "cell_type": "markdown",
      "source": [
        "<u>OPTIONS</u>: - look at males vs females across time - look at males vs females in two/three groups: young, intermediate, old birds\n",
        "\n",
        "<u>Target variables can be</u>: e.g. laying date or egg volume (approximately continuous variables)\n",
        "\n",
        "- `afb`: age at first breeding\n",
        "- `NoFledglings`: n. of young birds (offspring)\n",
        "- `ClutchSize`: n. of eggs laid in the same nest\n",
        "- `BroodSize`: n. of young birds in the same nest"
      ],
      "metadata": {
        "id": "GVCl4nAT8Zvd"
      }
    },
    {
      "cell_type": "markdown",
      "source": [
        "## EDA"
      ],
      "metadata": {
        "id": "lYnjPaugAoKP"
      }
    },
    {
      "cell_type": "code",
      "source": [
        "## TASK 1: find number of records and number of variables in the dataset\n",
        "\n",
        "## your code here"
      ],
      "metadata": {
        "id": "mv3njEeeDJxQ"
      },
      "execution_count": null,
      "outputs": []
    },
    {
      "cell_type": "code",
      "source": [
        "## TASK 2: find type of data for each column (hint: use the dtypes attribute)\n",
        "\n",
        "## your code here\n"
      ],
      "metadata": {
        "id": "1dOoDf2hDUg4"
      },
      "execution_count": null,
      "outputs": []
    },
    {
      "cell_type": "code",
      "source": [
        "## TASK 3: get descriptive statistics of the data (hint: use the describe method)\n",
        "\n",
        "## your code here"
      ],
      "metadata": {
        "id": "vQ13Jux9_uoJ"
      },
      "execution_count": null,
      "outputs": []
    },
    {
      "cell_type": "markdown",
      "source": [
        "------------------------------------------------------------------------\n",
        "\n",
        "**Q: What do you notice in this summary description? Are all variables included?**\n",
        "\n",
        "------------------------------------------------------------------------"
      ],
      "metadata": {
        "id": "7ZgMoTgID-I_"
      }
    },
    {
      "cell_type": "code",
      "source": [
        "## TASK 4: get descriptive statistics for non-numerical variables\n",
        "\n",
        "## your code here"
      ],
      "metadata": {
        "id": "aRbJyxFzC_9q"
      },
      "execution_count": null,
      "outputs": []
    },
    {
      "cell_type": "code",
      "source": [
        "## TASK 5: count n. of missing values per columns (hint: use the isnull and sum methods)\n",
        "\n",
        "## your code here"
      ],
      "metadata": {
        "id": "zDVM9OIFAu8q"
      },
      "execution_count": null,
      "outputs": []
    },
    {
      "cell_type": "markdown",
      "source": [
        "## Data preprocessing"
      ],
      "metadata": {
        "id": "ooWplmIPKyA4"
      }
    },
    {
      "cell_type": "code",
      "source": [
        "## TASK 6: remove the column(s) with too many missing data (hint: use the drop method)\n",
        "\n",
        "## your code here\n"
      ],
      "metadata": {
        "id": "f2ONbTneKuWH"
      },
      "execution_count": null,
      "outputs": []
    },
    {
      "cell_type": "code",
      "source": [
        "## TASK 7: remove rows qith missing data (hint: use the dropna method)\n",
        "\n",
        "## your code here"
      ],
      "metadata": {
        "id": "l-QDvq7Sc0Gv"
      },
      "execution_count": null,
      "outputs": []
    },
    {
      "cell_type": "markdown",
      "source": [
        "## Trends\n",
        "\n",
        "### Crude trends\n",
        "\n",
        "Data as they are:\n",
        "- by `year`\n",
        "- by `age`"
      ],
      "metadata": {
        "id": "J5P7jnysTo18"
      }
    },
    {
      "cell_type": "markdown",
      "source": [
        "#### 1) by year"
      ],
      "metadata": {
        "id": "S202KU7QYY1l"
      }
    },
    {
      "cell_type": "code",
      "source": [
        "## TASK 8: calculate mean of target variable by year\n",
        "## 1) pick one target variable (hint: subset dataframe with the df['column'] syntax); 2) calculate mean (hint: use the mean method)\n",
        "\n",
        "## your code here"
      ],
      "metadata": {
        "id": "K3amH6b_Twh2"
      },
      "execution_count": null,
      "outputs": []
    },
    {
      "cell_type": "code",
      "source": [
        "## TASK 9: make simple line plot\n",
        "## (hint1: use matplotlib plot function for two numerical variables)\n",
        "## (hint2: assign x and y to two variables: x = df['column1']; y = df['column2'])\n",
        "\n",
        "## your code here"
      ],
      "metadata": {
        "id": "Lmd9ffN9T2Il"
      },
      "execution_count": null,
      "outputs": []
    },
    {
      "cell_type": "markdown",
      "source": [
        "#### 2) by age"
      ],
      "metadata": {
        "id": "Bmbb2cgYYbXF"
      }
    },
    {
      "cell_type": "code",
      "source": [
        "## TASK 10: calculate mean of target variable by age\n",
        "## 1) pick one target variable (hint: subset dataframe with the df['column'] syntax); 2) calculate mean (hint: use the mean method)\n",
        "\n",
        "## your code here"
      ],
      "metadata": {
        "id": "H65cksvkYg00"
      },
      "execution_count": null,
      "outputs": []
    },
    {
      "cell_type": "code",
      "source": [
        "## TASK 11: make simple line plot\n",
        "## (hint1: use matplotlib plot function for two numerical variables)\n",
        "## (hint2: assign x and y to two variables: x = df['column1']; y = df['column2'])\n",
        "\n",
        "## your code here"
      ],
      "metadata": {
        "id": "VAxLTI-qYjLk"
      },
      "execution_count": null,
      "outputs": []
    },
    {
      "cell_type": "markdown",
      "source": [
        "### Model-adjusted trends\n",
        "\n",
        "**IMPORTANT!**: select only some numerical variables into X, at first. the function OLS() does not accept categorical variables as strings, e.g. \"f\"/\"m\""
      ],
      "metadata": {
        "id": "vo1nQroGb67T"
      }
    },
    {
      "cell_type": "code",
      "source": [
        "import statsmodels.api as sm\n",
        "## TASK 12: define dataframes of X variables (only numeric) and y target\n",
        "## remember to add the intercept (function add_constant())\n",
        "\n",
        "## your code here"
      ],
      "metadata": {
        "id": "XKO1b-JSp12K"
      },
      "execution_count": null,
      "outputs": []
    },
    {
      "cell_type": "markdown",
      "source": [
        "If you want to add the sex variable to the model, you can use the code below (uncomment):"
      ],
      "metadata": {
        "id": "GDDtHzSXrGGz"
      }
    },
    {
      "cell_type": "code",
      "source": [
        "#sex_d = pd.get_dummies(seabirds['sex'], prefix='sex', drop_first=True, dtype=float)\n",
        "#sex_d.head(3)"
      ],
      "metadata": {
        "collapsed": true,
        "id": "VUV5KKuf-8Z2"
      },
      "execution_count": null,
      "outputs": []
    },
    {
      "cell_type": "code",
      "source": [
        "#X = pd.concat([X, sex_d['sex_m']], axis=1)\n",
        "#X"
      ],
      "metadata": {
        "id": "5SEfF8S6_JiB"
      },
      "execution_count": null,
      "outputs": []
    },
    {
      "cell_type": "markdown",
      "source": [
        "Now, we have the X and y data arrays/series to fir a linear model:"
      ],
      "metadata": {
        "id": "J7HZjjLFro4b"
      }
    },
    {
      "cell_type": "code",
      "source": [
        "## TASK 13: fit a linear model to the data and print the summary of results (hint: use the OLS and fit methods)\n",
        "\n",
        "## your code here"
      ],
      "metadata": {
        "id": "XKpGvWdw9uxk"
      },
      "execution_count": null,
      "outputs": []
    },
    {
      "cell_type": "markdown",
      "source": [
        "Now, we are ready to plot the residuals (adjusted target values) over time to check visually for trends:"
      ],
      "metadata": {
        "id": "yTARnGiDtWcH"
      }
    },
    {
      "cell_type": "code",
      "source": [
        "## TASK 14: get the model residuals (hint: attribute resid) and add them to our dataset (seabirds)"
      ],
      "metadata": {
        "id": "Hv5o7KNur-28"
      },
      "execution_count": null,
      "outputs": []
    },
    {
      "cell_type": "code",
      "source": [
        "## TASK 15: calculate mean of target variable by age\n",
        "## 1) the target variable is now the residuals; 2) calculate the mean (hint: use the mean method)"
      ],
      "metadata": {
        "id": "blKaOhUjtZgF"
      },
      "execution_count": null,
      "outputs": []
    },
    {
      "cell_type": "code",
      "source": [
        "## TASK 16: make a simple line plot\n",
        "## (hint1: use matplotlib plot function for two numerical variables)\n",
        "## (hint2: assign x and y to two variables: x = df['column1']; y = df['column2'])"
      ],
      "metadata": {
        "id": "YCchu0UvtcmW"
      },
      "execution_count": null,
      "outputs": []
    },
    {
      "cell_type": "markdown",
      "source": [
        "------------------------------------------------------------------------\n",
        "\n",
        "**Q: What do you notice in the results? How can you interpret them given your choice of target and predictor variables?**\n",
        "\n",
        "------------------------------------------------------------------------"
      ],
      "metadata": {
        "id": "D99cYHCEtgXe"
      }
    }
  ]
}
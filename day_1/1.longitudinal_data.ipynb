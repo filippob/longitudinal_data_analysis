{
  "nbformat": 4,
  "nbformat_minor": 0,
  "metadata": {
    "colab": {
      "provenance": []
    },
    "kernelspec": {
      "name": "python3",
      "display_name": "Python 3"
    },
    "language_info": {
      "name": "python"
    }
  },
  "cells": [
    {
      "cell_type": "markdown",
      "source": [
        "# Longitudinal data\n",
        "\n",
        "In this *Python* notebook we will get introduced to examples of longitudinal data, i.e. data with a **time component**:"
      ],
      "metadata": {
        "id": "benV1mZILZcA"
      }
    },
    {
      "cell_type": "markdown",
      "source": [
        "## Read data\n",
        "\n",
        "Data from:\n",
        "- [Spatiotemporally explicit model averaging for forecasting of Alaskan groundfish catch](https://onlinelibrary.wiley.com/doi/10.1002/ece3.4488)\n",
        "- [(data repo [here](https://zenodo.org/record/4987796#.ZHcLL9JBxhE))]\n",
        "\n",
        "It's data on fish catch (multiple fish species) over time in different regions of Alaska."
      ],
      "metadata": {
        "id": "CSKpxpbiLcUo"
      }
    },
    {
      "cell_type": "code",
      "execution_count": null,
      "metadata": {
        "id": "iVZv7zoCLYlx"
      },
      "outputs": [],
      "source": [
        "import numpy as np\n",
        "import pandas as pd"
      ]
    },
    {
      "cell_type": "code",
      "source": [
        "url= \"https://zenodo.org/records/4987796/files/stema_data.csv\"\n",
        "fish = pd.read_csv(url)"
      ],
      "metadata": {
        "id": "kS6lczbDOlGM"
      },
      "execution_count": null,
      "outputs": []
    },
    {
      "cell_type": "code",
      "source": [
        "## data size (tabular)\n",
        "fish.shape"
      ],
      "metadata": {
        "id": "C1EpffO4PiKf"
      },
      "execution_count": null,
      "outputs": []
    },
    {
      "cell_type": "code",
      "source": [
        "fish"
      ],
      "metadata": {
        "id": "N4Aq_4mtO3x2"
      },
      "execution_count": null,
      "outputs": []
    },
    {
      "cell_type": "markdown",
      "source": [
        "-   **CPUE**: target variable, \"catch per unit effort\"\n",
        "-   **SST**: sea surface temperature\n",
        "-   **CV**: actually, the coefficient of variation for SST is used $\\rightarrow$ the coefficient of variation is an improved measure of seasonal SST over the mean, because it standardizes scale and allows us to consider the changes in variation of SST with the changes in mean over time (Hannah Correia, 2018 - Ecology and Evolution)\n",
        "-   **SSTcvW1-5**: CPUE is influenced by survival in the first year of life. Water temperature affects survival, and juvenile fish are more susceptible to environmental changes than adults. Therefore, CPUE for a given year is likely linked to the winter SST at the juvenile state. Since this survey targets waters during the summer and the four species covered reach maturity at 5--8 years, SST was lagged for years one through five to allow us to capture the effect of SST on the juvenile stages. All five lagged SST measures were included for modeling."
      ],
      "metadata": {
        "id": "S1Cc0QFhPYom"
      }
    },
    {
      "cell_type": "markdown",
      "source": [
        "### Data preprocessing"
      ],
      "metadata": {
        "id": "JWw-NWSFPoua"
      }
    },
    {
      "cell_type": "code",
      "source": [
        "fish.columns"
      ],
      "metadata": {
        "id": "jSXsWMCURByE"
      },
      "execution_count": null,
      "outputs": []
    },
    {
      "cell_type": "code",
      "source": [
        "fish = fish.drop(['Unnamed: 0', 'Latitude', 'Longitude'], axis=1)"
      ],
      "metadata": {
        "id": "I_jyOsQvPP_Y"
      },
      "execution_count": null,
      "outputs": []
    },
    {
      "cell_type": "code",
      "source": [
        "fish"
      ],
      "metadata": {
        "id": "K3fLVeglRKb1"
      },
      "execution_count": null,
      "outputs": []
    },
    {
      "cell_type": "markdown",
      "source": [
        "Note: in the subset below, **CPUE values are identical**\n",
        "\n",
        "We see that, in order to accommodate variation in SST among stations, the CPUE value has been replicated multiple times. This would defeat our purpose of analysing data by group (fish species) over space and time: with only one value per group, a statistical analysis is a bit hard to be performed (no variation). Therefore, to the original CPUE values we add some random noise proportional to the average (by species, area, year):\n"
      ],
      "metadata": {
        "id": "R7pD7LY6RUOg"
      }
    },
    {
      "cell_type": "code",
      "source": [
        "fish.loc[(fish['Species'] == \"Pacific cod\") & (fish['Area'] == \"West Yakutat\") & (fish['Year'] == 1990)]"
      ],
      "metadata": {
        "id": "HZP7q6V_RLt1"
      },
      "execution_count": null,
      "outputs": []
    },
    {
      "cell_type": "code",
      "source": [
        "## mutate variable\n",
        "# Assuming fish is a pandas DataFrame\n",
        "fish['avg'] = fish.groupby(['Species', 'Area', 'Year'])['CPUE'].transform('mean')\n",
        "fish['std'] = 0.1 * fish['avg']"
      ],
      "metadata": {
        "id": "j0TNB4AalhXK"
      },
      "execution_count": null,
      "outputs": []
    },
    {
      "cell_type": "code",
      "source": [
        "fish['noise'] = np.random.normal(loc=0, scale=fish['std'])\n",
        "fish['CPUE'] = fish['CPUE'] + fish['noise']"
      ],
      "metadata": {
        "id": "6TWOxpx9phiR"
      },
      "execution_count": null,
      "outputs": []
    },
    {
      "cell_type": "code",
      "source": [
        "fish.loc[(fish['Species'] == \"Pacific cod\") & (fish['Area'] == \"West Yakutat\") & (fish['Year'] == 1990)]"
      ],
      "metadata": {
        "id": "3ZtOGTXjqYOQ"
      },
      "execution_count": null,
      "outputs": []
    },
    {
      "cell_type": "markdown",
      "source": [
        "### EDA (Exploratory Data Analysis)\n",
        "\n",
        "Let's start by looking at the raw data. As we already saw, for each combination of species, area and year we have multiple observations; for instance, let's look at `Pacific cod` from `West Yakutat` in year `2000`. Therefore, a boxplot is a good way to plot these data:"
      ],
      "metadata": {
        "id": "Jcv7sNpIq6Bp"
      }
    },
    {
      "cell_type": "code",
      "source": [
        "fish.loc[(fish['Species'] == \"Pacific cod\") & (fish['Area'] == \"West Yakutat\") & (fish['Year'] == 2000)]"
      ],
      "metadata": {
        "id": "jz5J0XtcqaNf"
      },
      "execution_count": null,
      "outputs": []
    },
    {
      "cell_type": "code",
      "source": [
        "import seaborn as sns\n",
        "import matplotlib.pyplot as plt\n",
        "\n",
        "# Set up the FacetGrid\n",
        "g = sns.catplot(\n",
        "    data=fish,\n",
        "    x='Year',\n",
        "    y='CPUE',\n",
        "    hue='Area',\n",
        "    col='Area',\n",
        "    row='Species',\n",
        "    kind='box',\n",
        "    height=4,\n",
        "    aspect=1.2\n",
        ")\n",
        "\n",
        "# Rotate x-axis labels\n",
        "for ax in g.axes.flatten():\n",
        "    for label in ax.get_xticklabels():\n",
        "        label.set_rotation(90)\n",
        "\n",
        "plt.tight_layout()\n",
        "plt.show()"
      ],
      "metadata": {
        "collapsed": true,
        "id": "i0-9VDm6FI0e"
      },
      "execution_count": null,
      "outputs": []
    },
    {
      "cell_type": "markdown",
      "source": [
        "First, we note large variation in scale between fish species. Let's try to allow the scale to change by `Species`:"
      ],
      "metadata": {
        "id": "eL45WH_2Gxh3"
      }
    },
    {
      "cell_type": "code",
      "source": [
        "g = sns.catplot(\n",
        "    data=fish,\n",
        "    x='Year',\n",
        "    y='CPUE',\n",
        "    hue='Area',\n",
        "    col='Area',\n",
        "    col_order = ['East Yakutat/Southeast', 'West Yakutat', 'Central Gulf of Alaska', 'Western Gulf of Alaska'],\n",
        "    row='Species',\n",
        "    kind='box',\n",
        "    height=4,\n",
        "    aspect=1.2,\n",
        "    sharey=False  # allow individual y-axis, we'll manually sync per row\n",
        ")\n",
        "\n",
        "# Get the species (row) levels\n",
        "species_levels = fish['Species'].unique()\n",
        "\n",
        "# Sync y-axis within each row\n",
        "for i, species in enumerate(species_levels):\n",
        "    # Get all axes in the current row\n",
        "    axes_row = g.axes[i]\n",
        "    # Find the min and max y across this row\n",
        "    y_mins, y_maxs = zip(*(ax.get_ylim() for ax in axes_row))\n",
        "    common_ylim = (min(y_mins), max(y_maxs))\n",
        "    # Set the same ylim for all axes in this row\n",
        "    for ax in axes_row:\n",
        "        ax.set_ylim(common_ylim)\n",
        "\n",
        "# Rotate x-axis labels\n",
        "for ax in g.axes.flatten():\n",
        "    ax.set_xticklabels(ax.get_xticklabels(), rotation=90)\n",
        "\n",
        "plt.tight_layout()\n",
        "plt.show()"
      ],
      "metadata": {
        "collapsed": true,
        "id": "HHVboRD3PKTg"
      },
      "execution_count": null,
      "outputs": []
    },
    {
      "cell_type": "markdown",
      "source": [
        "We now see CPUE oscillations overtime and between geogpraphical areas, but again this varies by fish species. What if we rescale CPUE?"
      ],
      "metadata": {
        "id": "k0HB9E1XPgb6"
      }
    },
    {
      "cell_type": "code",
      "source": [
        "# Define the rescale function\n",
        "def rescale01(x):\n",
        "    rng = (np.nanmin(x), np.nanmax(x))\n",
        "    return 100 * (x - rng[0]) / (rng[1] - rng[0]) if rng[1] != rng[0] else np.zeros_like(x)\n",
        "\n",
        "# Assuming 'fish' is a pandas DataFrame with columns: 'Species', 'CPUE'\n",
        "# Group by 'Species' and apply the rescaling to each group\n",
        "\n",
        "fish['rescaled_cpue'] = (\n",
        "    fish.groupby('Species')['CPUE']\n",
        "    .transform(rescale01)\n",
        ")"
      ],
      "metadata": {
        "id": "IO7S77dLJedq"
      },
      "execution_count": null,
      "outputs": []
    },
    {
      "cell_type": "code",
      "source": [
        "fish.groupby('Species').agg({'rescaled_cpue':['min','max']})"
      ],
      "metadata": {
        "collapsed": true,
        "id": "Iq0V3WfWTRP8"
      },
      "execution_count": null,
      "outputs": []
    },
    {
      "cell_type": "code",
      "source": [
        "g = sns.catplot(\n",
        "    data=fish,\n",
        "    x='Year',\n",
        "    y='rescaled_cpue',\n",
        "    hue='Area',\n",
        "    col='Area',\n",
        "    col_order = ['East Yakutat/Southeast', 'West Yakutat', 'Central Gulf of Alaska', 'Western Gulf of Alaska'],\n",
        "    row='Species',\n",
        "    kind='box',\n",
        "    height=4,\n",
        "    aspect=1.2,\n",
        "    sharey=True  # allow individual y-axis, we'll manually sync per row\n",
        ")\n",
        "\n",
        "# Rotate x-axis labels\n",
        "for ax in g.axes.flatten():\n",
        "    for label in ax.get_xticklabels():\n",
        "        label.set_rotation(90)\n",
        "\n",
        "plt.tight_layout()\n",
        "plt.show()"
      ],
      "metadata": {
        "collapsed": true,
        "id": "IC2C4VHeTnxD"
      },
      "execution_count": null,
      "outputs": []
    },
    {
      "cell_type": "markdown",
      "source": [
        "### Trends\n",
        "\n",
        "A trend is usually an average over time:"
      ],
      "metadata": {
        "id": "8X5JlmefUQw0"
      }
    },
    {
      "cell_type": "code",
      "source": [
        "dd = (\n",
        "    fish.groupby(['Species', 'Area', 'Year'])['rescaled_cpue']\n",
        "    .mean()\n",
        "    .round(2)\n",
        "    .reset_index()\n",
        "    .pivot(index=['Species', 'Area'], columns='Year', values='rescaled_cpue')\n",
        "    .reset_index()  # Optional: flatten the multi-index\n",
        ")\n",
        "\n",
        "dd"
      ],
      "metadata": {
        "id": "brBp5HMRURdc"
      },
      "execution_count": null,
      "outputs": []
    },
    {
      "cell_type": "code",
      "source": [
        "temp = dd.melt(id_vars=['Species', 'Area'], var_name='Year', value_name='CPUE')"
      ],
      "metadata": {
        "id": "veGtfMGdUwcA"
      },
      "execution_count": null,
      "outputs": []
    },
    {
      "cell_type": "markdown",
      "source": [
        "-   `group`: we have only one observation per group (average by Species, Area, Year), so we must specify the grouping variable, in this case `Area`\n",
        "-   year is not a number now, and this is reflected in the x axis: no intervals, all values are plotted (so we can for example place them vertically and make them smaller, to avoid overlap)"
      ],
      "metadata": {
        "id": "ca2AsheCVNdt"
      }
    },
    {
      "cell_type": "code",
      "source": [
        "# Ensure 'Year' is treated as a string or categorical for proper x-axis handling\n",
        "temp['Year'] = temp['Year'].astype(str)\n",
        "\n",
        "# Set up FacetGrid: one subplot per Species\n",
        "g = sns.FacetGrid(temp, col='Species', col_wrap=2, height=4, sharey=True,\n",
        "                  legend_out=True)\n",
        "\n",
        "# Add lineplot to each facet\n",
        "g.map_dataframe(sns.lineplot, x='Year', y='CPUE', hue='Area', estimator=None)\n",
        "\n",
        "# Rotate x-axis labels and adjust text size\n",
        "for ax in g.axes.flatten():\n",
        "    ax.tick_params(axis='x', rotation=90, labelsize=6)\n",
        "\n",
        "# Add legend (optional customization)\n",
        "g.add_legend(title='Area')\n",
        "plt.tight_layout()\n",
        "plt.show()"
      ],
      "metadata": {
        "id": "u5X0F4-EVLFr"
      },
      "execution_count": null,
      "outputs": []
    },
    {
      "cell_type": "markdown",
      "source": [
        "What if `Year` (x axis variable) was a number (an integer)?"
      ],
      "metadata": {
        "id": "wrsy1NOZYPlr"
      }
    },
    {
      "cell_type": "code",
      "source": [
        "temp['Year'] = temp['Year'].astype(int)"
      ],
      "metadata": {
        "id": "W4pAbU7RVZGs"
      },
      "execution_count": null,
      "outputs": []
    },
    {
      "cell_type": "code",
      "source": [
        "# Set up FacetGrid: one subplot per Species\n",
        "g = sns.FacetGrid(temp, col='Species', col_wrap=2, height=4, sharey=True,\n",
        "                  legend_out=True)\n",
        "\n",
        "# Add lineplot to each facet\n",
        "g.map_dataframe(sns.lineplot, x='Year', y='CPUE', hue='Area', estimator=None)\n",
        "\n",
        "# Rotate x-axis labels and adjust text size\n",
        "for ax in g.axes.flatten():\n",
        "    ax.tick_params(axis='x', rotation=90, labelsize=6)\n",
        "\n",
        "# Add legend (optional customization)\n",
        "g.add_legend(title='Area')\n",
        "plt.tight_layout()\n",
        "plt.show()"
      ],
      "metadata": {
        "id": "6NsBkJ5zYeZP"
      },
      "execution_count": null,
      "outputs": []
    },
    {
      "cell_type": "markdown",
      "source": [
        "------------------------------------------------------------------------\n",
        "\n",
        "**Q: Do we have a trend?**\n",
        "\n",
        "------------------------------------------------------------------------"
      ],
      "metadata": {
        "id": "lHS5LcKtYtqE"
      }
    },
    {
      "cell_type": "markdown",
      "source": [
        "What about the standard deviation? Let's see if we have a trend there (!! remember, we introduced artificial random variation, no trend is actually expected, safe by chance !!):"
      ],
      "metadata": {
        "id": "ihRVDu218dLE"
      }
    },
    {
      "cell_type": "code",
      "source": [
        "dd = (\n",
        "    fish.groupby(['Species', 'Area', 'Year'])['rescaled_cpue']\n",
        "    .std()\n",
        "    .round(2)\n",
        "    .reset_index()\n",
        "    .pivot(index=['Species', 'Area'], columns='Year', values='rescaled_cpue')\n",
        "    .reset_index()  # Optional: flatten the multi-index\n",
        ")\n",
        "\n",
        "dd"
      ],
      "metadata": {
        "id": "55e3bQIEYgzr"
      },
      "execution_count": null,
      "outputs": []
    },
    {
      "cell_type": "code",
      "source": [
        "temp = dd.melt(id_vars=['Species', 'Area'], var_name='Year', value_name='sd(CPUE)')"
      ],
      "metadata": {
        "id": "fAmFWvEY9VS_"
      },
      "execution_count": null,
      "outputs": []
    },
    {
      "cell_type": "code",
      "source": [
        "# Ensure 'Year' is treated as a string or categorical for proper x-axis handling\n",
        "# temp['Year'] = temp['Year'].astype(str)\n",
        "\n",
        "# Set up FacetGrid: one subplot per Species\n",
        "g = sns.FacetGrid(temp, col='Species', col_wrap=2, height=4, sharey=True,\n",
        "                  legend_out=True)\n",
        "\n",
        "# Add lineplot to each facet\n",
        "g.map_dataframe(sns.lineplot, x='Year', y='sd(CPUE)', hue='Area', estimator=None)\n",
        "\n",
        "# Rotate x-axis labels and adjust text size\n",
        "for ax in g.axes.flatten():\n",
        "    ax.tick_params(axis='x', rotation=90, labelsize=6)\n",
        "\n",
        "# Add legend (optional customization)\n",
        "g.add_legend(title='Area')\n",
        "plt.tight_layout()\n",
        "plt.show()"
      ],
      "metadata": {
        "id": "R6AamW1z9pk6"
      },
      "execution_count": null,
      "outputs": []
    },
    {
      "cell_type": "markdown",
      "source": [
        "------------------------------------------------------------------------\n",
        "\n",
        "**Q: What do you notice?**\n",
        "\n",
        "------------------------------------------------------------------------"
      ],
      "metadata": {
        "id": "01kr_3mv98SS"
      }
    },
    {
      "cell_type": "markdown",
      "source": [
        "### Model-based adjustments\n",
        "\n",
        "We can use a model to adjust phenotypes by known sources of variation:"
      ],
      "metadata": {
        "id": "wR0tTynL-DLN"
      }
    },
    {
      "cell_type": "code",
      "source": [
        "import statsmodels.api as sm\n",
        "\n",
        "# Assuming 'fish' is a pandas DataFrame already loaded with your data\n",
        "\n",
        "# Define the independent variables and add a constant for the intercept\n",
        "X = fish[['SST_cvW', 'SST_cvW1', 'SST_cvW2', 'SST_cvW3', 'SST_cvW4', 'SST_cvW5']]\n",
        "X = sm.add_constant(X)  # Adds the intercept term\n",
        "\n",
        "# Define the dependent variable\n",
        "y = fish['rescaled_cpue']\n",
        "\n",
        "# Fit the linear model\n",
        "model = sm.OLS(y, X).fit()\n",
        "\n",
        "# Print the summary of the regression\n",
        "print(model.summary())"
      ],
      "metadata": {
        "id": "KXA044UJ98td"
      },
      "execution_count": null,
      "outputs": []
    },
    {
      "cell_type": "markdown",
      "source": [
        "We then **focus on model residuals**:"
      ],
      "metadata": {
        "id": "ntasFk6NBOMj"
      }
    },
    {
      "cell_type": "code",
      "source": [
        "## residuals are stored in the attribute <object>.resid\n",
        "model.resid.describe()"
      ],
      "metadata": {
        "id": "Mw1wstZ5_5DJ"
      },
      "execution_count": null,
      "outputs": []
    },
    {
      "cell_type": "code",
      "source": [
        "# Plotting a basic histogram\n",
        "data = model.resid\n",
        "plt.hist(data, bins=30, color='skyblue', edgecolor='black')\n",
        "\n",
        "# Adding labels and title\n",
        "plt.xlabel('Values')\n",
        "plt.ylabel('Frequency')\n",
        "plt.title('Basic Histogram')\n",
        "\n",
        "# Display the plot\n",
        "plt.show()"
      ],
      "metadata": {
        "id": "Ric9fMPaAvmp"
      },
      "execution_count": null,
      "outputs": []
    },
    {
      "cell_type": "code",
      "source": [
        "fish['residuals'] = model.resid\n",
        "fish['fitted_values'] = model.fittedvalues"
      ],
      "metadata": {
        "id": "eTTraxuUBhOj"
      },
      "execution_count": null,
      "outputs": []
    },
    {
      "cell_type": "code",
      "source": [
        "fish"
      ],
      "metadata": {
        "id": "LF63QguEB-JA"
      },
      "execution_count": null,
      "outputs": []
    },
    {
      "cell_type": "code",
      "source": [
        "dd = (\n",
        "    fish.groupby(['Species', 'Area', 'Year'])['residuals']\n",
        "    .mean()\n",
        "    .round(2)\n",
        "    .reset_index()\n",
        "    .pivot(index=['Species', 'Area'], columns='Year', values='residuals')\n",
        "    .reset_index()  # Optional: flatten the multi-index\n",
        ")\n",
        "\n",
        "dd"
      ],
      "metadata": {
        "id": "XeSh4VTvCF5l"
      },
      "execution_count": null,
      "outputs": []
    },
    {
      "cell_type": "code",
      "source": [
        "temp = dd.melt(id_vars=['Species', 'Area'], var_name='Year', value_name='adjusted CPUE')"
      ],
      "metadata": {
        "id": "YGRcadQyCR_T"
      },
      "execution_count": null,
      "outputs": []
    },
    {
      "cell_type": "code",
      "source": [
        "# Ensure 'Year' is treated as a string or categorical for proper x-axis handling\n",
        "# temp['Year'] = temp['Year'].astype(str)\n",
        "\n",
        "# Set up FacetGrid: one subplot per Species\n",
        "g = sns.FacetGrid(temp, col='Species', col_wrap=2, height=4, sharey=True,\n",
        "                  legend_out=True)\n",
        "\n",
        "# Add lineplot to each facet\n",
        "g.map_dataframe(sns.lineplot, x='Year', y='adjusted CPUE', hue='Area', estimator=None)\n",
        "\n",
        "# Rotate x-axis labels and adjust text size\n",
        "for ax in g.axes.flatten():\n",
        "    ax.tick_params(axis='x', rotation=90, labelsize=6)\n",
        "\n",
        "# Add legend (optional customization)\n",
        "g.add_legend(title='Area')\n",
        "plt.tight_layout()\n",
        "plt.show()"
      ],
      "metadata": {
        "id": "7IUqwHSHCj0K"
      },
      "execution_count": null,
      "outputs": []
    }
  ]
}
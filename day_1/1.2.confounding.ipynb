{
  "nbformat": 4,
  "nbformat_minor": 0,
  "metadata": {
    "colab": {
      "provenance": []
    },
    "kernelspec": {
      "name": "python3",
      "display_name": "Python 3"
    },
    "language_info": {
      "name": "python"
    }
  },
  "cells": [
    {
      "cell_type": "markdown",
      "source": [
        "# Confounders\n",
        "\n",
        "A **confounder** is associated with a predictor variable (X) and also\n",
        "with the response variable (Y); the confounder is not part of the\n",
        "causal/association pathway between predictor(s) and response.\n",
        "\n",
        "With confounding:\n",
        "\n",
        "1.  the model may be missing an important predictor $\\rightarrow$\n",
        "    reduced power of inference and prediction\n",
        "2.  some predictors may show high variance\n",
        "3.  the model may be biased\n",
        "4.  the model may be invalid\n",
        "5.  detected associations/relationships may be spurious\n",
        "\n",
        "------------------------------------------------------------------------\n",
        "\n",
        "**Why all this emphasis on confounding in a course on longitudinal data?\n",
        "Time is pervasive, and is often associated with most things. We observe\n",
        "trends in time, one thing goes up, another goes down, but are they\n",
        "really associated? Or is time confusing us?**\n",
        "\n",
        "------------------------------------------------------------------------\n",
        "\n",
        "## Simulation\n",
        "\n",
        "We simulate some data:\n",
        "\n",
        "-   the true causal effect (difference between exposed and not exposed\n",
        "    records) is simulated to be `1`\n",
        "-   binary confounder `C` of magnitude 2, either present or absent in\n",
        "    40% of the records\n",
        "-   a causal effect `X` (binary: exposed / non-exposed), that depends on\n",
        "    `C`\n",
        "-   random errors `e`, sampled from a Gaussian distribution ($\\mu = 0$,\n",
        "    $\\sigma^2 = 2$)\n",
        "-   `Y0` and `Y1` are the potential outcome, for each record, of being\n",
        "    both exposed and not exposed\n",
        "-   `Y_obs`: is the actual observations"
      ],
      "metadata": {
        "id": "-9-RubR2LL4K"
      }
    },
    {
      "cell_type": "code",
      "execution_count": null,
      "metadata": {
        "id": "u02EtOa-LDPb"
      },
      "outputs": [],
      "source": [
        "import numpy as np\n",
        "import pandas as pd"
      ]
    },
    {
      "cell_type": "code",
      "source": [
        "# Set seed for reproducibility\n",
        "np.random.seed(127)\n",
        "\n",
        "# Sample size\n",
        "n = 1000\n",
        "\n",
        "# Generate data\n",
        "df = pd.DataFrame()\n",
        "\n",
        "# C: Binary variable with P=0.4\n",
        "df['C'] = np.random.binomial(1, 0.4, size=n)\n",
        "\n",
        "# X: Binary variable with P = 0.3 + 0.4 * C\n",
        "p_X = 0.3 + 0.4 * df['C']\n",
        "df['X'] = np.random.binomial(1, p_X)\n",
        "\n",
        "# e: Normal variable with mean 0 and variance 2\n",
        "df['e'] = np.random.normal(loc=0, scale=np.sqrt(2), size=n)\n",
        "\n",
        "# Y0: Nonrandom outcome = 2*C + e\n",
        "df['Y0'] = 2 * df['C'] + df['e']\n",
        "\n",
        "# Y1: Nonrandom outcome = 1 + 2*C + e\n",
        "df['Y1'] = 1 + 2 * df['C'] + df['e']\n",
        "\n",
        "# Y_obs: Observed outcome = Y0 + (Y1 - Y0) * X\n",
        "df['Y_obs'] = df['Y0'] + (df['Y1'] - df['Y0']) * df['X']\n",
        "\n",
        "# Now df contains all the generated data\n",
        "print(df.head())"
      ],
      "metadata": {
        "id": "TxGzj8XuLci_"
      },
      "execution_count": null,
      "outputs": []
    },
    {
      "cell_type": "markdown",
      "source": [
        "Check the magnitude of the true effect size:"
      ],
      "metadata": {
        "id": "xzZlO_9gLmwK"
      }
    },
    {
      "cell_type": "code",
      "source": [
        "real_diff = (df['Y1'].mean() - df['Y0'].mean())\n",
        "print(\"Calculated mean effect size = \", round(real_diff,3))\n"
      ],
      "metadata": {
        "id": "PZXgVVJQLnkf"
      },
      "execution_count": null,
      "outputs": []
    },
    {
      "cell_type": "markdown",
      "source": [
        "Check the proportion of confounded records (expected value = 0.40):"
      ],
      "metadata": {
        "id": "Q3aH4fTDMDC0"
      }
    },
    {
      "cell_type": "code",
      "source": [
        "prop_confounded = df['C'].sum()/len(df)\n",
        "print(\"The percentage of the population with confounder C is \", round(prop_confounded,3), \"%\")"
      ],
      "metadata": {
        "id": "Bb24GuzfMD8Q"
      },
      "execution_count": null,
      "outputs": []
    },
    {
      "cell_type": "markdown",
      "source": [
        "Check the proportion of exposed records (expected value = 0.30 + 0.40*C\n",
        "= 0.3 + 0.4*0.38 = 0.452):"
      ],
      "metadata": {
        "id": "NpOTAGqQMawt"
      }
    },
    {
      "cell_type": "code",
      "source": [
        "prop_exposed = df['X'].sum()/len(df)\n",
        "print(\"The percentage of the population exposed to treatment/effect X \", round(prop_exposed,3), \"%\")"
      ],
      "metadata": {
        "id": "nmYU0VjALrOs"
      },
      "execution_count": null,
      "outputs": []
    },
    {
      "cell_type": "markdown",
      "source": [
        "Calculate the expected observed difference between exposed and\n",
        "non-exposed records (in presence of confounding):"
      ],
      "metadata": {
        "id": "QlkmrfGxMnl-"
      }
    },
    {
      "cell_type": "code",
      "source": [
        "#dt[X == 1, mean(Y_obs)] - dt[X == 0, mean(Y_obs)]\n",
        "exp_nonexp = (df.loc[df['X'] == 1]['Y_obs'].mean() - df.loc[df['X'] == 0]['Y_obs'].mean())\n",
        "print(\"Calculated observed difference  = \", round(exp_nonexp, 3))"
      ],
      "metadata": {
        "id": "7mWidYD-MoOJ"
      },
      "execution_count": null,
      "outputs": []
    },
    {
      "cell_type": "markdown",
      "source": [
        "The observed difference is not equal to the true effect size of the\n",
        "exposure due to the presence of the confounder C. The expected observed\n",
        "difference is given by the true effect size (1.0) + the confounding bias\n",
        "(40%\\*2 =.8) = 1.8 (which is close to the actual calculated\n",
        "difference between exposed and non-exposed records).\n",
        "\n",
        "With simple linear regression we indeed obtain an estimated effect of\n",
        "1.603:"
      ],
      "metadata": {
        "id": "ayKIHjiUNWgQ"
      }
    },
    {
      "cell_type": "code",
      "source": [
        "from statsmodels.formula.api import ols\n",
        "\n",
        "res = ols('Y_obs ~ X', data=df).fit()\n",
        "print(res.summary())"
      ],
      "metadata": {
        "id": "jcknQFsMM1BS"
      },
      "execution_count": null,
      "outputs": []
    },
    {
      "cell_type": "markdown",
      "source": [
        "Adding the confounder to the model adjusts for the bias and returns the\n",
        "correct estimates for both the exposure (1.0) and the confounder bias\n",
        "(2.0):"
      ],
      "metadata": {
        "id": "FjvO30GjN5TN"
      }
    },
    {
      "cell_type": "code",
      "source": [
        "res = ols('Y_obs ~ X + C', data=df).fit()\n",
        "print(res.summary())"
      ],
      "metadata": {
        "id": "OyxNL-FnNwgt"
      },
      "execution_count": null,
      "outputs": []
    },
    {
      "cell_type": "markdown",
      "source": [
        "**Question: if this is so easy (just adding a systematic effect to the\n",
        "model), why do we worry so much about confounding?**"
      ],
      "metadata": {
        "id": "bFA47VaZN_55"
      }
    },
    {
      "cell_type": "markdown",
      "source": [
        "### Example with risk ratios\n",
        "\n",
        "Retrospective cohort study: patients with high or low cholesterol,\n",
        "monitored for 12 months and then assessed for all-cause mortality\n",
        "(death). The amount of **exercise during the 12-month period of\n",
        "follow-up** is a potential confounder: it associated with both blood\n",
        "cholesterol and death (e.g. more physical exercise $\\rightarrow$ lower\n",
        "cholesterol and lower death rate), and it is not in the causal path\n",
        "between blood cholesterol and risk death.\n",
        "\n",
        "![confounding](https://drive.google.com/uc?export=view&id=1zSI8WAAx8zdVT_W6E2BX-EHWlPF2e3UY)\n",
        "\n",
        "Figure from:\n",
        "<https://rpubs.com/mbounthavong/confounding_interaction>"
      ],
      "metadata": {
        "id": "1dR_1qjVOAoB"
      }
    },
    {
      "cell_type": "markdown",
      "source": [
        "We have 250 deaths out of 2250 subjects with high blood cholesterol\n",
        "(250/2250 = 11.1%), and 150 deaths out of 1650 subjects with low blood\n",
        "cholesterol (150/1650 = 9.1%).\n",
        "\n",
        "[Is there a higher risk of death with higher blood cholesterol\n",
        "levels?]{style=\"color:red\"}\n"
      ],
      "metadata": {
        "id": "AHYepw-bOtBq"
      }
    },
    {
      "cell_type": "code",
      "source": [
        "data = np.array([[250, 150], [2000, 1500]])\n",
        "\n",
        "# Create a DataFrame to label rows and columns\n",
        "table1 = pd.DataFrame(data,\n",
        "                      index=[\"high\", \"low\"],\n",
        "                      columns=[\"death\", \"survival\"])\n",
        "\n",
        "# Display the table\n",
        "print(table1)"
      ],
      "metadata": {
        "id": "IX_CMuZON8o8"
      },
      "execution_count": null,
      "outputs": []
    },
    {
      "cell_type": "markdown",
      "source": [
        "To compare the risk of death in the two exposure groups (high/low blood\n",
        "cholesterol), we can estimate the risk ratio (RR) and odds ratio (OR):\n",
        "\n",
        "- $$\n",
        "  RR = \\frac{\\text{high-chol-deaths}/\\text{all-high-chol}}{\\text{low-chol-deaths}/\\text{all-low-chol}}\n",
        "  $$\n",
        "\n",
        "- $$\n",
        "  OR = \\frac{\\text{high-chol-deaths}/\\text{high-chol-survs}}{\\text{low-chol-deaths}/\\text{low-chol-survs}}\n",
        "  $$\n",
        "\n",
        "(The 95% Confidence Intervals are also estimated)\n"
      ],
      "metadata": {
        "id": "1UpJmh-0PF7F"
      }
    },
    {
      "cell_type": "code",
      "source": [
        "from statsmodels.stats.proportion import proportion_confint\n",
        "\n",
        "# Recreate the table (after reversing rows and columns as rev = c(\"both\"))\n",
        "table = np.array([[1500, 2000], [150, 250]])  # [survival, death] x [low, high]\n",
        "\n",
        "# Extract cell counts\n",
        "a = table[1, 1]  # Exposed + event (death | high)\n",
        "b = table[1, 0]  # Exposed + no event (survival | high)\n",
        "c = table[0, 1]  # Unexposed + event (death | low)\n",
        "d = table[0, 0]  # Unexposed + no event (survival | low)\n",
        "\n",
        "# Compute risks\n",
        "risk_high = a / (a + b)\n",
        "risk_low = c / (c + d)\n",
        "\n",
        "# Compute risk ratio\n",
        "rr = risk_high / risk_low\n",
        "\n",
        "# Compute standard error and 95% CI (Wald method on log scale)\n",
        "import math\n",
        "se_log_rr = math.sqrt((1/a - 1/(a+b)) + (1/c - 1/(c+d)))\n",
        "log_rr = math.log(rr)\n",
        "ci_lower = math.exp(log_rr - 1.96 * se_log_rr)\n",
        "ci_upper = math.exp(log_rr + 1.96 * se_log_rr)\n",
        "\n",
        "# Display results\n",
        "print(f\"Risk (high): {risk_high:.4f}\")\n",
        "print(f\"Risk (low): {risk_low:.4f}\")\n",
        "print(f\"Risk Ratio: {rr:.4f}\")\n",
        "print(f\"95% CI: ({ci_lower:.4f}, {ci_upper:.4f})\")"
      ],
      "metadata": {
        "id": "Bu9MemDTPGjM"
      },
      "execution_count": null,
      "outputs": []
    },
    {
      "cell_type": "code",
      "source": [
        "table = np.array([[1500, 2000], [150, 250]])\n",
        "\n",
        "# Assign cells:\n",
        "#       Event (death)    No event (survival)\n",
        "# Exposed (high)     a = 250          b = 150\n",
        "# Unexposed (low)    c = 2000         d = 1500\n",
        "\n",
        "a = table[1, 1]\n",
        "b = table[1, 0]\n",
        "c = table[0, 1]\n",
        "d = table[0, 0]\n",
        "\n",
        "# Odds ratio\n",
        "odds_ratio = (a * d) / (b * c)\n",
        "\n",
        "# Standard error on log scale\n",
        "se_log_or = math.sqrt(1/a + 1/b + 1/c + 1/d)\n",
        "\n",
        "# 95% CI\n",
        "log_or = math.log(odds_ratio)\n",
        "ci_lower = math.exp(log_or - 1.96 * se_log_or)\n",
        "ci_upper = math.exp(log_or + 1.96 * se_log_or)\n",
        "\n",
        "# Display results\n",
        "print(f\"Odds Ratio: {odds_ratio:.4f}\")\n",
        "print(f\"95% CI: ({ci_lower:.4f}, {ci_upper:.4f})\")"
      ],
      "metadata": {
        "id": "lnn6ULZCQd-d"
      },
      "execution_count": null,
      "outputs": []
    },
    {
      "cell_type": "markdown",
      "source": [
        "Subjects with *High Cholesterol* have a 22% higher risk of death\n",
        "compared to Low Cholesterol subjects (RR = 1.22; 95% CI: [1.01 - 1.48];\n",
        "p-value = 0.040).\n",
        "\n",
        "Subjects with *High Cholesterol* have a 25% increase in the odds of\n",
        "death compared to Low Cholesterol subjects (OR = 1.25; 95% CI: [1.01,\n",
        "1.55]; p-value = 0.040).\n",
        "\n",
        "From this analysis, the association between blood cholesterol and risk\n",
        "of death is significant."
      ],
      "metadata": {
        "id": "nkDsJe5SQinz"
      }
    },
    {
      "cell_type": "markdown",
      "source": [
        "#### Confounding?"
      ],
      "metadata": {
        "id": "V_8oSF57QrJg"
      }
    },
    {
      "cell_type": "code",
      "source": [],
      "metadata": {
        "id": "NtPonY9PQjDq"
      },
      "execution_count": null,
      "outputs": []
    }
  ]
}
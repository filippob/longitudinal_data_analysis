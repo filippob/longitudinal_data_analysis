{
  "nbformat": 4,
  "nbformat_minor": 0,
  "metadata": {
    "colab": {
      "provenance": []
    },
    "kernelspec": {
      "name": "python3",
      "display_name": "Python 3"
    },
    "language_info": {
      "name": "python"
    }
  },
  "cells": [
    {
      "cell_type": "markdown",
      "source": [
        "# Confounders\n",
        "\n",
        "A **confounder** is associated with a predictor variable (X) and also\n",
        "with the response variable (Y); the confounder is not part of the\n",
        "causal/association pathway between predictor(s) and response.\n",
        "\n",
        "With confounding:\n",
        "\n",
        "1.  the model may be missing an important predictor $\\rightarrow$\n",
        "    reduced power of inference and prediction\n",
        "2.  some predictors may show high variance\n",
        "3.  the model may be biased\n",
        "4.  the model may be invalid\n",
        "5.  detected associations/relationships may be spurious\n",
        "\n",
        "------------------------------------------------------------------------\n",
        "\n",
        "**Why all this emphasis on confounding in a course on longitudinal data?\n",
        "Time is pervasive, and is often associated with most things. We observe\n",
        "trends in time, one thing goes up, another goes down, but are they\n",
        "really associated? Or is time confusing us?**\n",
        "\n",
        "------------------------------------------------------------------------\n",
        "\n",
        "## Simulation\n",
        "\n",
        "We simulate some data:\n",
        "\n",
        "-   the true causal effect (difference between exposed and not exposed\n",
        "    records) is simulated to be `1`\n",
        "-   binary confounder `C` of magnitude 2, either present or absent in\n",
        "    40% of the records\n",
        "-   a causal effect `X` (binary: exposed / non-exposed), that depends on\n",
        "    `C`\n",
        "-   random errors `e`, sampled from a Gaussian distribution ($\\mu = 0$,\n",
        "    $\\sigma^2 = 2$)\n",
        "-   `Y0` and `Y1` are the potential outcome, for each record, of being\n",
        "    both exposed and not exposed\n",
        "-   `Y_obs`: is the actual observations"
      ],
      "metadata": {
        "id": "-9-RubR2LL4K"
      }
    },
    {
      "cell_type": "code",
      "execution_count": null,
      "metadata": {
        "id": "u02EtOa-LDPb"
      },
      "outputs": [],
      "source": [
        "import numpy as np\n",
        "import pandas as pd"
      ]
    },
    {
      "cell_type": "code",
      "source": [
        "# Set seed for reproducibility\n",
        "np.random.seed(127)\n",
        "\n",
        "# Sample size\n",
        "n = 1000\n",
        "\n",
        "# Generate data\n",
        "df = pd.DataFrame()\n",
        "\n",
        "# C: Binary variable with P=0.4\n",
        "df['C'] = np.random.binomial(1, 0.4, size=n)\n",
        "\n",
        "# X: Binary variable with P = 0.3 + 0.4 * C\n",
        "p_X = 0.3 + 0.4 * df['C']\n",
        "df['X'] = np.random.binomial(1, p_X)\n",
        "\n",
        "# e: Normal variable with mean 0 and variance 2\n",
        "df['e'] = np.random.normal(loc=0, scale=np.sqrt(2), size=n)\n",
        "\n",
        "# Y0: Nonrandom outcome = 2*C + e\n",
        "df['Y0'] = 2 * df['C'] + df['e']\n",
        "\n",
        "# Y1: Nonrandom outcome = 1 + 2*C + e\n",
        "df['Y1'] = 1 + 2 * df['C'] + df['e']\n",
        "\n",
        "# Y_obs: Observed outcome = Y0 + (Y1 - Y0) * X\n",
        "df['Y_obs'] = df['Y0'] + (df['Y1'] - df['Y0']) * df['X']\n",
        "\n",
        "# Now df contains all the generated data\n",
        "print(df.head())"
      ],
      "metadata": {
        "id": "TxGzj8XuLci_"
      },
      "execution_count": null,
      "outputs": []
    },
    {
      "cell_type": "markdown",
      "source": [
        "Check the magnitude of the true effect size:"
      ],
      "metadata": {
        "id": "xzZlO_9gLmwK"
      }
    },
    {
      "cell_type": "code",
      "source": [
        "real_diff = (df['Y1'].mean() - df['Y0'].mean())\n",
        "print(\"Calculated mean effect size = \", round(real_diff,3))\n"
      ],
      "metadata": {
        "id": "PZXgVVJQLnkf"
      },
      "execution_count": null,
      "outputs": []
    },
    {
      "cell_type": "markdown",
      "source": [
        "Check the proportion of confounded records (expected value = 0.40):"
      ],
      "metadata": {
        "id": "Q3aH4fTDMDC0"
      }
    },
    {
      "cell_type": "code",
      "source": [
        "prop_confounded = df['C'].sum()/len(df)\n",
        "print(\"The percentage of the population with confounder C is \", round(prop_confounded,3), \"%\")"
      ],
      "metadata": {
        "id": "Bb24GuzfMD8Q"
      },
      "execution_count": null,
      "outputs": []
    },
    {
      "cell_type": "markdown",
      "source": [
        "Check the proportion of exposed records (expected value = 0.30 + 0.40*C\n",
        "= 0.3 + 0.4*0.38 = 0.452):"
      ],
      "metadata": {
        "id": "NpOTAGqQMawt"
      }
    },
    {
      "cell_type": "code",
      "source": [
        "prop_exposed = df['X'].sum()/len(df)\n",
        "print(\"The percentage of the population exposed to treatment/effect X \", round(prop_exposed,3), \"%\")"
      ],
      "metadata": {
        "id": "nmYU0VjALrOs"
      },
      "execution_count": null,
      "outputs": []
    },
    {
      "cell_type": "markdown",
      "source": [
        "Calculate the expected observed difference between exposed and\n",
        "non-exposed records (in presence of confounding):"
      ],
      "metadata": {
        "id": "QlkmrfGxMnl-"
      }
    },
    {
      "cell_type": "code",
      "source": [
        "#dt[X == 1, mean(Y_obs)] - dt[X == 0, mean(Y_obs)]\n",
        "exp_nonexp = (df.loc[df['X'] == 1]['Y_obs'].mean() - df.loc[df['X'] == 0]['Y_obs'].mean())\n",
        "print(\"Calculated observed difference  = \", round(exp_nonexp, 3))"
      ],
      "metadata": {
        "id": "7mWidYD-MoOJ"
      },
      "execution_count": null,
      "outputs": []
    },
    {
      "cell_type": "markdown",
      "source": [
        "The observed difference is not equal to the true effect size of the\n",
        "exposure due to the presence of the confounder C. The expected observed\n",
        "difference is given by the true effect size (1.0) + the confounding bias\n",
        "(40%\\*2 =.8) = 1.8 (which is close to the actual calculated\n",
        "difference between exposed and non-exposed records).\n",
        "\n",
        "With simple linear regression we indeed obtain an estimated effect of\n",
        "1.603:"
      ],
      "metadata": {
        "id": "ayKIHjiUNWgQ"
      }
    },
    {
      "cell_type": "code",
      "source": [
        "from statsmodels.formula.api import ols\n",
        "\n",
        "res = ols('Y_obs ~ X', data=df).fit()\n",
        "print(res.summary())"
      ],
      "metadata": {
        "id": "jcknQFsMM1BS"
      },
      "execution_count": null,
      "outputs": []
    },
    {
      "cell_type": "markdown",
      "source": [
        "Adding the confounder to the model adjusts for the bias and returns the\n",
        "correct estimates for both the exposure (1.0) and the confounder bias\n",
        "(2.0):"
      ],
      "metadata": {
        "id": "FjvO30GjN5TN"
      }
    },
    {
      "cell_type": "code",
      "source": [
        "res = ols('Y_obs ~ X + C', data=df).fit()\n",
        "print(res.summary())"
      ],
      "metadata": {
        "id": "OyxNL-FnNwgt"
      },
      "execution_count": null,
      "outputs": []
    },
    {
      "cell_type": "markdown",
      "source": [
        "**Question: if this is so easy (just adding a systematic effect to the\n",
        "model), why do we worry so much about confounding?**"
      ],
      "metadata": {
        "id": "bFA47VaZN_55"
      }
    },
    {
      "cell_type": "markdown",
      "source": [
        "### Example with risk ratios\n",
        "\n",
        "Retrospective cohort study: patients with high or low cholesterol,\n",
        "monitored for 12 months and then assessed for all-cause mortality\n",
        "(death). The amount of **exercise during the 12-month period of\n",
        "follow-up** is a potential confounder: it associated with both blood\n",
        "cholesterol and death (e.g. more physical exercise $\\rightarrow$ lower\n",
        "cholesterol and lower death rate), and it is not in the causal path\n",
        "between blood cholesterol and risk death.\n",
        "\n",
        "![confounding](https://drive.google.com/uc?export=view&id=1zSI8WAAx8zdVT_W6E2BX-EHWlPF2e3UY)\n",
        "\n",
        "Figure from:\n",
        "<https://rpubs.com/mbounthavong/confounding_interaction>"
      ],
      "metadata": {
        "id": "1dR_1qjVOAoB"
      }
    },
    {
      "cell_type": "markdown",
      "source": [
        "We have 250 deaths out of 2250 subjects with high blood cholesterol\n",
        "(250/2250 = 11.1%), and 150 deaths out of 1650 subjects with low blood\n",
        "cholesterol (150/1650 = 9.1%).\n",
        "\n",
        "[Is there a higher risk of death with higher blood cholesterol\n",
        "levels?]{style=\"color:red\"}\n"
      ],
      "metadata": {
        "id": "AHYepw-bOtBq"
      }
    },
    {
      "cell_type": "code",
      "source": [
        "data = np.array([[250, 150], [2000, 1500]])\n",
        "\n",
        "# Create a DataFrame to label rows and columns\n",
        "table1 = pd.DataFrame(data,\n",
        "                      index=[\"high\", \"low\"],\n",
        "                      columns=[\"death\", \"survival\"])\n",
        "\n",
        "# Display the table\n",
        "print(table1)"
      ],
      "metadata": {
        "id": "IX_CMuZON8o8"
      },
      "execution_count": null,
      "outputs": []
    },
    {
      "cell_type": "markdown",
      "source": [
        "To compare the risk of death in the two exposure groups (high/low blood\n",
        "cholesterol), we can estimate the risk ratio (RR) and odds ratio (OR):\n",
        "\n",
        "- $$\n",
        "  RR = \\frac{\\text{high-chol-deaths}/\\text{all-high-chol}}{\\text{low-chol-deaths}/\\text{all-low-chol}}\n",
        "  $$\n",
        "\n",
        "- $$\n",
        "  OR = \\frac{\\text{high-chol-deaths}/\\text{high-chol-survs}}{\\text{low-chol-deaths}/\\text{low-chol-survs}}\n",
        "  $$\n",
        "\n",
        "(The 95% Confidence Intervals are also estimated)\n"
      ],
      "metadata": {
        "id": "1UpJmh-0PF7F"
      }
    },
    {
      "cell_type": "code",
      "source": [
        "from statsmodels.stats.proportion import proportion_confint\n",
        "\n",
        "# Recreate the table (after reversing rows and columns as rev = c(\"both\"))\n",
        "table = np.array([[1500, 2000], [150, 250]])  # [survival, death] x [low, high]\n",
        "\n",
        "# Extract cell counts\n",
        "a = table[1, 1]  # Exposed + event (death | high)\n",
        "b = table[1, 0]  # Exposed + no event (survival | high)\n",
        "c = table[0, 1]  # Unexposed + event (death | low)\n",
        "d = table[0, 0]  # Unexposed + no event (survival | low)\n",
        "\n",
        "# Compute risks\n",
        "risk_high = a / (a + b)\n",
        "risk_low = c / (c + d)\n",
        "\n",
        "# Compute risk ratio\n",
        "rr = risk_high / risk_low\n",
        "\n",
        "# Compute standard error and 95% CI (Wald method on log scale)\n",
        "import math\n",
        "se_log_rr = math.sqrt((1/a - 1/(a+b)) + (1/c - 1/(c+d)))\n",
        "log_rr = math.log(rr)\n",
        "ci_lower = math.exp(log_rr - 1.96 * se_log_rr)\n",
        "ci_upper = math.exp(log_rr + 1.96 * se_log_rr)\n",
        "\n",
        "# Display results\n",
        "print(f\"Risk (high cholesterol): {risk_high:.4f}\")\n",
        "print(f\"Risk (low cholesterol): {risk_low:.4f}\")\n",
        "print(f\"Risk Ratio: {rr:.4f}\")\n",
        "print(f\"95% CI: ({ci_lower:.4f}, {ci_upper:.4f})\")"
      ],
      "metadata": {
        "id": "Bu9MemDTPGjM"
      },
      "execution_count": null,
      "outputs": []
    },
    {
      "cell_type": "code",
      "source": [
        "from scipy.stats import norm\n",
        "\n",
        "# Risk Ratio and standard error already computed\n",
        "z_rr = log_rr / se_log_rr\n",
        "p_rr = 2 * (1 - norm.cdf(abs(z_rr)))\n",
        "\n",
        "print(f\"RR p-value: {p_rr:.4g}\")\n"
      ],
      "metadata": {
        "id": "X3jnmNIcTgu9"
      },
      "execution_count": null,
      "outputs": []
    },
    {
      "cell_type": "code",
      "source": [
        "table = np.array([[1500, 2000], [150, 250]])\n",
        "\n",
        "# Assign cells:\n",
        "#       Event (death)    No event (survival)\n",
        "# Exposed (high)     a = 250          b = 150\n",
        "# Unexposed (low)    c = 2000         d = 1500\n",
        "\n",
        "a = table[1, 1]\n",
        "b = table[1, 0]\n",
        "c = table[0, 1]\n",
        "d = table[0, 0]\n",
        "\n",
        "# Odds ratio\n",
        "odds_ratio = (a / b) / (c / d)\n",
        "\n",
        "# Standard error on log scale\n",
        "se_log_or = math.sqrt(1/a + 1/b + 1/c + 1/d)\n",
        "\n",
        "# 95% CI\n",
        "log_or = math.log(odds_ratio)\n",
        "ci_lower = math.exp(log_or - 1.96 * se_log_or)\n",
        "ci_upper = math.exp(log_or + 1.96 * se_log_or)\n",
        "\n",
        "# Display results\n",
        "print(f\"Odds Ratio: {odds_ratio:.4f}\")\n",
        "print(f\"95% CI: ({ci_lower:.4f}, {ci_upper:.4f})\")"
      ],
      "metadata": {
        "id": "lnn6ULZCQd-d"
      },
      "execution_count": null,
      "outputs": []
    },
    {
      "cell_type": "code",
      "source": [
        "from scipy.stats import chi2_contingency, fisher_exact\n",
        "\n",
        "# chi-square test (similar to Wald for large samples)\n",
        "chi2, p_chi2, dof, expected = chi2_contingency(table)\n",
        "print(f\"Chi-square p-value: {p_chi2:.4g}\")\n",
        "\n",
        "# Fisher's exact test (exact p-value, useful for small samples)\n",
        "oddsratio_fisher, p_fisher = fisher_exact(table)\n",
        "print(f\"Fisher's exact test p-value: {p_fisher:.4g}\")"
      ],
      "metadata": {
        "id": "CGh3cSaGXNUm"
      },
      "execution_count": null,
      "outputs": []
    },
    {
      "cell_type": "markdown",
      "source": [
        "Subjects with *High Cholesterol* have a 9.4% higher risk of death\n",
        "compared to Low Cholesterol subjects (RR = 1.0938; 95% CI: [1.01 - 1.19];\n",
        "p-value = 0.03).\n",
        "\n",
        "Subjects with *High Cholesterol* have a 25% increase in the odds of\n",
        "death compared to Low Cholesterol subjects (OR = 1.25; 95% CI: [1.01,\n",
        "1.55]; p-value = 0.04).\n",
        "\n",
        "From this analysis, the association between blood cholesterol and risk\n",
        "of death is significant.\n",
        "\n"
      ],
      "metadata": {
        "id": "nkDsJe5SQinz"
      }
    },
    {
      "cell_type": "markdown",
      "source": [
        "#### Confounding?\n",
        "\n",
        "1.  Is there **association between the confounder (exercise) and the\n",
        "    response (risk of death)**?"
      ],
      "metadata": {
        "id": "V_8oSF57QrJg"
      }
    },
    {
      "cell_type": "code",
      "source": [
        "data2 = np.array([[200, 200], [2400, 1100]])\n",
        "table2 = pd.DataFrame(data2,\n",
        "                      index=[\"exercise\", \"no-exercise\"],\n",
        "                      columns=[\"death\", \"survival\"])\n",
        "\n",
        "print(table2)"
      ],
      "metadata": {
        "id": "NtPonY9PQjDq"
      },
      "execution_count": null,
      "outputs": []
    },
    {
      "cell_type": "code",
      "source": [
        "# Fisher's exact test (exact p-value, useful for small samples)\n",
        "oddsratio_fisher, p_fisher = fisher_exact(table2)\n",
        "print(f\"Odds ratio: {oddsratio_fisher:.4g}\")\n",
        "print(f\"Fisher's exact test p-value: {p_fisher:.4g}\")"
      ],
      "metadata": {
        "id": "Z6gRLOQ8SUPm"
      },
      "execution_count": null,
      "outputs": []
    },
    {
      "cell_type": "markdown",
      "source": [
        "2.  Is there **association between the confounder (exercise) and the\n",
        "    exposure (blood cholesterol)**?"
      ],
      "metadata": {
        "id": "MXoHMepAS_yp"
      }
    },
    {
      "cell_type": "code",
      "source": [
        "data3 = np.array([[1750, 850], [500, 800]])\n",
        "table3 = pd.DataFrame(data3,\n",
        "                      index=[\"exercise\", \"no-exercise\"],\n",
        "                      columns=[\"high-chol\", \"low-chol\"])\n",
        "\n",
        "print(table3)"
      ],
      "metadata": {
        "id": "ajeHolmkSgPx"
      },
      "execution_count": null,
      "outputs": []
    },
    {
      "cell_type": "code",
      "source": [
        "oddsratio_fisher, p_fisher = fisher_exact(table3)\n",
        "print(f\"Odds ratio: {oddsratio_fisher:.4g}\")\n",
        "print(f\"Fisher's exact test p-value: {p_fisher:.4g}\")"
      ],
      "metadata": {
        "id": "vF8XwIB0Stcz"
      },
      "execution_count": null,
      "outputs": []
    },
    {
      "cell_type": "markdown",
      "source": [
        "We see that `exercise` is associated with both the outcome and the\n",
        "exposure and, since it is not in the causal pathway between blood\n",
        "cholesterol and risk of death, we can rightfully consider it to be a\n",
        "confounder!\n",
        "\n",
        "We can estimate the size of the confounding effect using\n",
        "**stratification analysis**: exercise vs no exercise."
      ],
      "metadata": {
        "id": "bYJZ1-y0Tr2F"
      }
    },
    {
      "cell_type": "markdown",
      "source": [
        "##### Stratum 1: subjects who do exercise"
      ],
      "metadata": {
        "id": "Mz-IN8LYTvJ9"
      }
    },
    {
      "cell_type": "code",
      "source": [
        "### Distribution of Exercise across Drug groups\n",
        "# Among subjects who exercise (N=2600)\n",
        "data4 = np.array([[150, 1600], [50, 800]])\n",
        "table4 = pd.DataFrame(data4,\n",
        "                      index=[\"high-chol\", \"low-chol\"],\n",
        "                      columns=[\"death\", \"survival\"])\n",
        "\n",
        "print(table4)"
      ],
      "metadata": {
        "id": "W2YhSDkoToSs"
      },
      "execution_count": null,
      "outputs": []
    },
    {
      "cell_type": "code",
      "source": [
        "oddsratio_fisher, p_fisher = fisher_exact(table4)\n",
        "print(f\"Odds ratio: {oddsratio_fisher:.4g}\")\n",
        "print(f\"Fisher's exact test p-value: {p_fisher:.4g}\")"
      ],
      "metadata": {
        "id": "LYr62moBTzar"
      },
      "execution_count": null,
      "outputs": []
    },
    {
      "cell_type": "markdown",
      "source": [
        "\n",
        "##### Stratum 2: subjects who don't exercise"
      ],
      "metadata": {
        "id": "3Efex2GPU9B8"
      }
    },
    {
      "cell_type": "code",
      "source": [
        "### Distribution of Exercise across Drug groups\n",
        "# Among subjects who do not exercise (N=1300)\n",
        "data5 = np.array([[100, 400], [100, 700]])\n",
        "table5 = pd.DataFrame(data5,\n",
        "                      index=[\"high-chol\", \"low-chol\"],\n",
        "                      columns=[\"death\", \"survival\"])\n",
        "\n",
        "print(table5)"
      ],
      "metadata": {
        "id": "Ayo-22AWUxcu"
      },
      "execution_count": null,
      "outputs": []
    },
    {
      "cell_type": "code",
      "source": [
        "oddsratio_fisher, p_fisher = fisher_exact(table5)\n",
        "print(f\"Odds ratio: {oddsratio_fisher:.4g}\")\n",
        "print(f\"Fisher's exact test p-value: {p_fisher:.4g}\")"
      ],
      "metadata": {
        "id": "dyuP8nJIVMpm"
      },
      "execution_count": null,
      "outputs": []
    },
    {
      "cell_type": "markdown",
      "source": [
        "Compared to the crude analysis where the OR = 1.25 (and the RR = 1.09),\n",
        "the stratified results are much higher. This suggests that `Exercise`\n",
        "has a confounding effect on the relationship between blood cholesterol\n",
        "and risk of death. When we stratify by exercise, we get a stronger\n",
        "measure of association between `X` and `Y`.\n",
        "\n",
        "---\n",
        "\n",
        "It would be convenient to have a way to get an estimate of the X-Y\n",
        "association adjusted for confounding, without having to go through the\n",
        "complications of the stratified analysis: this is the **Mantel-Haenszel\n",
        "(M-H)** metric (a.k.a. Cochran-Mantel-Haenszel), obtained by summing over strata:\n",
        "\n",
        "$$\n",
        "\\text{OR_{M-H adjusted}} = \\left( \\frac{ \\sum_{k=1}^K (a_k \\cdot d_k)/ n_k}{\\sum_{k=1}^K (c_k \\cdot b_k) / n_k} \\right)\n",
        "$$\n",
        "\n",
        "where $a,b,c,d$ are the cells of the contingency table: a: high-chol\n",
        "deaths; b: high-chol survs; c: low-chol deaths; d: low-chols survs.\n",
        "$n_k$ is the total number of records in each stratum $k$ (e.g. from [here](https://en.wikipedia.org/wiki/Cochran%E2%80%93Mantel%E2%80%93Haenszel_statistics)).\n",
        "\n"
      ],
      "metadata": {
        "id": "HibKwE9iVYAv"
      }
    },
    {
      "cell_type": "code",
      "source": [
        "multistratum_array = np.array([table4, table5])"
      ],
      "metadata": {
        "id": "M0jc7s2VVSsL"
      },
      "execution_count": null,
      "outputs": []
    },
    {
      "cell_type": "code",
      "source": [
        "multistratum_array.shape ## two rows, two columns, two strata (channels)"
      ],
      "metadata": {
        "id": "PuCLQP4BVuEE"
      },
      "execution_count": null,
      "outputs": []
    },
    {
      "cell_type": "code",
      "source": [
        "multistratum_array"
      ],
      "metadata": {
        "id": "zL3nl57DV2mu"
      },
      "execution_count": null,
      "outputs": []
    },
    {
      "cell_type": "code",
      "source": [
        "or_mh = ( ((150*800)/2600) + ((100*700)/1300) ) / ( ((50*1600)/2600) + ((100*400)/1300) )"
      ],
      "metadata": {
        "id": "UY5GKO2nWHCC"
      },
      "execution_count": null,
      "outputs": []
    },
    {
      "cell_type": "code",
      "source": [
        "print(\"The common M-H adjusted OR is\",or_mh)"
      ],
      "metadata": {
        "id": "EKBCW1P7WJ6P"
      },
      "execution_count": null,
      "outputs": []
    },
    {
      "cell_type": "code",
      "source": [
        "num = ((150 - (1750*200/2600)) + (100 - (500*200)/1300))**2\n",
        "denom = 1750*850*200*2400/((2600**2) * 2599) + 500*800*200*1100/((1300**2) * 1299)"
      ],
      "metadata": {
        "id": "P8n7Uux4SKfH"
      },
      "execution_count": null,
      "outputs": []
    },
    {
      "cell_type": "code",
      "source": [
        "test_stat = num/denom\n",
        "print(\"The test statistic for the M-H test is\", test_stat)"
      ],
      "metadata": {
        "id": "nz1M4JEGTMnn"
      },
      "execution_count": null,
      "outputs": []
    },
    {
      "cell_type": "code",
      "source": [
        "from scipy import stats\n",
        "pval = 1 - stats.chi2.cdf(test_stat, 1)\n",
        "print(\"The p-value for the common OR = 1 is\", pval)"
      ],
      "metadata": {
        "id": "GoiCVQWQT46Y"
      },
      "execution_count": null,
      "outputs": []
    },
    {
      "cell_type": "markdown",
      "source": [
        "The stratifying variable could be the **timepoint**: there are many many many examples from scientific research where experiments are organised in T0, T1, T2 etc.\n",
        "\n",
        "**Question: do you have any examples from your own research? In that case, we'd encourage you to share them, so that we can make a live illustration of stratified contingency tables**\n",
        "\n",
        "\n",
        "<u>Alternative to stratified analysis</u>:\n",
        "\n",
        "Better still, one can use a **logistic regression model**, include the\n",
        "confounding effect(s) and then look at the model coefficients to get the\n",
        "adjusted log-odds and odds ratios (and relative risks) for the\n",
        "exposure/treatment under investigation (e.g. OR of one-unit increase in\n",
        "exposure, or of belonging to one class or the other of the\n",
        "exposure).\n",
        "\n",
        "---\n",
        "\n",
        "### Solutions\n",
        "\n",
        "Confounding control can occur at the design stage through:\n",
        "\n",
        "1.  randomization: e.g. RCT\n",
        "2.  restriction: i.e. use only one value of the potential confounder to\n",
        "    recruit subjects (e.g. only females)\n",
        "3.  matching: i.e. match (balance) exposed / non-exposed by values of\n",
        "    the confounder\n",
        "\n",
        "At the analysis stage, confounding control can be managed by:\n",
        "\n",
        "1.  standardization: e.g. normalize by age, body weight etc. (useful\n",
        "    with continuous confounders)\n",
        "2.  stratification: e.g. stratified analysis (as seen above)\n",
        "3.  multivariable regression (linear, logistic, cox, etc.): include\n",
        "    confounders in the statistical model\n",
        "\n",
        "More advanced approaches include: i) structural causal models; ii)\n",
        "directed acyclic graphs (DAGs); iii) propensity scores; iv) marginal\n",
        "structural models with inverse probability weighting; v) quasi\n",
        "experimental methods such as instrumental variables (e.g. Mendelian\n",
        "Randomization in clinical trials).\n",
        "\n",
        "#### Time\n",
        "\n",
        "In longitudinal data, **time** is often a confounder, i.e. a variable\n",
        "that affects both the outcome and the exposure (time elapses for all).\n",
        "This is often the case with **counterfactuals** (**confounders** vs\n",
        "**counterfactuals**: [look here for a fun intuition on\n",
        "counterfactuals](https://www.youtube.com/watch?v=0lpY0Kt4bn8)).\n",
        "\n",
        "Similar considerations may apply to spatial confounding, e.g. a\n",
        "geographical / environmental gradient. In this case, **space** can be a\n",
        "potential confounder.\n",
        "\n",
        "------------------------------------------------------------------------"
      ],
      "metadata": {
        "id": "V2LaX9-TWZ3s"
      }
    }
  ]
}
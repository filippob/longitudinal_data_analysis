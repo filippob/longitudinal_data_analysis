{
  "nbformat": 4,
  "nbformat_minor": 0,
  "metadata": {
    "colab": {
      "provenance": []
    },
    "kernelspec": {
      "name": "python3",
      "display_name": "Python 3"
    },
    "language_info": {
      "name": "python"
    }
  },
  "cells": [
    {
      "cell_type": "markdown",
      "source": [
        "# Forecasting\n",
        "\n",
        "We want to forecast future observations based on past observations:\n",
        "\n",
        "-   Naive methods\n",
        "-   Exponential Smoothing models\n",
        "-   ARIMA/SARIMA models\n",
        "-   How to set up a one-step-ahead forecast"
      ],
      "metadata": {
        "id": "2sAKiVLJ75IR"
      }
    },
    {
      "cell_type": "code",
      "execution_count": null,
      "metadata": {
        "id": "9L43Dpvb7zSq"
      },
      "outputs": [],
      "source": [
        "import numpy as np\n",
        "import pandas as pd\n",
        "import matplotlib.pyplot as plt\n",
        "import statsmodels.api as sm"
      ]
    },
    {
      "cell_type": "code",
      "source": [
        "import warnings\n",
        "warnings.filterwarnings('ignore')"
      ],
      "metadata": {
        "id": "BrGBwx0vvH3v"
      },
      "execution_count": null,
      "outputs": []
    },
    {
      "cell_type": "markdown",
      "source": [
        "We use a dataset of monthly totals (1000s) of international airline\n",
        "passengers between 1949 and 1960:"
      ],
      "metadata": {
        "id": "P--TU-yj8dBD"
      }
    },
    {
      "cell_type": "code",
      "source": [
        "# Load the AirPassengers dataset\n",
        "data = sm.datasets.get_rdataset(\"AirPassengers\").data\n",
        "\n",
        "# Convert to datetime and set as index\n",
        "data['Month'] = pd.date_range(start='1949-01-01', periods=len(data), freq='MS')\n",
        "data.set_index('Month', inplace=True)\n",
        "\n",
        "# Convert passengers column to time series\n",
        "air_passengers = data['value']\n",
        "\n",
        "# Create training and validation sets\n",
        "training = air_passengers['1949-01-01':'1956-12-01']\n",
        "validation = air_passengers['1957-01-01':]"
      ],
      "metadata": {
        "id": "360CaB0i8Br7"
      },
      "execution_count": null,
      "outputs": []
    },
    {
      "cell_type": "code",
      "source": [
        "plt.plot(air_passengers)"
      ],
      "metadata": {
        "id": "ENUeVCekHFLL"
      },
      "execution_count": null,
      "outputs": []
    },
    {
      "cell_type": "markdown",
      "source": [
        "## 1. Naive Methods\n",
        "\n",
        "Any forecasting method should be evaluated by being compared to a naive\n",
        "method. This helps ensure that the efforts put in having a more complex\n",
        "model are worth it in terms of performance.\n",
        "\n",
        "The simplest of all methods is called simple naive forecasting.\n",
        "Extremely simple: the forecast for tomorrow is what we are observing\n",
        "today.\n",
        "\n",
        "Another approach, seasonal naive, is a little more \"complex\": the\n",
        "forecast for tomorrow is what we observed the week/month/year (depending\n",
        "what horizon we are working with) before.\n",
        "\n",
        "Here is how to do a seasonal naive forecast:"
      ],
      "metadata": {
        "id": "eWs3R6Zb8f2i"
      }
    },
    {
      "cell_type": "code",
      "source": [
        "from sklearn.metrics import mean_absolute_percentage_error\n",
        "\n",
        "# Seasonal naive forecast: repeat last 12 months of training for the forecast horizon\n",
        "season_length = 12\n",
        "h = len(validation)\n",
        "\n",
        "# Get the last season from training data\n",
        "last_season = training[-season_length:]\n",
        "\n",
        "# Repeat last season to match the forecast horizon\n",
        "# The numpy tile function repeats the input array an arbitrary number of times.\n",
        "# The resulting array has the same dimensions as the input array.\n",
        "naive_forecast = np.tile(last_season.values, h // season_length + 1)[:h]\n",
        "\n",
        "# Compute MAPE\n",
        "mape = mean_absolute_percentage_error(validation, naive_forecast) * 100\n",
        "print(f'MAPE: {mape:.2f}%')"
      ],
      "metadata": {
        "id": "7m4XzC7g8aAU"
      },
      "execution_count": null,
      "outputs": []
    },
    {
      "cell_type": "markdown",
      "source": [
        "This gives us a **MAPE of 19.5%**."
      ],
      "metadata": {
        "id": "Mhl2HvY99TPU"
      }
    },
    {
      "cell_type": "code",
      "source": [
        "# Plot the full original series\n",
        "plt.figure(figsize=(10, 6))\n",
        "plt.plot(air_passengers, color='blue', label='Actual', linewidth=1)\n",
        "\n",
        "# Create a datetime index for the forecast\n",
        "forecast_index = validation.index\n",
        "plt.plot(forecast_index, naive_forecast, color='red', label='Seasonal Naive Forecast', linewidth=2)\n",
        "\n",
        "# Add labels and title\n",
        "plt.xlabel('Year')\n",
        "plt.ylabel('Passengers')\n",
        "plt.title('Seasonal Naive Forecast')\n",
        "plt.legend()\n",
        "plt.grid(True)\n",
        "plt.show()"
      ],
      "metadata": {
        "id": "P8dV29KB9Tji"
      },
      "execution_count": null,
      "outputs": []
    },
    {
      "cell_type": "markdown",
      "source": [
        "What happened in the last year of data is repeated as a forecast for the\n",
        "entire validation set."
      ],
      "metadata": {
        "id": "XZs9FUVv9pyD"
      }
    },
    {
      "cell_type": "markdown",
      "source": [
        "## 2. Exponential Smoothing\n",
        "\n",
        "In exponential smoothing we give a declining weight to observations: the\n",
        "more recent an observation, the more importance it will have in our\n",
        "forecast.\n",
        "\n",
        "Parameters can also be added. You can for instance add a trend parameter\n",
        "(**Holt method**) or add a seasonality (**Holt-Winters**).\n",
        "\n",
        "### Holt / Holt-Winters method\n",
        "\n",
        "The model can be additive or multiplicative:\n",
        "\n",
        "$$\n",
        "y_t = f(S_t, T_t, E_t)\n",
        "$$\n",
        "\n",
        "  - S: seasonal component\n",
        "  - T: trend component\n",
        "  - E: error (remainder)\n",
        "\n",
        "  -   **Additive model**: $S_t + T_t + E_t$\n",
        "  -   **Multiplicative model**: $S_t \\cdot T_t \\cdot E_t$\n",
        "  -   model: error type \\| trend type \\| season type: add = additive; mul =\n",
        "    multiplicative;"
      ],
      "metadata": {
        "id": "h3ylLRdB97S6"
      }
    },
    {
      "cell_type": "code",
      "source": [
        "from statsmodels.tsa.holtwinters import ExponentialSmoothing\n",
        "\n",
        "# Fit ETS model with additive error, trend, and seasonality\n",
        "ets_model = ExponentialSmoothing(\n",
        "    training,\n",
        "    trend='add',\n",
        "    seasonal='add',\n",
        "    seasonal_periods=12\n",
        ").fit(optimized=True)\n",
        "\n",
        "#ets_model = ETSModel(training, error='add', trend='add', seasonal='add', damped_trend=True)\n",
        "#ets_model = ets_model.fit()\n",
        "\n",
        "# Forecast\n",
        "ets_forecast = ets_model.forecast(len(validation))\n",
        "\n",
        "# Compute MAPE\n",
        "ets_mape = mean_absolute_percentage_error(validation, ets_forecast) * 100\n",
        "print(f'MAPE (ETS): {ets_mape:.2f}%')"
      ],
      "metadata": {
        "id": "NmDN8fXB9rNu"
      },
      "execution_count": null,
      "outputs": []
    },
    {
      "cell_type": "code",
      "source": [
        "# Plot the full original series\n",
        "plt.figure(figsize=(10, 6))\n",
        "plt.plot(air_passengers, color='blue', label='Actual', linewidth=1)\n",
        "\n",
        "# Create a datetime index for the forecast\n",
        "forecast_index = validation.index\n",
        "plt.plot(forecast_index, ets_forecast, color='red', label='Seasonal Naive Forecast', linewidth=2)\n",
        "\n",
        "# Add labels and title\n",
        "plt.xlabel('Year')\n",
        "plt.ylabel('Passengers')\n",
        "plt.title('Exponential smoothing - additive model')\n",
        "plt.legend()\n",
        "plt.grid(True)\n",
        "plt.show()"
      ],
      "metadata": {
        "id": "BVUjdc5V-dfh"
      },
      "execution_count": null,
      "outputs": []
    },
    {
      "cell_type": "code",
      "source": [
        "from statsmodels.tsa.exponential_smoothing.ets import ETSModel\n",
        "\n",
        "# Fit the ETS model\n",
        "ets_model = ETSModel(training, error='mul', trend='mul', seasonal='mul', damped_trend=True)\n",
        "ets_fitted = ets_model.fit()\n",
        "\n",
        "#ets_model = ets_model = ExponentialSmoothing(\n",
        "#    training,\n",
        "#    trend='mul',\n",
        "#    seasonal='mul',\n",
        "#    seasonal_periods=12\n",
        "#)\n",
        "#ets_fitted = ets_model.fit(optimized=True)\n",
        "\n",
        "# Forecast for the validation period\n",
        "forecast_horizon = len(validation)\n",
        "ets_forecast_mul = ets_fitted.forecast(steps=forecast_horizon)\n",
        "\n",
        "# Calculate MAPE\n",
        "mape = mean_absolute_percentage_error(validation, ets_forecast_mul) * 100\n",
        "print(f'MAPE: {mape:.2f}%')"
      ],
      "metadata": {
        "id": "GoS-LrwRpiYJ"
      },
      "execution_count": null,
      "outputs": []
    },
    {
      "cell_type": "code",
      "source": [
        "# Plot the full original series\n",
        "plt.figure(figsize=(10, 6))\n",
        "plt.plot(air_passengers, color='blue', label='Actual', linewidth=1)\n",
        "\n",
        "# Create a datetime index for the forecast\n",
        "forecast_index = validation.index\n",
        "plt.plot(forecast_index, ets_forecast_mul, color='red', label='Seasonal Naive Forecast', linewidth=2)\n",
        "\n",
        "# Add labels and title\n",
        "plt.xlabel('Year')\n",
        "plt.ylabel('Passengers')\n",
        "plt.title('Exponential smoothing - multiplicative model')\n",
        "plt.legend()\n",
        "plt.grid(True)\n",
        "plt.show()"
      ],
      "metadata": {
        "id": "MbJiofCAsRCf"
      },
      "execution_count": null,
      "outputs": []
    },
    {
      "cell_type": "markdown",
      "source": [
        "## 3. ARIMA/SARIMA models\n",
        "\n",
        "Autoregressive Integrated Moving Average model.\n",
        "\n",
        "ARIMA models contain three things:\n",
        "\n",
        "-   AR(p): autoregressive part of the model. Means that we use $p$ past\n",
        "    observations from the time series as predictors\n",
        "-   Differencing (**d**): Used to transform the time-series into a\n",
        "    stationary data sequence by taking the differences between\n",
        "    successive observations at appropriate lags $d$\n",
        "-   MA(q): Moving Average - uses $q$ past forecast errors as predictors\n",
        "\n",
        "If you need to add a seasonal component to the model you can use SARIMA\n",
        "(Seasonal ARIMA).\n"
      ],
      "metadata": {
        "id": "W44vbyS3uWKv"
      }
    },
    {
      "cell_type": "code",
      "source": [
        "from statsmodels.tsa.statespace.sarimax import SARIMAX\n",
        "from sklearn.metrics import mean_absolute_percentage_error\n",
        "\n",
        "# Fit SARIMA model (p=2,d=1,q=1) with seasonal (P=1,D=1,Q=1,S=12)\n",
        "sarima_model = SARIMAX(training,\n",
        "                       order=(2, 1, 1), #tuple of the form (p = Autoregressive order, d = Integration order, q = Moving average order (lag))\n",
        "                                        ## AR(0) = White Noise; AR(1): Random Walks and Oscillations; AR(p>1): higher order\n",
        "                       seasonal_order=(1, 1, 1, 12), # Seasonal parameters (P, D, Q, S)\n",
        "                       enforce_stationarity=False,\n",
        "                       enforce_invertibility=False)\n",
        "sarima_result = sarima_model.fit(disp=False)\n",
        "\n",
        "# Forecast\n",
        "forecast_horizon = len(validation)\n",
        "sarima_forecast = sarima_result.forecast(steps=forecast_horizon)\n",
        "\n",
        "# Compute MAPE\n",
        "mape = mean_absolute_percentage_error(validation, sarima_forecast) * 100\n",
        "print(f'MAPE: {mape:.2f}%')"
      ],
      "metadata": {
        "id": "tjyLYDGhtiAp"
      },
      "execution_count": null,
      "outputs": []
    },
    {
      "cell_type": "code",
      "source": [
        "# Plot the full original series\n",
        "plt.figure(figsize=(10, 6))\n",
        "plt.plot(air_passengers, color='blue', label='Actual', linewidth=1)\n",
        "\n",
        "# Create a datetime index for the forecast\n",
        "forecast_index = validation.index\n",
        "plt.plot(forecast_index, sarima_forecast, color='red', label='Seasonal Naive Forecast', linewidth=2)\n",
        "\n",
        "# Add labels and title\n",
        "plt.xlabel('Year')\n",
        "plt.ylabel('Passengers')\n",
        "plt.title('Exponential smoothing - SARIMA model')\n",
        "plt.legend()\n",
        "plt.grid(True)\n",
        "plt.show()"
      ],
      "metadata": {
        "id": "KUFmQIXHucMy"
      },
      "execution_count": null,
      "outputs": []
    },
    {
      "cell_type": "markdown",
      "source": [
        "## 5. Setting up a one-step-ahead forecast\n",
        "\n",
        "In all the previous examples, we forecasted 4 years into the future (48 months).\n",
        "However, if you want to forecast on a daily basis, why would you use a\n",
        "forecasted value from 4 years ago when you could use the real\n",
        "observations to predict tomorrow?\n",
        "\n",
        "The idea of setting up a one-step-ahead forecast is to evaluate how well\n",
        "a model would have done if you were forecasting for one month ahead,\n",
        "during 4 years, using latest observations to make your forecast.\n",
        "\n",
        "Simply put: instead of forecasting once for the 48 months ahead, we\n",
        "forecast 48 times for the upcoming month, using latest observations.\n",
        "\n",
        "Coding this is quite simple. All we need is to iteratively add the\n",
        "latest observation to the training dataset, forecast from there and\n",
        "repeat."
      ],
      "metadata": {
        "id": "9wNDCkm3uqur"
      }
    },
    {
      "cell_type": "code",
      "source": [
        "# Assume `air_passengers` is the full series (Pandas Series)\n",
        "# training: initial training set up to some date\n",
        "# validation: the next 48 months to validate against\n",
        "nmonths = 48\n",
        "one_step_ahead_sarima = np.zeros((nmonths, 2))\n",
        "\n",
        "for i in range(nmonths):\n",
        "    # Extend training window by 1 each loop\n",
        "    end_idx = len(training) + i\n",
        "    training_observed = air_passengers.iloc[:end_idx]\n",
        "\n",
        "    # Fit SARIMA model\n",
        "    model = SARIMAX(training_observed,\n",
        "                    order=(0, 1, 1),\n",
        "                    seasonal_order=(1, 1, 0, 12),\n",
        "                    enforce_stationarity=False,\n",
        "                    enforce_invertibility=False)\n",
        "    results = model.fit(disp=False)\n",
        "\n",
        "    # One-step-ahead forecast\n",
        "    forecast = results.forecast(steps=1)[0]\n",
        "\n",
        "    # Store actual and predicted values\n",
        "    observed = validation.iloc[i]\n",
        "    one_step_ahead_sarima[i, 0] = observed\n",
        "    one_step_ahead_sarima[i, 1] = forecast\n",
        "\n",
        "# Compute MAPE\n",
        "mape = mean_absolute_percentage_error(one_step_ahead_sarima[:, 0], one_step_ahead_sarima[:, 1]) * 100\n",
        "print(f'MAPE: {mape:.2f}%')"
      ],
      "metadata": {
        "id": "vLMjhJ56uj05"
      },
      "execution_count": null,
      "outputs": []
    },
    {
      "cell_type": "code",
      "source": [
        "# Plot the full original series\n",
        "plt.figure(figsize=(10, 6))\n",
        "plt.plot(air_passengers, color='blue', label='Actual', linewidth=1)\n",
        "\n",
        "# Create a datetime index for the forecast\n",
        "forecast_index = validation.index\n",
        "plt.plot(forecast_index, one_step_ahead_sarima[:,1], color='red', label='Seasonal Naive Forecast', linewidth=2)\n",
        "\n",
        "# Add labels and title\n",
        "plt.xlabel('Year')\n",
        "plt.ylabel('Passengers')\n",
        "plt.title('One-step ahead SARIMA forecast')\n",
        "plt.legend()\n",
        "plt.grid(True)\n",
        "plt.show()"
      ],
      "metadata": {
        "id": "4U2GQ0wmvbIU"
      },
      "execution_count": null,
      "outputs": []
    },
    {
      "cell_type": "markdown",
      "source": [
        "## Stillbirth data\n",
        "\n",
        "European Stillbirth Rate Time Series Dataset (data repo at:\n",
        "<https://zenodo.org/record/6505519>)"
      ],
      "metadata": {
        "id": "Lb4vJAW6vxAo"
      }
    },
    {
      "cell_type": "code",
      "source": [
        "url = \"https://raw.githubusercontent.com/filippob/longitudinal_data_analysis/refs/heads/main/data/stillbirth/sbr_all.xlsx\"\n",
        "stillbirth = pd.read_excel(url, sheet_name=1)\n",
        "\n",
        "stillbirth"
      ],
      "metadata": {
        "id": "-HJfZ84Ivk17"
      },
      "execution_count": null,
      "outputs": []
    },
    {
      "cell_type": "code",
      "source": [
        "stillbirth.shape"
      ],
      "metadata": {
        "id": "7EdkAylEwuso"
      },
      "execution_count": null,
      "outputs": []
    },
    {
      "cell_type": "code",
      "source": [
        "temp = stillbirth[['year', 'sbr_swe']]\n",
        "temp = temp.dropna()\n",
        "temp.shape"
      ],
      "metadata": {
        "id": "7WHRi4jNwGYV"
      },
      "execution_count": null,
      "outputs": []
    },
    {
      "cell_type": "code",
      "source": [
        "# Generate a datetime index from 1775 to 2021 with yearly frequency\n",
        "years = pd.date_range(start='1775', end='2022', freq='Y')\n",
        "\n",
        "# Create time series from the 'sbr_swe' column\n",
        "temp_series = pd.Series(temp['sbr_swe'].values[:len(years)], index=years)"
      ],
      "metadata": {
        "id": "md0JJ0V5wr8R"
      },
      "execution_count": null,
      "outputs": []
    },
    {
      "cell_type": "code",
      "source": [
        "plt.plot(temp_series, color='blue', label='Actual', linewidth=1)\n",
        "forecast_index = validation.index"
      ],
      "metadata": {
        "id": "hbiO-ZfE2tm_"
      },
      "execution_count": null,
      "outputs": []
    },
    {
      "cell_type": "code",
      "source": [
        "# #Create training and validation sets: time-wise\n",
        "training = temp_series['1775':'1999']\n",
        "validation = temp_series['2000':]"
      ],
      "metadata": {
        "id": "FRfnucnyxBQl"
      },
      "execution_count": null,
      "outputs": []
    },
    {
      "cell_type": "code",
      "source": [
        "validation.head()"
      ],
      "metadata": {
        "id": "Z6GBH_fLxIF3"
      },
      "execution_count": null,
      "outputs": []
    },
    {
      "cell_type": "code",
      "source": [
        "# Fit SARIMA model\n",
        "model = SARIMAX(training,\n",
        "                    order=(0, 1, 1),\n",
        "                    seasonal_order=(1, 1, 0, 12),\n",
        "                    enforce_stationarity=False,\n",
        "                    enforce_invertibility=False)\n",
        "results = model.fit(disp=False)\n",
        "\n",
        "# Forecast\n",
        "forecast_horizon = len(validation)\n",
        "sarima_forecast = results.forecast(steps=forecast_horizon)"
      ],
      "metadata": {
        "id": "rg6D0gODxbNI"
      },
      "execution_count": null,
      "outputs": []
    },
    {
      "cell_type": "code",
      "source": [
        "# Compute MAPE\n",
        "mape = mean_absolute_percentage_error(validation, sarima_forecast) * 100\n",
        "print(f'MAPE: {mape:.2f}%')"
      ],
      "metadata": {
        "id": "5ueORBAWxt7q"
      },
      "execution_count": null,
      "outputs": []
    },
    {
      "cell_type": "code",
      "source": [
        "# Plot the full original series\n",
        "plt.figure(figsize=(10, 6))\n",
        "plt.plot(temp_series, color='blue', label='Actual', linewidth=1)\n",
        "\n",
        "# Create a datetime index for the forecast\n",
        "forecast_index = validation.index\n",
        "plt.plot(forecast_index, sarima_forecast, color='red', label='Seasonal Naive Forecast', linewidth=2)\n",
        "\n",
        "# Add labels and title\n",
        "plt.xlabel('Year')\n",
        "plt.ylabel('Passengers')\n",
        "plt.title('One-step ahead SARIMA forecast')\n",
        "plt.legend()\n",
        "plt.grid(True)\n",
        "plt.show()"
      ],
      "metadata": {
        "id": "comdoE1I7PZf"
      },
      "execution_count": null,
      "outputs": []
    },
    {
      "cell_type": "code",
      "source": [
        "nyears = 22\n",
        "one_step_ahead_sarima = np.zeros((nyears, 2))\n",
        "\n",
        "# Loop through each year in validation\n",
        "for i in range(nyears):\n",
        "    # Extend the training set by one year in each loop\n",
        "    end_year = 1999 + i + 1\n",
        "    training_observed = temp_series[:str(end_year)]\n",
        "\n",
        "    # Fit SARIMA model: (1,1,1) x (1,1,0,10)\n",
        "    model = SARIMAX(training_observed,\n",
        "                    order=(1, 1, 1),\n",
        "                    seasonal_order=(1, 1, 0, 10),\n",
        "                    enforce_stationarity=False,\n",
        "                    enforce_invertibility=False)\n",
        "    results = model.fit(disp=False)\n",
        "\n",
        "    # One-step-ahead forecast\n",
        "    forecast = results.forecast(steps=1)[0]\n",
        "\n",
        "    # Actual value from validation\n",
        "    observed = validation.iloc[i]\n",
        "\n",
        "    # Store observed and predicted\n",
        "    one_step_ahead_sarima[i, 0] = observed\n",
        "    one_step_ahead_sarima[i, 1] = forecast\n",
        "\n",
        "# Compute MAPE\n",
        "mape = mean_absolute_percentage_error(one_step_ahead_sarima[:, 0], one_step_ahead_sarima[:, 1]) * 100\n",
        "print(f'MAPE: {mape:.2f}%')"
      ],
      "metadata": {
        "id": "LhfnhL0R0HPc"
      },
      "execution_count": null,
      "outputs": []
    },
    {
      "cell_type": "code",
      "source": [
        "# Plot the full original series\n",
        "plt.figure(figsize=(10, 6))\n",
        "plt.plot(temp_series, color='blue', label='Actual', linewidth=1)\n",
        "\n",
        "# Create a datetime index for the forecast\n",
        "forecast_index = validation.index\n",
        "plt.plot(forecast_index, one_step_ahead_sarima[:,1], color='red', label='Seasonal Naive Forecast', linewidth=2)\n",
        "\n",
        "# Add labels and title\n",
        "plt.xlabel('Year')\n",
        "plt.ylabel('Passengers')\n",
        "plt.title('One-step ahead SARIMA forecast')\n",
        "plt.legend()\n",
        "plt.grid(True)\n",
        "plt.show()"
      ],
      "metadata": {
        "id": "MeUx7oVj0zNt"
      },
      "execution_count": null,
      "outputs": []
    },
    {
      "cell_type": "markdown",
      "source": [
        "## Normalising time series data?\n",
        "\n",
        "In some circumstances, time series data may need to be normalised: e.g.\n",
        "future data outside the range of training data, especially when the\n",
        "forecasting method does not account for seasonality, trend etc.\n",
        "\n",
        "We can use percent change aong the squence:"
      ],
      "metadata": {
        "id": "0DOqrgoA7eXj"
      }
    },
    {
      "cell_type": "code",
      "source": [
        "# Calculate percent change\n",
        "x = temp['sbr_swe'].diff().iloc[1:]               # First difference (skip NaN)\n",
        "z = temp['sbr_swe'].shift(1).iloc[1:]             # Previous values\n",
        "percent_change = (x / z) * 100"
      ],
      "metadata": {
        "id": "7uIqrjxo9cgl"
      },
      "execution_count": null,
      "outputs": []
    },
    {
      "cell_type": "code",
      "source": [
        "# Add leading 0 to match length\n",
        "sbr_swe_norm = pd.concat([pd.Series([0]), percent_change])\n",
        "sbr_swe_norm = pd.Series([x for x in sbr_swe_norm], index=years)"
      ],
      "metadata": {
        "id": "jpNEZuQl9eNt"
      },
      "execution_count": null,
      "outputs": []
    },
    {
      "cell_type": "code",
      "source": [
        "sbr_swe_norm.head()"
      ],
      "metadata": {
        "id": "-MOm8Zhd3Tfk"
      },
      "execution_count": null,
      "outputs": []
    },
    {
      "cell_type": "code",
      "source": [
        "plt.plot(sbr_swe_norm)\n",
        "plt.title(\"Normalised stillbirth rate data\")"
      ],
      "metadata": {
        "id": "SXkRdfSo8ukS"
      },
      "execution_count": null,
      "outputs": []
    },
    {
      "cell_type": "markdown",
      "source": [
        "#### Splitting data"
      ],
      "metadata": {
        "id": "r9GUA5L7AnKB"
      }
    },
    {
      "cell_type": "code",
      "source": [
        "#Create training and validation sets: time-wise\n",
        "training = sbr_swe_norm['1775':'1999']\n",
        "validation = sbr_swe_norm['2000':]"
      ],
      "metadata": {
        "id": "Pu2KYQnwAYS_"
      },
      "execution_count": null,
      "outputs": []
    },
    {
      "cell_type": "markdown",
      "source": [
        "### Fitting the forecasting model on the training data"
      ],
      "metadata": {
        "id": "XnsUp5vpBEuD"
      }
    },
    {
      "cell_type": "code",
      "source": [
        "# Fit SARIMA model\n",
        "model = SARIMAX(training,\n",
        "                    order=(0, 1, 1),\n",
        "                    seasonal_order=(1, 1, 0, 12),\n",
        "                    enforce_stationarity=False,\n",
        "                    enforce_invertibility=False)\n",
        "results = model.fit(disp=False)\n",
        "\n",
        "# Forecast\n",
        "forecast_horizon = len(validation)\n",
        "sarima_forecast_norm = results.forecast(steps=forecast_horizon)"
      ],
      "metadata": {
        "id": "MHj3rewtBBpF"
      },
      "execution_count": null,
      "outputs": []
    },
    {
      "cell_type": "markdown",
      "source": [
        "### Backtransform\n",
        "\n",
        "We now have test values expressed as sequential percent differences. To\n",
        "evaluate our model, we need to backtransform the data to the original\n",
        "stillbirth rate:\n",
        "\n",
        "-   dived by 100 (to remove percent)\n",
        "-   multiply by the original validation data shifted backwards by 1\n",
        "    (sequential differences): we obtain the vector of sequential\n",
        "    differences\n",
        "-   now sum the original validation data (shifted backwards by 1) and\n",
        "    you'll have the original validation data"
      ],
      "metadata": {
        "id": "93oqc_x7BJ-c"
      }
    },
    {
      "cell_type": "code",
      "source": [
        "## validation is from year 200\n",
        "valid_orig = temp_series['1999':]\n",
        "d = np.array((validation/100)) * np.array(valid_orig[0:(len(valid_orig)-1)]) ## vector of sequential differences\n",
        "d + valid_orig[0:(len(valid_orig)-1)]"
      ],
      "metadata": {
        "id": "uyOk348ZBHhb"
      },
      "execution_count": null,
      "outputs": []
    },
    {
      "cell_type": "markdown",
      "source": [
        "This was easy (actually, we already had the original validation data,\n",
        "this was mainly a sanity check test). We need to do the same thing for\n",
        "the model predictions, to bring them on the same scale as the original\n",
        "stillbirth rate."
      ],
      "metadata": {
        "id": "WwKeD9fUBtt-"
      }
    },
    {
      "cell_type": "code",
      "source": [
        "valid_orig.head()"
      ],
      "metadata": {
        "id": "fj3JfzscBkj9"
      },
      "execution_count": null,
      "outputs": []
    },
    {
      "cell_type": "code",
      "source": [
        "d = np.array(sarima_forecast/100) * np.array(valid_orig[0:(len(valid_orig)-1)])\n",
        "backtransformed_pred = d + np.array(valid_orig[0:(len(valid_orig)-1)])"
      ],
      "metadata": {
        "id": "CzgGFIZVEV87"
      },
      "execution_count": null,
      "outputs": []
    },
    {
      "cell_type": "code",
      "source": [
        "backtransformed_pred"
      ],
      "metadata": {
        "id": "S0c26ROtBvKb"
      },
      "execution_count": null,
      "outputs": []
    },
    {
      "cell_type": "code",
      "source": [
        "# Compute MAPE\n",
        "mape = mean_absolute_percentage_error(backtransformed_pred, valid_orig[1:]) * 100\n",
        "print(f'MAPE: {mape:.2f}%')"
      ],
      "metadata": {
        "id": "ArpKPu-sEyBe"
      },
      "execution_count": null,
      "outputs": []
    },
    {
      "cell_type": "code",
      "source": [
        "# Plot the full original series\n",
        "plt.figure(figsize=(10, 6))\n",
        "plt.plot(temp_series, color='blue', label='Actual', linewidth=1)\n",
        "\n",
        "# Create a datetime index for the forecast\n",
        "forecast_index = validation.index\n",
        "plt.plot(forecast_index, backtransformed_pred, color='red', label='Seasonal Naive Forecast', linewidth=2)\n",
        "\n",
        "# Add labels and title\n",
        "plt.xlabel('Year')\n",
        "plt.ylabel('Passengers')\n",
        "plt.title('One-step ahead SARIMA forecast')\n",
        "plt.legend()\n",
        "plt.grid(True)\n",
        "plt.show()"
      ],
      "metadata": {
        "id": "lXC0ZIBjFTkN"
      },
      "execution_count": null,
      "outputs": []
    },
    {
      "cell_type": "markdown",
      "source": [
        "**Q: would normalization improve predictions with the naive method? Try\n",
        "it!**"
      ],
      "metadata": {
        "id": "0DLjlIK8FNIH"
      }
    }
  ]
}
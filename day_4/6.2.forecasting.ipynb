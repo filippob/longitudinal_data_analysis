{
  "nbformat": 4,
  "nbformat_minor": 0,
  "metadata": {
    "colab": {
      "provenance": []
    },
    "kernelspec": {
      "name": "python3",
      "display_name": "Python 3"
    },
    "language_info": {
      "name": "python"
    }
  },
  "cells": [
    {
      "cell_type": "markdown",
      "source": [
        "# Forecasting\n",
        "\n",
        "We want to forecast future observations based on past observations:\n",
        "\n",
        "-   Naive methods\n",
        "-   Exponential Smoothing models\n",
        "-   BATS and TBATS\n",
        "-   ARIMA/SARIMA models\n",
        "-   How to set up a one-step-ahead forecast"
      ],
      "metadata": {
        "id": "2sAKiVLJ75IR"
      }
    },
    {
      "cell_type": "code",
      "execution_count": null,
      "metadata": {
        "id": "9L43Dpvb7zSq"
      },
      "outputs": [],
      "source": [
        "import numpy as np\n",
        "import pandas as pd\n",
        "import matplotlib.pyplot as plt\n",
        "import statsmodels.api as sm"
      ]
    },
    {
      "cell_type": "markdown",
      "source": [
        "We use a dataset of monthly totals (1000s) of international airline\n",
        "passengers between 1949 and 1960:"
      ],
      "metadata": {
        "id": "P--TU-yj8dBD"
      }
    },
    {
      "cell_type": "code",
      "source": [
        "# Load the AirPassengers dataset\n",
        "data = sm.datasets.get_rdataset(\"AirPassengers\").data\n",
        "\n",
        "# Convert to datetime and set as index\n",
        "data['Month'] = pd.date_range(start='1949-01-01', periods=len(data), freq='MS')\n",
        "data.set_index('Month', inplace=True)\n",
        "\n",
        "# Convert passengers column to time series\n",
        "air_passengers = data['value']\n",
        "\n",
        "# Create training and validation sets\n",
        "training = air_passengers['1949-01-01':'1956-12-01']\n",
        "validation = air_passengers['1957-01-01':]"
      ],
      "metadata": {
        "id": "360CaB0i8Br7"
      },
      "execution_count": null,
      "outputs": []
    },
    {
      "cell_type": "markdown",
      "source": [
        "## 1. Naive Methods\n",
        "\n",
        "Any forecasting method should be evaluated by being compared to a naive\n",
        "method. This helps ensure that the efforts put in having a more complex\n",
        "model are worth it in terms of performance.\n",
        "\n",
        "The simplest of all methods is called simple naive forecasting.\n",
        "Extremely simple: the forecast for tomorrow is what we are observing\n",
        "today.\n",
        "\n",
        "Another approach, seasonal naive, is a little more \"complex\": the\n",
        "forecast for tomorrow is what we observed the week/month/year (depending\n",
        "what horizon we are working with) before.\n",
        "\n",
        "Here is how to do a seasonal naive forecast:"
      ],
      "metadata": {
        "id": "eWs3R6Zb8f2i"
      }
    },
    {
      "cell_type": "code",
      "source": [
        "from sklearn.metrics import mean_absolute_percentage_error\n",
        "\n",
        "# Seasonal naive forecast: repeat last 12 months of training for the forecast horizon\n",
        "season_length = 12\n",
        "h = len(validation)\n",
        "\n",
        "# Get the last season from training data\n",
        "last_season = training[-season_length:]\n",
        "\n",
        "# Repeat last season to match the forecast horizon\n",
        "naive_forecast = np.tile(last_season.values, h // season_length + 1)[:h]\n",
        "\n",
        "# Compute MAPE\n",
        "mape = mean_absolute_percentage_error(validation, naive_forecast) * 100\n",
        "print(f'MAPE: {mape:.2f}%')"
      ],
      "metadata": {
        "id": "7m4XzC7g8aAU"
      },
      "execution_count": null,
      "outputs": []
    },
    {
      "cell_type": "markdown",
      "source": [
        "This gives us a **MAPE of 19.5%**."
      ],
      "metadata": {
        "id": "Mhl2HvY99TPU"
      }
    },
    {
      "cell_type": "code",
      "source": [
        "# Plot the full original series\n",
        "plt.figure(figsize=(10, 6))\n",
        "plt.plot(air_passengers, color='blue', label='Actual', linewidth=1)\n",
        "\n",
        "# Create a datetime index for the forecast\n",
        "forecast_index = validation.index\n",
        "plt.plot(forecast_index, naive_forecast, color='red', label='Seasonal Naive Forecast', linewidth=2)\n",
        "\n",
        "# Add labels and title\n",
        "plt.xlabel('Year')\n",
        "plt.ylabel('Passengers')\n",
        "plt.title('Seasonal Naive Forecast')\n",
        "plt.legend()\n",
        "plt.grid(True)\n",
        "plt.show()"
      ],
      "metadata": {
        "id": "P8dV29KB9Tji"
      },
      "execution_count": null,
      "outputs": []
    },
    {
      "cell_type": "markdown",
      "source": [
        "what happened in the last year of data is repeated as a forecast for the\n",
        "entire validation set."
      ],
      "metadata": {
        "id": "XZs9FUVv9pyD"
      }
    },
    {
      "cell_type": "markdown",
      "source": [
        "## 2. Exponential Smoothing\n",
        "\n",
        "In exponential smoothing we give a declining weight to observations: the\n",
        "more recent an observation, the more importance it will have in our\n",
        "forecast.\n",
        "\n",
        "Parameters can also be added. You can for instance add a trend parameter\n",
        "(**Holt method**) or add a seasonality (**Holt-Winters**).\n",
        "\n",
        "### Holt method\n",
        "\n",
        "Function `forecast::ets()`. The model (additive or multiplicative) is\n",
        "chosen automatically if not specified:\n",
        "\n",
        "$$\n",
        "y_t = f(S_t, T_t, E_t)\n",
        "$$\n",
        "\n",
        "  - S: seasonal component - T: trend component - E: error (remainder)\n",
        "  -   **Additive model**: $S_t + T_t + E_t$\n",
        "  -   **Multiplicative model**: $S_t \\cdot T_t \\cdot E_t$\n",
        "  -   model: error type \\| trend type \\| season type: A = additive; M =\n",
        "    multiplicative; Z = automatically selected (default)"
      ],
      "metadata": {
        "id": "h3ylLRdB97S6"
      }
    },
    {
      "cell_type": "code",
      "source": [
        "from statsmodels.tsa.holtwinters import ExponentialSmoothing\n",
        "\n",
        "# Fit ETS model with additive error, trend, and seasonality\n",
        "ets_model = ExponentialSmoothing(\n",
        "    training,\n",
        "    trend='add',\n",
        "    seasonal='add',\n",
        "    seasonal_periods=12\n",
        ").fit(optimized=True)\n",
        "\n",
        "# Forecast\n",
        "ets_forecast = ets_model.forecast(len(validation))\n",
        "\n",
        "# Compute MAPE\n",
        "ets_mape = mean_absolute_percentage_error(validation, ets_forecast) * 100\n",
        "print(f'MAPE (ETS): {ets_mape:.2f}%')"
      ],
      "metadata": {
        "id": "NmDN8fXB9rNu"
      },
      "execution_count": null,
      "outputs": []
    },
    {
      "cell_type": "code",
      "source": [
        "# Plot the full original series\n",
        "plt.figure(figsize=(10, 6))\n",
        "plt.plot(air_passengers, color='blue', label='Actual', linewidth=1)\n",
        "\n",
        "# Create a datetime index for the forecast\n",
        "forecast_index = validation.index\n",
        "plt.plot(forecast_index, ets_forecast, color='red', label='Seasonal Naive Forecast', linewidth=2)\n",
        "\n",
        "# Add labels and title\n",
        "plt.xlabel('Year')\n",
        "plt.ylabel('Passengers')\n",
        "plt.title('Exponential smoothing - additive model')\n",
        "plt.legend()\n",
        "plt.grid(True)\n",
        "plt.show()"
      ],
      "metadata": {
        "id": "BVUjdc5V-dfh"
      },
      "execution_count": null,
      "outputs": []
    }
  ]
}
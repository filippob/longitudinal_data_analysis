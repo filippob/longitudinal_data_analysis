{
  "nbformat": 4,
  "nbformat_minor": 0,
  "metadata": {
    "colab": {
      "provenance": []
    },
    "kernelspec": {
      "name": "python3",
      "display_name": "Python 3"
    },
    "language_info": {
      "name": "python"
    }
  },
  "cells": [
    {
      "cell_type": "markdown",
      "source": [
        "# Time series and autocorrelations"
      ],
      "metadata": {
        "id": "bG8viuDPmXcq"
      }
    },
    {
      "cell_type": "code",
      "execution_count": null,
      "metadata": {
        "id": "gLgRwkcumWC4"
      },
      "outputs": [],
      "source": [
        "import pandas as pd\n",
        "import numpy as np\n",
        "import matplotlib.pyplot as plt\n",
        "import seaborn as sns\n",
        "import statsmodels.api as sm\n",
        "from statsmodels.graphics.tsaplots import month_plot, seasonal_plot, quarter_plot\n",
        "from statsmodels.tsa.seasonal import seasonal_decompose\n",
        "from statsmodels.tsa.stattools import acf"
      ]
    },
    {
      "cell_type": "code",
      "source": [
        "import warnings\n",
        "warnings.filterwarnings('ignore')"
      ],
      "metadata": {
        "id": "pO-JXup0kRIE"
      },
      "execution_count": null,
      "outputs": []
    },
    {
      "cell_type": "markdown",
      "source": [
        "## Time series\n",
        "\n",
        "A time series is a list of numbers ordered by time.\n",
        "Time series-like objects can be also other types of ordered data: e.g. spatial series (geographical proximity), genome sequences (e.g. adjacent loci/nucelotides).\n",
        "More generally, these data are known as **sequence data** (text, sounds are other types of sequence data).\n",
        "\n",
        "Data on Mauna Loa monthly atmospheric $\\text{CO}_2$ concentration"
      ],
      "metadata": {
        "id": "4RRMNw5p9MXO"
      }
    },
    {
      "cell_type": "code",
      "source": [
        "# Load the CO2 dataset (assume it's the Mauna Loa CO2 time series)\n",
        "from statsmodels.datasets import co2\n",
        "data = co2.load_pandas().data.dropna().reset_index()\n",
        "data = data.rename(columns={\"index\": \"date\"})\n",
        "data"
      ],
      "metadata": {
        "id": "4NdBBGKx84d0"
      },
      "execution_count": null,
      "outputs": []
    },
    {
      "cell_type": "code",
      "source": [
        "data['co2'].describe()"
      ],
      "metadata": {
        "id": "qp4UtYKh9nT6"
      },
      "execution_count": null,
      "outputs": []
    },
    {
      "cell_type": "code",
      "source": [
        "# Plot the time series\n",
        "plt.figure(figsize=(12, 5))\n",
        "plt.plot(data['date'], data['co2'], label='CO₂ concentration')\n",
        "plt.title(\"Monthly atmospheric CO₂ concentration in Mauna Loa\")\n",
        "plt.xlabel(\"Year\")\n",
        "plt.ylabel(\"CO₂ (ppm)\")\n",
        "plt.grid(True)\n",
        "plt.tight_layout()\n",
        "plt.show()"
      ],
      "metadata": {
        "id": "VcNm_JfB9JFH"
      },
      "execution_count": null,
      "outputs": []
    },
    {
      "cell_type": "markdown",
      "source": [
        "We see from the plot above that there is an increasing trend over time with some seasonal patterns.\n",
        "\n",
        "Let's look at the seasonal patterns more in detail."
      ],
      "metadata": {
        "id": "sU-vVdxX9z9N"
      }
    },
    {
      "cell_type": "code",
      "source": [
        "# Extract components\n",
        "co2_series = data['co2']\n",
        "years = pd.DatetimeIndex(data['date']).year\n",
        "months = pd.DatetimeIndex(data['date']).month"
      ],
      "metadata": {
        "id": "X5D6LVUEqBXN"
      },
      "execution_count": null,
      "outputs": []
    },
    {
      "cell_type": "code",
      "source": [
        "co2_df = pd.DataFrame({\n",
        "    'CO2': co2_series.values,\n",
        "    'year': years,\n",
        "    'month': months,\n",
        "    'date': data['date']\n",
        "})\n",
        "\n",
        "co2_df['year'] = co2_df['year'].astype(str)\n",
        "\n",
        "import calendar\n",
        "co2_df['monthn'] = co2_df['month']\n",
        "co2_df['month'] = co2_df['month'].apply(lambda x: calendar.month_abbr[x])\n",
        "\n",
        "co2_df"
      ],
      "metadata": {
        "id": "sRk1u4mRmnmx"
      },
      "execution_count": null,
      "outputs": []
    },
    {
      "cell_type": "code",
      "source": [
        "## order months explicitly\n",
        "month_order = [\"Jan\", \"Feb\", \"Mar\", \"Apr\", \"May\", \"Jun\",\n",
        "          \"Jul\", \"Aug\", \"Sep\", \"Oct\", \"Nov\", \"Dec\"]\n",
        "co2_df['month'] = pd.Categorical(co2_df['month'], categories=month_order, ordered=True)"
      ],
      "metadata": {
        "id": "5lpwj70St-YI"
      },
      "execution_count": null,
      "outputs": []
    },
    {
      "cell_type": "markdown",
      "source": [
        "This plot highlights the underlying **seasonal pattern** to be seen clearly, and also shows the changes in seasonality over time."
      ],
      "metadata": {
        "id": "EtREEUl9BFzO"
      }
    },
    {
      "cell_type": "code",
      "source": [
        "plt.figure(figsize=(12, 6))\n",
        "sns.lineplot(data=co2_df, x='month', y='CO2', hue='year', legend=False)\n",
        "plt.title('Monthly CO2 by Year')\n",
        "plt.ylabel('CO2')\n",
        "plt.show()"
      ],
      "metadata": {
        "id": "c25T_GkPmulq"
      },
      "execution_count": null,
      "outputs": []
    },
    {
      "cell_type": "markdown",
      "source": [
        "---\n",
        "\n",
        "Now we use data from two paired time series: electricity demand (Gigawatts) and temperature (Celsius degrees) from Victoria (Australia) in 2014:"
      ],
      "metadata": {
        "id": "FW9UHcwjA-zq"
      }
    },
    {
      "cell_type": "code",
      "source": [
        "url=\"https://raw.githubusercontent.com/filippob/longitudinal_data_analysis/refs/heads/main/data/elecdemand.csv\"\n",
        "elecdemand = pd.read_csv(url)\n",
        "\n",
        "elecdemand"
      ],
      "metadata": {
        "id": "yxCGiZTd75V9"
      },
      "execution_count": null,
      "outputs": []
    },
    {
      "cell_type": "code",
      "source": [
        "elecdemand['Datetime'] = pd.date_range('2014-01-01', periods=len(elecdemand), freq='30T')\n",
        "elecdemand.set_index('Datetime', inplace=True)\n",
        "elecdemand"
      ],
      "metadata": {
        "id": "XKt-_P_KC28j"
      },
      "execution_count": null,
      "outputs": []
    },
    {
      "cell_type": "code",
      "source": [
        "# Create a FacetGrid to plot 'Demand' and 'Temperature' as separate subplots\n",
        "data_melted = elecdemand.reset_index().melt(id_vars=\"Datetime\", value_vars=['Demand', 'Temperature'],\n",
        "                                      var_name=\"variable\", value_name=\"value\")\n",
        "\n",
        "g = sns.FacetGrid(data_melted, row=\"variable\", aspect = 2, height=4, sharey=False)\n",
        "g.map(sns.lineplot, \"Datetime\", \"value\")\n",
        "\n",
        "# Customize the plot with titles, axis labels, and more\n",
        "g.set_axis_labels(\"\", \"Value\")\n",
        "g.set_titles(\"{row_name}\")\n",
        "g.set_xlabels(\"Year: 2014\")\n",
        "plt.suptitle(\"Half-hourly electricity demand: Victoria, Australia\", fontsize=16, y=1.05)\n",
        "\n",
        "# Rotate x-ticks for readability\n",
        "plt.xticks(rotation=45)\n",
        "plt.tight_layout()\n",
        "plt.show()"
      ],
      "metadata": {
        "id": "n6NE92YUCcx0"
      },
      "execution_count": null,
      "outputs": []
    },
    {
      "cell_type": "markdown",
      "source": [
        "We can use a scatterplot to look at the relationship between these two time series:"
      ],
      "metadata": {
        "id": "MMAl0RNQXGoZ"
      }
    },
    {
      "cell_type": "code",
      "source": [
        "## scatterplot\n",
        "x = np.array(elecdemand['Temperature'])\n",
        "y = np.array(elecdemand['Demand'])\n",
        "\n",
        "plt.scatter(x, y, alpha=0.5)\n",
        "plt.show()"
      ],
      "metadata": {
        "id": "Cn5EcN6YDiR2"
      },
      "execution_count": null,
      "outputs": []
    },
    {
      "cell_type": "code",
      "source": [
        "#from statsmodels.graphics.tsaplots import lag_plot\n",
        "# Load the CO2 dataset (monthly atmospheric CO2 from Mauna Loa)\n",
        "data = sm.datasets.co2.load_pandas().data\n",
        "\n",
        "# Convert the index to datetime and interpolate missing values\n",
        "data = data.resample('M').mean().interpolate()\n",
        "\n",
        "# Extract data starting from 1980\n",
        "co2x = data[data.index >= '1980-01-01']\n",
        "co2x['date'] = co2x.index\n",
        "co2x['month'] = pd.DatetimeIndex(co2x['date']).month\n",
        "co2x"
      ],
      "metadata": {
        "id": "vJDyxA_YX-k8"
      },
      "execution_count": null,
      "outputs": []
    },
    {
      "cell_type": "markdown",
      "source": [
        "#### Lag plots\n",
        "\n",
        "Below examples of:\n",
        "1. no autocorrelation in the time series\n",
        "2. moderate autocorrelations in the time series\n",
        "3. strong autocorrelations in the time series\n",
        "\n",
        "[figures from https://www.geeksforgeeks.org/lag-plots/]"
      ],
      "metadata": {
        "id": "3g0ZL_3sgVUp"
      }
    },
    {
      "cell_type": "markdown",
      "source": [
        "![no_autocorrelation](https://drive.google.com/uc?export=view&id=1f3dI0osQNRTTC2urjGaJEwFzkoZWLwhE)"
      ],
      "metadata": {
        "id": "rY35oAUTf8Xj"
      }
    },
    {
      "cell_type": "markdown",
      "source": [
        "![weak_autocorrelation](https://drive.google.com/uc?export=view&id=1FRLtzYcJ_qBkTnqTDu7kOgigDEQCzjPs)"
      ],
      "metadata": {
        "id": "l-spBM4XgJri"
      }
    },
    {
      "cell_type": "markdown",
      "source": [
        "![strong_autocorrelation](https://drive.google.com/uc?export=view&id=1Pn1fignZOr--wRgybqc457Oq0ojNfmce)"
      ],
      "metadata": {
        "id": "3FaVl--ygqm6"
      }
    },
    {
      "cell_type": "markdown",
      "source": [
        "Let's make a lag plot with the CO2 data we used before:"
      ],
      "metadata": {
        "id": "u8FFPFSehHDv"
      }
    },
    {
      "cell_type": "code",
      "source": [
        "# Plot lag plots for lags 1 through 6\n",
        "plt.figure(figsize=(12, 8))\n",
        "for i in range(1, 7):\n",
        "    plt.subplot(2, 3, i)\n",
        "    pd.plotting.lag_plot(co2x['co2'], lag=i)\n",
        "    plt.title(f'Lag {i}')\n",
        "plt.tight_layout()\n",
        "plt.show()"
      ],
      "metadata": {
        "id": "1IO_thvhXDXm"
      },
      "execution_count": null,
      "outputs": []
    },
    {
      "cell_type": "markdown",
      "source": [
        "## Autocorrelations\n",
        "\n",
        "Autocorrelation is used to measure the degree of similarity between a time series and a lagged version of itself over the given range of time intervals.\n",
        "We can also call autocorrelation as *serial correlation* or *lagged correlation*.\n",
        "It is mainly used to measure the relationship between the current values and the previous values.\n",
        "\n",
        "$$\n",
        "r_k = \\frac{\\sum_{t=k+1}^T (y_t-\\bar{y})(y_{t-k}-\\bar{y})}{\\sum_{t=1}^T(y_t-\\bar{y})^2}\n",
        "$$"
      ],
      "metadata": {
        "id": "9HoqI7GkoDRq"
      }
    },
    {
      "cell_type": "markdown",
      "source": [
        "We start with a made-up sequence:"
      ],
      "metadata": {
        "id": "78CXbQEPvXvv"
      }
    },
    {
      "cell_type": "code",
      "source": [
        "v = np.array([12,34,56,30,23,15,28,36,45,31,21,10,29,40,58,64,78,90])\n",
        "plt.plot(v)"
      ],
      "metadata": {
        "id": "ZY7oX-TyZO6u"
      },
      "execution_count": null,
      "outputs": []
    },
    {
      "cell_type": "markdown",
      "source": [
        "With lag = 0, the autocorrelation is clearly $1$: $\\frac{\\sum (y_t-\\bar{y}) \\cdot (y_t-\\bar{y})}{\\sum (y_t-\\bar{y})^2}$.\n",
        "\n",
        "With lag = $1$, we calculate the correlation between the two vectors ($n$ is the length of the vector):\n",
        "\n",
        "-   v[2,n]\n",
        "-   v[1,n-1]"
      ],
      "metadata": {
        "id": "JeMEkj86oVgF"
      }
    },
    {
      "cell_type": "code",
      "source": [
        "n = len(v)\n",
        "v_avg = np.mean(v)\n",
        "v1 = v[1:n] ##\n",
        "v2 = v[0:(n-1)]"
      ],
      "metadata": {
        "id": "5GthRoyvoOiv"
      },
      "execution_count": null,
      "outputs": []
    },
    {
      "cell_type": "code",
      "source": [
        "adj_v = (v - v_avg)\n",
        "adj_v1 = v1 - v_avg\n",
        "adj_v2 = v2 - v_avg"
      ],
      "metadata": {
        "id": "0f3hFW2Dpt3s"
      },
      "execution_count": null,
      "outputs": []
    },
    {
      "cell_type": "code",
      "source": [
        "r1 = np.inner(adj_v1, adj_v2) / np.inner(adj_v, adj_v)\n",
        "print(r1)"
      ],
      "metadata": {
        "id": "j5qHxKBPpy9a"
      },
      "execution_count": null,
      "outputs": []
    },
    {
      "cell_type": "markdown",
      "source": [
        "**Q: can you calculate the autocorrelation with lag = 2?** (let's do this together!)"
      ],
      "metadata": {
        "id": "lkLOD4Uirlci"
      }
    },
    {
      "cell_type": "code",
      "source": [
        "## LAG 2\n",
        "n = len(v)\n",
        "v_avg = np.mean(v)\n",
        "v1 = v[2:n]\n",
        "v2 = v[0:(n-2)]"
      ],
      "metadata": {
        "id": "EOcK5VjIrJ7q"
      },
      "execution_count": null,
      "outputs": []
    },
    {
      "cell_type": "code",
      "source": [
        "## autocorrelation with lag = 1\n",
        "r1 = np.inner((v1 - v_avg), (v2 - v_avg))/np.inner((v - v_avg), (v - v_avg))\n",
        "print(r1)"
      ],
      "metadata": {
        "id": "HNQzu-i8r8Gc"
      },
      "execution_count": null,
      "outputs": []
    },
    {
      "cell_type": "code",
      "source": [
        "from statsmodels.tsa.stattools import acf\n",
        "\n",
        "# Compute autocorrelation without plotting\n",
        "acf_values = acf(v, fft=False)\n",
        "print(acf_values)"
      ],
      "metadata": {
        "id": "BoMTwIrHr4oL"
      },
      "execution_count": null,
      "outputs": []
    },
    {
      "cell_type": "code",
      "source": [
        "# Plot autocorrelation\n",
        "from statsmodels.graphics.tsaplots import plot_acf\n",
        "plot_acf(v, lags=12)\n",
        "plt.show()"
      ],
      "metadata": {
        "id": "NLKRUfQnsfuD"
      },
      "execution_count": null,
      "outputs": []
    },
    {
      "cell_type": "markdown",
      "source": [
        "Now we apply the calculation of autocorrelations to the CO2 and electricity demand time series that we encountered before:"
      ],
      "metadata": {
        "id": "yZ9EgAc-xKZZ"
      }
    },
    {
      "cell_type": "code",
      "source": [
        "acf(data['co2'], nlags = 10)"
      ],
      "metadata": {
        "id": "x_edb7Nussh8"
      },
      "execution_count": null,
      "outputs": []
    },
    {
      "cell_type": "code",
      "source": [
        "plot_acf(data['co2'], lags=26)\n",
        "plt.show()"
      ],
      "metadata": {
        "id": "Ez1FpmTUqFoB"
      },
      "execution_count": null,
      "outputs": []
    },
    {
      "cell_type": "code",
      "source": [
        "elecdemand"
      ],
      "metadata": {
        "id": "hA5O-R-qqllz"
      },
      "execution_count": null,
      "outputs": []
    },
    {
      "cell_type": "code",
      "source": [
        "acf(elecdemand['Demand'], nlags = 10)"
      ],
      "metadata": {
        "id": "R4H-a0a-xY_A"
      },
      "execution_count": null,
      "outputs": []
    },
    {
      "cell_type": "code",
      "source": [
        "plot_acf(elecdemand['Demand'], lags=800)\n",
        "plt.show()"
      ],
      "metadata": {
        "id": "3ZSFmMtTxf-J"
      },
      "execution_count": null,
      "outputs": []
    },
    {
      "cell_type": "code",
      "source": [
        "acf(elecdemand['Temperature'], nlags = 50)"
      ],
      "metadata": {
        "id": "BYwmvYNS1Hul"
      },
      "execution_count": null,
      "outputs": []
    },
    {
      "cell_type": "code",
      "source": [
        "plot_acf(elecdemand['Temperature'], lags=len(elecdemand)-1)\n",
        "plt.show()"
      ],
      "metadata": {
        "id": "hn2GWIHIzp1f"
      },
      "execution_count": null,
      "outputs": []
    },
    {
      "cell_type": "markdown",
      "source": [
        "### White noise time series\n",
        "\n",
        "Time series that show no autocorrelation are called white noise."
      ],
      "metadata": {
        "id": "TiSpMAt91ENR"
      }
    },
    {
      "cell_type": "code",
      "source": [
        "y = np.random.randn(50)\n",
        "plt.plot(y)\n",
        "\n",
        "plt.title(\"White noise series\")\n",
        "\n",
        "plt.show()"
      ],
      "metadata": {
        "id": "KCcj-PCP0kNy"
      },
      "execution_count": null,
      "outputs": []
    },
    {
      "cell_type": "code",
      "source": [
        "acf(y)"
      ],
      "metadata": {
        "id": "9MobjkAy3U7z"
      },
      "execution_count": null,
      "outputs": []
    },
    {
      "cell_type": "code",
      "source": [
        "y[1:]"
      ],
      "metadata": {
        "id": "XGvHnWwa4UV_"
      },
      "execution_count": null,
      "outputs": []
    },
    {
      "cell_type": "code",
      "source": [
        "plot_acf(y)\n",
        "plt.show()"
      ],
      "metadata": {
        "id": "WMYWUIWi32LC"
      },
      "execution_count": null,
      "outputs": []
    },
    {
      "cell_type": "markdown",
      "source": [
        "For **white noise series**, we expect each autocorrelation to be close to zero.\n",
        "Of course, they will not be exactly equal to zero as there is random variation.\n",
        "For a white noise series, we expect $95\\%$ of the spikes in the autocorrelation plot to lie within:\n",
        "\n",
        "$$\n",
        "\\pm \\frac{2}{\\sqrt{T}}\n",
        "$$\n",
        "\n",
        "where $T$ is the length of the time series.\n",
        "\n",
        "It is common to plot these bounds on the graph (the blue dashed lines above).\n",
        "If one or more large spikes are outside these bounds, or if substantially more than 5% of spikes are outside these bounds, then the series is probably not white noise.\n",
        "\n",
        "In this white noise series, $T = 50$ and so the bounds are at $\\pm \\frac{2}{\\sqrt{50}}= \\pm 0.28$.\n",
        "All of the autocorrelation coefficients lie within these limits, confirming that the data are white noise."
      ],
      "metadata": {
        "id": "lnV2brVU4Qvm"
      }
    }
  ]
}